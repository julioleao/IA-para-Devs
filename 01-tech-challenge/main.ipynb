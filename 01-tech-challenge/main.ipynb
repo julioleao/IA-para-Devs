{
  "cells": [
    {
      "cell_type": "markdown",
      "id": "5fee56fd",
      "metadata": {
        "id": "5fee56fd"
      },
      "source": [
        "## Tech Challenge <01>"
      ]
    },
    {
      "cell_type": "markdown",
      "id": "324ac16f",
      "metadata": {
        "id": "324ac16f"
      },
      "source": [
        "### Grupo"
      ]
    },
    {
      "cell_type": "markdown",
      "id": "14605ad4",
      "metadata": {
        "id": "14605ad4"
      },
      "source": [
        "### Curso\n",
        "Pós graduação em IA para Devs"
      ]
    },
    {
      "cell_type": "markdown",
      "id": "c3b2df83",
      "metadata": {
        "id": "c3b2df83"
      },
      "source": [
        "### Desafio\n",
        "\n",
        "\n",
        "Você é um profissional encarregado de desenvolver um modelo preditivo de regressão para prever o valor dos custos médicos individuais cobrados pelo seguro de saúde.\n",
        "\n",
        "A base de dados para este desafio pode ser algo como no exemplo a seguir:\n",
        "\n",
        "```bash\n",
        "idade,gênero,imc,filhos,fumante,região,encargos\n",
        "56,feminino,29.774373714007336,2,sim,sudoeste,31109.889763423336\n",
        "46,masculino,25.857394655216346,1,não,nordeste,26650.702646642694\n",
        "32,masculino,23.014839993647488,0,não,sudoeste,21459.03799039332\n",
        "```\n",
        "\n",
        "Você precisa apenas alimentar ela com mais informações ou utilizar uma outra de sua preferência.\n",
        "\n",
        "#### Tarefas\n",
        "\n",
        "##### Exploração de dados\n",
        "- Carregue a base de dados e explore suas características.\n",
        "- Analise estatísticas descritivas e visualize distribuições relevantes.\n",
        "\n",
        "##### Pré-processamento de dados\n",
        "- Realize a limpeza dos dados, tratando valores ausentes (se necessário).\n",
        "- Converta variáveis categóricas em formatos adequados para modelagem.\n",
        "\n",
        "##### Modelagem\n",
        "- Crie um modelo preditivo de regressão utilizando uma técnica à sua escolha (por exemplo, Regressão Linear, Árvores de Decisão, etc).\n",
        "- Divida o conjunto de dados em conjuntos de treinamento e teste.\n",
        "\n",
        "##### Treinamento e avaliação do modelo\n",
        "- Treine o modelo com o conjunto de treinamento.\n",
        "\n",
        "##### Validação estatística\n",
        "- Utilize métricas estatísticas para validar a eficácia do modelo (p-value, intervalos de confiança).\n",
        "\n",
        "##### O que avaliaremos\n",
        "Apresente resultados visuais, como gráficos de previsões vs. valores reais.\n",
        "\n",
        "##### Observações\n",
        "Elabore um relatório que inclua uma análise dos resultados, insights obtidos e validação estatística.\n",
        "Esperamos que o modelo seja capaz de fazer previsões confiáveis dos custos médicos individuais com base nas características fornecidas.\n"
      ]
    },
    {
      "cell_type": "markdown",
      "id": "1b151ba2",
      "metadata": {
        "id": "1b151ba2"
      },
      "source": [
        "### Base de dados\n",
        "\n",
        "Nossa base de dados se encontra para download no [kaggle](https://www.kaggle.com/datasets/mirichoi0218/insurance).\n",
        "\n",
        "Trata-se de um levantamento de um plano de saúde, mostrando a relação do custo das despesas médicas e as características de cada beneficiário do seguro.\n",
        "\n",
        "#### Colunas\n",
        "\n",
        "- age: Idade do beneficiário\n",
        "\n",
        "- sex: Gênero do contratante do seguro (male, female)\n",
        "\n",
        "- bmi: Índice de massa corporal, que fornece uma compreensão do corpo, pesos relativamente altos ou baixos em relação à altura,\n",
        "índice objetivo de peso corporal (kg/m ^ 2) usando a relação entre altura e peso, idealmente 18,5 a 24,9\n",
        "\n",
        "- children: Numéro de filhos / dependentes cobertos pelo seguro\n",
        "\n",
        "- smoker: Fumante\n",
        "\n",
        "- region: Área onde o beneficiário reside nos Estados Unidos (northeast, southeast, southwest, northwest).\n",
        "\n",
        "- charges: Despesas médicas individuais pagas pelo seguro de saúde"
      ]
    },
    {
      "cell_type": "markdown",
      "id": "90b4feb5",
      "metadata": {
        "id": "90b4feb5"
      },
      "source": [
        "## Get Started"
      ]
    },
    {
      "cell_type": "markdown",
      "id": "12d912b1",
      "metadata": {
        "id": "12d912b1"
      },
      "source": [
        "#### Imports"
      ]
    },
    {
      "cell_type": "code",
      "execution_count": 112,
      "id": "b8f25635-b793-4c94-906b-ab22ad775cbe",
      "metadata": {
        "id": "b8f25635-b793-4c94-906b-ab22ad775cbe"
      },
      "outputs": [],
      "source": [
        "import pandas as pd\n",
        "import matplotlib as mpl\n",
        "import matplotlib.pyplot as plt\n",
        "import numpy as np\n",
        "import seaborn as sns\n",
        "import plotly.express as px\n",
        "import plotly.graph_objects as go"
      ]
    },
    {
      "cell_type": "code",
      "execution_count": 2,
      "id": "57f0c77c-57fd-4714-a928-0962fa2cf622",
      "metadata": {
        "id": "57f0c77c-57fd-4714-a928-0962fa2cf622"
      },
      "outputs": [],
      "source": [
        "from sklearn.model_selection import train_test_split\n",
        "from sklearn.linear_model import LinearRegression\n",
        "from sklearn.tree import DecisionTreeRegressor\n",
        "from sklearn.metrics import mean_squared_error, mean_absolute_error, r2_score"
      ]
    },
    {
      "cell_type": "markdown",
      "id": "fd2c2b85",
      "metadata": {
        "id": "fd2c2b85"
      },
      "source": [
        "#### Configurações"
      ]
    },
    {
      "cell_type": "code",
      "execution_count": 3,
      "id": "75b34f5c",
      "metadata": {
        "id": "75b34f5c"
      },
      "outputs": [],
      "source": [
        "np.random.seed(42)\n",
        "\n",
        "mpl.rc('axes', labelsize=14)\n",
        "mpl.rc('xtick', labelsize=12)\n",
        "mpl.rc('ytick', labelsize=12)"
      ]
    },
    {
      "cell_type": "code",
      "source": [
        "def print_model_stats(y_test, y_predictions):\n",
        "    erro_medio_quadratico = mean_squared_error(y_test, y_predictions)\n",
        "    erro_medio_absoluto = mean_absolute_error(y_test, y_predictions)\n",
        "    r_quadrado = r2_score(y_test, y_predictions)\n",
        "\n",
        "    print(f'Mean Square Error: {erro_medio_quadratico:4f}')\n",
        "    print(f'Mean Absolute Error: {erro_medio_absoluto:4f}')\n",
        "    print(f'R² (determination coefficient): {r_quadrado:4f}')"
      ],
      "metadata": {
        "id": "SRfUAdn_oY0Z"
      },
      "id": "SRfUAdn_oY0Z",
      "execution_count": 4,
      "outputs": []
    },
    {
      "cell_type": "markdown",
      "id": "c92b08d0",
      "metadata": {
        "id": "c92b08d0"
      },
      "source": [
        "#### Carregando os dados"
      ]
    },
    {
      "cell_type": "markdown",
      "id": "ed3f85df",
      "metadata": {
        "id": "ed3f85df"
      },
      "source": [
        "Utilizando o pandas para carregar a base de dados `.csv` e mostrando as primeiras 5 linhas da tabela com `dados.head()`"
      ]
    },
    {
      "cell_type": "code",
      "execution_count": 5,
      "id": "bc3d3250-09bd-483e-ac75-93cdad8d837b",
      "metadata": {
        "colab": {
          "base_uri": "https://localhost:8080/",
          "height": 206
        },
        "id": "bc3d3250-09bd-483e-ac75-93cdad8d837b",
        "outputId": "71a764e6-961f-4f7c-dc51-42e022f0f5be"
      },
      "outputs": [
        {
          "output_type": "execute_result",
          "data": {
            "text/plain": [
              "   age     sex     bmi  children smoker     region      charges\n",
              "0   19  female  27.900         0    yes  southwest  16884.92400\n",
              "1   18    male  33.770         1     no  southeast   1725.55230\n",
              "2   28    male  33.000         3     no  southeast   4449.46200\n",
              "3   33    male  22.705         0     no  northwest  21984.47061\n",
              "4   32    male  28.880         0     no  northwest   3866.85520"
            ],
            "text/html": [
              "\n",
              "  <div id=\"df-29f52f11-04fc-4eaa-8caf-fc046dd5c0b7\" class=\"colab-df-container\">\n",
              "    <div>\n",
              "<style scoped>\n",
              "    .dataframe tbody tr th:only-of-type {\n",
              "        vertical-align: middle;\n",
              "    }\n",
              "\n",
              "    .dataframe tbody tr th {\n",
              "        vertical-align: top;\n",
              "    }\n",
              "\n",
              "    .dataframe thead th {\n",
              "        text-align: right;\n",
              "    }\n",
              "</style>\n",
              "<table border=\"1\" class=\"dataframe\">\n",
              "  <thead>\n",
              "    <tr style=\"text-align: right;\">\n",
              "      <th></th>\n",
              "      <th>age</th>\n",
              "      <th>sex</th>\n",
              "      <th>bmi</th>\n",
              "      <th>children</th>\n",
              "      <th>smoker</th>\n",
              "      <th>region</th>\n",
              "      <th>charges</th>\n",
              "    </tr>\n",
              "  </thead>\n",
              "  <tbody>\n",
              "    <tr>\n",
              "      <th>0</th>\n",
              "      <td>19</td>\n",
              "      <td>female</td>\n",
              "      <td>27.900</td>\n",
              "      <td>0</td>\n",
              "      <td>yes</td>\n",
              "      <td>southwest</td>\n",
              "      <td>16884.92400</td>\n",
              "    </tr>\n",
              "    <tr>\n",
              "      <th>1</th>\n",
              "      <td>18</td>\n",
              "      <td>male</td>\n",
              "      <td>33.770</td>\n",
              "      <td>1</td>\n",
              "      <td>no</td>\n",
              "      <td>southeast</td>\n",
              "      <td>1725.55230</td>\n",
              "    </tr>\n",
              "    <tr>\n",
              "      <th>2</th>\n",
              "      <td>28</td>\n",
              "      <td>male</td>\n",
              "      <td>33.000</td>\n",
              "      <td>3</td>\n",
              "      <td>no</td>\n",
              "      <td>southeast</td>\n",
              "      <td>4449.46200</td>\n",
              "    </tr>\n",
              "    <tr>\n",
              "      <th>3</th>\n",
              "      <td>33</td>\n",
              "      <td>male</td>\n",
              "      <td>22.705</td>\n",
              "      <td>0</td>\n",
              "      <td>no</td>\n",
              "      <td>northwest</td>\n",
              "      <td>21984.47061</td>\n",
              "    </tr>\n",
              "    <tr>\n",
              "      <th>4</th>\n",
              "      <td>32</td>\n",
              "      <td>male</td>\n",
              "      <td>28.880</td>\n",
              "      <td>0</td>\n",
              "      <td>no</td>\n",
              "      <td>northwest</td>\n",
              "      <td>3866.85520</td>\n",
              "    </tr>\n",
              "  </tbody>\n",
              "</table>\n",
              "</div>\n",
              "    <div class=\"colab-df-buttons\">\n",
              "\n",
              "  <div class=\"colab-df-container\">\n",
              "    <button class=\"colab-df-convert\" onclick=\"convertToInteractive('df-29f52f11-04fc-4eaa-8caf-fc046dd5c0b7')\"\n",
              "            title=\"Convert this dataframe to an interactive table.\"\n",
              "            style=\"display:none;\">\n",
              "\n",
              "  <svg xmlns=\"http://www.w3.org/2000/svg\" height=\"24px\" viewBox=\"0 -960 960 960\">\n",
              "    <path d=\"M120-120v-720h720v720H120Zm60-500h600v-160H180v160Zm220 220h160v-160H400v160Zm0 220h160v-160H400v160ZM180-400h160v-160H180v160Zm440 0h160v-160H620v160ZM180-180h160v-160H180v160Zm440 0h160v-160H620v160Z\"/>\n",
              "  </svg>\n",
              "    </button>\n",
              "\n",
              "  <style>\n",
              "    .colab-df-container {\n",
              "      display:flex;\n",
              "      gap: 12px;\n",
              "    }\n",
              "\n",
              "    .colab-df-convert {\n",
              "      background-color: #E8F0FE;\n",
              "      border: none;\n",
              "      border-radius: 50%;\n",
              "      cursor: pointer;\n",
              "      display: none;\n",
              "      fill: #1967D2;\n",
              "      height: 32px;\n",
              "      padding: 0 0 0 0;\n",
              "      width: 32px;\n",
              "    }\n",
              "\n",
              "    .colab-df-convert:hover {\n",
              "      background-color: #E2EBFA;\n",
              "      box-shadow: 0px 1px 2px rgba(60, 64, 67, 0.3), 0px 1px 3px 1px rgba(60, 64, 67, 0.15);\n",
              "      fill: #174EA6;\n",
              "    }\n",
              "\n",
              "    .colab-df-buttons div {\n",
              "      margin-bottom: 4px;\n",
              "    }\n",
              "\n",
              "    [theme=dark] .colab-df-convert {\n",
              "      background-color: #3B4455;\n",
              "      fill: #D2E3FC;\n",
              "    }\n",
              "\n",
              "    [theme=dark] .colab-df-convert:hover {\n",
              "      background-color: #434B5C;\n",
              "      box-shadow: 0px 1px 3px 1px rgba(0, 0, 0, 0.15);\n",
              "      filter: drop-shadow(0px 1px 2px rgba(0, 0, 0, 0.3));\n",
              "      fill: #FFFFFF;\n",
              "    }\n",
              "  </style>\n",
              "\n",
              "    <script>\n",
              "      const buttonEl =\n",
              "        document.querySelector('#df-29f52f11-04fc-4eaa-8caf-fc046dd5c0b7 button.colab-df-convert');\n",
              "      buttonEl.style.display =\n",
              "        google.colab.kernel.accessAllowed ? 'block' : 'none';\n",
              "\n",
              "      async function convertToInteractive(key) {\n",
              "        const element = document.querySelector('#df-29f52f11-04fc-4eaa-8caf-fc046dd5c0b7');\n",
              "        const dataTable =\n",
              "          await google.colab.kernel.invokeFunction('convertToInteractive',\n",
              "                                                    [key], {});\n",
              "        if (!dataTable) return;\n",
              "\n",
              "        const docLinkHtml = 'Like what you see? Visit the ' +\n",
              "          '<a target=\"_blank\" href=https://colab.research.google.com/notebooks/data_table.ipynb>data table notebook</a>'\n",
              "          + ' to learn more about interactive tables.';\n",
              "        element.innerHTML = '';\n",
              "        dataTable['output_type'] = 'display_data';\n",
              "        await google.colab.output.renderOutput(dataTable, element);\n",
              "        const docLink = document.createElement('div');\n",
              "        docLink.innerHTML = docLinkHtml;\n",
              "        element.appendChild(docLink);\n",
              "      }\n",
              "    </script>\n",
              "  </div>\n",
              "\n",
              "\n",
              "<div id=\"df-54154d6d-a22c-4884-bc7a-a37b5a25503d\">\n",
              "  <button class=\"colab-df-quickchart\" onclick=\"quickchart('df-54154d6d-a22c-4884-bc7a-a37b5a25503d')\"\n",
              "            title=\"Suggest charts\"\n",
              "            style=\"display:none;\">\n",
              "\n",
              "<svg xmlns=\"http://www.w3.org/2000/svg\" height=\"24px\"viewBox=\"0 0 24 24\"\n",
              "     width=\"24px\">\n",
              "    <g>\n",
              "        <path d=\"M19 3H5c-1.1 0-2 .9-2 2v14c0 1.1.9 2 2 2h14c1.1 0 2-.9 2-2V5c0-1.1-.9-2-2-2zM9 17H7v-7h2v7zm4 0h-2V7h2v10zm4 0h-2v-4h2v4z\"/>\n",
              "    </g>\n",
              "</svg>\n",
              "  </button>\n",
              "\n",
              "<style>\n",
              "  .colab-df-quickchart {\n",
              "      --bg-color: #E8F0FE;\n",
              "      --fill-color: #1967D2;\n",
              "      --hover-bg-color: #E2EBFA;\n",
              "      --hover-fill-color: #174EA6;\n",
              "      --disabled-fill-color: #AAA;\n",
              "      --disabled-bg-color: #DDD;\n",
              "  }\n",
              "\n",
              "  [theme=dark] .colab-df-quickchart {\n",
              "      --bg-color: #3B4455;\n",
              "      --fill-color: #D2E3FC;\n",
              "      --hover-bg-color: #434B5C;\n",
              "      --hover-fill-color: #FFFFFF;\n",
              "      --disabled-bg-color: #3B4455;\n",
              "      --disabled-fill-color: #666;\n",
              "  }\n",
              "\n",
              "  .colab-df-quickchart {\n",
              "    background-color: var(--bg-color);\n",
              "    border: none;\n",
              "    border-radius: 50%;\n",
              "    cursor: pointer;\n",
              "    display: none;\n",
              "    fill: var(--fill-color);\n",
              "    height: 32px;\n",
              "    padding: 0;\n",
              "    width: 32px;\n",
              "  }\n",
              "\n",
              "  .colab-df-quickchart:hover {\n",
              "    background-color: var(--hover-bg-color);\n",
              "    box-shadow: 0 1px 2px rgba(60, 64, 67, 0.3), 0 1px 3px 1px rgba(60, 64, 67, 0.15);\n",
              "    fill: var(--button-hover-fill-color);\n",
              "  }\n",
              "\n",
              "  .colab-df-quickchart-complete:disabled,\n",
              "  .colab-df-quickchart-complete:disabled:hover {\n",
              "    background-color: var(--disabled-bg-color);\n",
              "    fill: var(--disabled-fill-color);\n",
              "    box-shadow: none;\n",
              "  }\n",
              "\n",
              "  .colab-df-spinner {\n",
              "    border: 2px solid var(--fill-color);\n",
              "    border-color: transparent;\n",
              "    border-bottom-color: var(--fill-color);\n",
              "    animation:\n",
              "      spin 1s steps(1) infinite;\n",
              "  }\n",
              "\n",
              "  @keyframes spin {\n",
              "    0% {\n",
              "      border-color: transparent;\n",
              "      border-bottom-color: var(--fill-color);\n",
              "      border-left-color: var(--fill-color);\n",
              "    }\n",
              "    20% {\n",
              "      border-color: transparent;\n",
              "      border-left-color: var(--fill-color);\n",
              "      border-top-color: var(--fill-color);\n",
              "    }\n",
              "    30% {\n",
              "      border-color: transparent;\n",
              "      border-left-color: var(--fill-color);\n",
              "      border-top-color: var(--fill-color);\n",
              "      border-right-color: var(--fill-color);\n",
              "    }\n",
              "    40% {\n",
              "      border-color: transparent;\n",
              "      border-right-color: var(--fill-color);\n",
              "      border-top-color: var(--fill-color);\n",
              "    }\n",
              "    60% {\n",
              "      border-color: transparent;\n",
              "      border-right-color: var(--fill-color);\n",
              "    }\n",
              "    80% {\n",
              "      border-color: transparent;\n",
              "      border-right-color: var(--fill-color);\n",
              "      border-bottom-color: var(--fill-color);\n",
              "    }\n",
              "    90% {\n",
              "      border-color: transparent;\n",
              "      border-bottom-color: var(--fill-color);\n",
              "    }\n",
              "  }\n",
              "</style>\n",
              "\n",
              "  <script>\n",
              "    async function quickchart(key) {\n",
              "      const quickchartButtonEl =\n",
              "        document.querySelector('#' + key + ' button');\n",
              "      quickchartButtonEl.disabled = true;  // To prevent multiple clicks.\n",
              "      quickchartButtonEl.classList.add('colab-df-spinner');\n",
              "      try {\n",
              "        const charts = await google.colab.kernel.invokeFunction(\n",
              "            'suggestCharts', [key], {});\n",
              "      } catch (error) {\n",
              "        console.error('Error during call to suggestCharts:', error);\n",
              "      }\n",
              "      quickchartButtonEl.classList.remove('colab-df-spinner');\n",
              "      quickchartButtonEl.classList.add('colab-df-quickchart-complete');\n",
              "    }\n",
              "    (() => {\n",
              "      let quickchartButtonEl =\n",
              "        document.querySelector('#df-54154d6d-a22c-4884-bc7a-a37b5a25503d button');\n",
              "      quickchartButtonEl.style.display =\n",
              "        google.colab.kernel.accessAllowed ? 'block' : 'none';\n",
              "    })();\n",
              "  </script>\n",
              "</div>\n",
              "\n",
              "    </div>\n",
              "  </div>\n"
            ],
            "application/vnd.google.colaboratory.intrinsic+json": {
              "type": "dataframe",
              "variable_name": "dados",
              "summary": "{\n  \"name\": \"dados\",\n  \"rows\": 1338,\n  \"fields\": [\n    {\n      \"column\": \"age\",\n      \"properties\": {\n        \"dtype\": \"number\",\n        \"std\": 14,\n        \"min\": 18,\n        \"max\": 64,\n        \"num_unique_values\": 47,\n        \"samples\": [\n          21,\n          45,\n          36\n        ],\n        \"semantic_type\": \"\",\n        \"description\": \"\"\n      }\n    },\n    {\n      \"column\": \"sex\",\n      \"properties\": {\n        \"dtype\": \"category\",\n        \"num_unique_values\": 2,\n        \"samples\": [\n          \"male\",\n          \"female\"\n        ],\n        \"semantic_type\": \"\",\n        \"description\": \"\"\n      }\n    },\n    {\n      \"column\": \"bmi\",\n      \"properties\": {\n        \"dtype\": \"number\",\n        \"std\": 6.098186911679014,\n        \"min\": 15.96,\n        \"max\": 53.13,\n        \"num_unique_values\": 548,\n        \"samples\": [\n          23.18,\n          26.885\n        ],\n        \"semantic_type\": \"\",\n        \"description\": \"\"\n      }\n    },\n    {\n      \"column\": \"children\",\n      \"properties\": {\n        \"dtype\": \"number\",\n        \"std\": 1,\n        \"min\": 0,\n        \"max\": 5,\n        \"num_unique_values\": 6,\n        \"samples\": [\n          0,\n          1\n        ],\n        \"semantic_type\": \"\",\n        \"description\": \"\"\n      }\n    },\n    {\n      \"column\": \"smoker\",\n      \"properties\": {\n        \"dtype\": \"category\",\n        \"num_unique_values\": 2,\n        \"samples\": [\n          \"no\",\n          \"yes\"\n        ],\n        \"semantic_type\": \"\",\n        \"description\": \"\"\n      }\n    },\n    {\n      \"column\": \"region\",\n      \"properties\": {\n        \"dtype\": \"category\",\n        \"num_unique_values\": 4,\n        \"samples\": [\n          \"southeast\",\n          \"northeast\"\n        ],\n        \"semantic_type\": \"\",\n        \"description\": \"\"\n      }\n    },\n    {\n      \"column\": \"charges\",\n      \"properties\": {\n        \"dtype\": \"number\",\n        \"std\": 12110.011236694001,\n        \"min\": 1121.8739,\n        \"max\": 63770.42801,\n        \"num_unique_values\": 1337,\n        \"samples\": [\n          8688.85885,\n          5708.867\n        ],\n        \"semantic_type\": \"\",\n        \"description\": \"\"\n      }\n    }\n  ]\n}"
            }
          },
          "metadata": {},
          "execution_count": 5
        }
      ],
      "source": [
        "dados = pd.read_csv('insurance.csv')\n",
        "dados.head()"
      ]
    },
    {
      "cell_type": "markdown",
      "id": "46147864",
      "metadata": {
        "id": "46147864"
      },
      "source": [
        "Usando `dados.shape` para mostrar a quantidade de linhas e colunas. Nessa base de dados temos 1338 linhas e 7 colunas"
      ]
    },
    {
      "cell_type": "code",
      "execution_count": 6,
      "id": "000268b1",
      "metadata": {
        "colab": {
          "base_uri": "https://localhost:8080/"
        },
        "id": "000268b1",
        "outputId": "a9d94374-fa81-4222-ac46-f1485f64dff3"
      },
      "outputs": [
        {
          "output_type": "execute_result",
          "data": {
            "text/plain": [
              "(1338, 7)"
            ]
          },
          "metadata": {},
          "execution_count": 6
        }
      ],
      "source": [
        "dados.shape"
      ]
    },
    {
      "cell_type": "markdown",
      "id": "4822b088",
      "metadata": {
        "id": "4822b088"
      },
      "source": [
        "#### Analisando os dados"
      ]
    },
    {
      "cell_type": "code",
      "execution_count": 7,
      "id": "a87e9318",
      "metadata": {
        "colab": {
          "base_uri": "https://localhost:8080/"
        },
        "id": "a87e9318",
        "outputId": "03d1907c-a92e-4362-9a7d-eeabcd20bae2"
      },
      "outputs": [
        {
          "output_type": "stream",
          "name": "stdout",
          "text": [
            "<class 'pandas.core.frame.DataFrame'>\n",
            "RangeIndex: 1338 entries, 0 to 1337\n",
            "Data columns (total 7 columns):\n",
            " #   Column    Non-Null Count  Dtype  \n",
            "---  ------    --------------  -----  \n",
            " 0   age       1338 non-null   int64  \n",
            " 1   sex       1338 non-null   object \n",
            " 2   bmi       1338 non-null   float64\n",
            " 3   children  1338 non-null   int64  \n",
            " 4   smoker    1338 non-null   object \n",
            " 5   region    1338 non-null   object \n",
            " 6   charges   1338 non-null   float64\n",
            "dtypes: float64(2), int64(2), object(3)\n",
            "memory usage: 73.3+ KB\n"
          ]
        }
      ],
      "source": [
        "dados.info()"
      ]
    },
    {
      "cell_type": "markdown",
      "id": "ba4df120",
      "metadata": {
        "id": "ba4df120"
      },
      "source": [
        "Analisando as informações da base de dados, vemos que não existe nenhum dado nulo e que há 3 tipos diferentes de dados (int64, object e float64)"
      ]
    },
    {
      "cell_type": "code",
      "execution_count": 8,
      "id": "cYs7v3jhc6Gy",
      "metadata": {
        "colab": {
          "base_uri": "https://localhost:8080/",
          "height": 300
        },
        "id": "cYs7v3jhc6Gy",
        "outputId": "3c66165f-d336-46f4-b932-6dccd419503f"
      },
      "outputs": [
        {
          "output_type": "execute_result",
          "data": {
            "text/plain": [
              "               age          bmi     children       charges\n",
              "count  1338.000000  1338.000000  1338.000000   1338.000000\n",
              "mean     39.207025    30.663397     1.094918  13270.422265\n",
              "std      14.049960     6.098187     1.205493  12110.011237\n",
              "min      18.000000    15.960000     0.000000   1121.873900\n",
              "25%      27.000000    26.296250     0.000000   4740.287150\n",
              "50%      39.000000    30.400000     1.000000   9382.033000\n",
              "75%      51.000000    34.693750     2.000000  16639.912515\n",
              "max      64.000000    53.130000     5.000000  63770.428010"
            ],
            "text/html": [
              "\n",
              "  <div id=\"df-5c8946cd-4bc8-485b-b968-da7304c5339d\" class=\"colab-df-container\">\n",
              "    <div>\n",
              "<style scoped>\n",
              "    .dataframe tbody tr th:only-of-type {\n",
              "        vertical-align: middle;\n",
              "    }\n",
              "\n",
              "    .dataframe tbody tr th {\n",
              "        vertical-align: top;\n",
              "    }\n",
              "\n",
              "    .dataframe thead th {\n",
              "        text-align: right;\n",
              "    }\n",
              "</style>\n",
              "<table border=\"1\" class=\"dataframe\">\n",
              "  <thead>\n",
              "    <tr style=\"text-align: right;\">\n",
              "      <th></th>\n",
              "      <th>age</th>\n",
              "      <th>bmi</th>\n",
              "      <th>children</th>\n",
              "      <th>charges</th>\n",
              "    </tr>\n",
              "  </thead>\n",
              "  <tbody>\n",
              "    <tr>\n",
              "      <th>count</th>\n",
              "      <td>1338.000000</td>\n",
              "      <td>1338.000000</td>\n",
              "      <td>1338.000000</td>\n",
              "      <td>1338.000000</td>\n",
              "    </tr>\n",
              "    <tr>\n",
              "      <th>mean</th>\n",
              "      <td>39.207025</td>\n",
              "      <td>30.663397</td>\n",
              "      <td>1.094918</td>\n",
              "      <td>13270.422265</td>\n",
              "    </tr>\n",
              "    <tr>\n",
              "      <th>std</th>\n",
              "      <td>14.049960</td>\n",
              "      <td>6.098187</td>\n",
              "      <td>1.205493</td>\n",
              "      <td>12110.011237</td>\n",
              "    </tr>\n",
              "    <tr>\n",
              "      <th>min</th>\n",
              "      <td>18.000000</td>\n",
              "      <td>15.960000</td>\n",
              "      <td>0.000000</td>\n",
              "      <td>1121.873900</td>\n",
              "    </tr>\n",
              "    <tr>\n",
              "      <th>25%</th>\n",
              "      <td>27.000000</td>\n",
              "      <td>26.296250</td>\n",
              "      <td>0.000000</td>\n",
              "      <td>4740.287150</td>\n",
              "    </tr>\n",
              "    <tr>\n",
              "      <th>50%</th>\n",
              "      <td>39.000000</td>\n",
              "      <td>30.400000</td>\n",
              "      <td>1.000000</td>\n",
              "      <td>9382.033000</td>\n",
              "    </tr>\n",
              "    <tr>\n",
              "      <th>75%</th>\n",
              "      <td>51.000000</td>\n",
              "      <td>34.693750</td>\n",
              "      <td>2.000000</td>\n",
              "      <td>16639.912515</td>\n",
              "    </tr>\n",
              "    <tr>\n",
              "      <th>max</th>\n",
              "      <td>64.000000</td>\n",
              "      <td>53.130000</td>\n",
              "      <td>5.000000</td>\n",
              "      <td>63770.428010</td>\n",
              "    </tr>\n",
              "  </tbody>\n",
              "</table>\n",
              "</div>\n",
              "    <div class=\"colab-df-buttons\">\n",
              "\n",
              "  <div class=\"colab-df-container\">\n",
              "    <button class=\"colab-df-convert\" onclick=\"convertToInteractive('df-5c8946cd-4bc8-485b-b968-da7304c5339d')\"\n",
              "            title=\"Convert this dataframe to an interactive table.\"\n",
              "            style=\"display:none;\">\n",
              "\n",
              "  <svg xmlns=\"http://www.w3.org/2000/svg\" height=\"24px\" viewBox=\"0 -960 960 960\">\n",
              "    <path d=\"M120-120v-720h720v720H120Zm60-500h600v-160H180v160Zm220 220h160v-160H400v160Zm0 220h160v-160H400v160ZM180-400h160v-160H180v160Zm440 0h160v-160H620v160ZM180-180h160v-160H180v160Zm440 0h160v-160H620v160Z\"/>\n",
              "  </svg>\n",
              "    </button>\n",
              "\n",
              "  <style>\n",
              "    .colab-df-container {\n",
              "      display:flex;\n",
              "      gap: 12px;\n",
              "    }\n",
              "\n",
              "    .colab-df-convert {\n",
              "      background-color: #E8F0FE;\n",
              "      border: none;\n",
              "      border-radius: 50%;\n",
              "      cursor: pointer;\n",
              "      display: none;\n",
              "      fill: #1967D2;\n",
              "      height: 32px;\n",
              "      padding: 0 0 0 0;\n",
              "      width: 32px;\n",
              "    }\n",
              "\n",
              "    .colab-df-convert:hover {\n",
              "      background-color: #E2EBFA;\n",
              "      box-shadow: 0px 1px 2px rgba(60, 64, 67, 0.3), 0px 1px 3px 1px rgba(60, 64, 67, 0.15);\n",
              "      fill: #174EA6;\n",
              "    }\n",
              "\n",
              "    .colab-df-buttons div {\n",
              "      margin-bottom: 4px;\n",
              "    }\n",
              "\n",
              "    [theme=dark] .colab-df-convert {\n",
              "      background-color: #3B4455;\n",
              "      fill: #D2E3FC;\n",
              "    }\n",
              "\n",
              "    [theme=dark] .colab-df-convert:hover {\n",
              "      background-color: #434B5C;\n",
              "      box-shadow: 0px 1px 3px 1px rgba(0, 0, 0, 0.15);\n",
              "      filter: drop-shadow(0px 1px 2px rgba(0, 0, 0, 0.3));\n",
              "      fill: #FFFFFF;\n",
              "    }\n",
              "  </style>\n",
              "\n",
              "    <script>\n",
              "      const buttonEl =\n",
              "        document.querySelector('#df-5c8946cd-4bc8-485b-b968-da7304c5339d button.colab-df-convert');\n",
              "      buttonEl.style.display =\n",
              "        google.colab.kernel.accessAllowed ? 'block' : 'none';\n",
              "\n",
              "      async function convertToInteractive(key) {\n",
              "        const element = document.querySelector('#df-5c8946cd-4bc8-485b-b968-da7304c5339d');\n",
              "        const dataTable =\n",
              "          await google.colab.kernel.invokeFunction('convertToInteractive',\n",
              "                                                    [key], {});\n",
              "        if (!dataTable) return;\n",
              "\n",
              "        const docLinkHtml = 'Like what you see? Visit the ' +\n",
              "          '<a target=\"_blank\" href=https://colab.research.google.com/notebooks/data_table.ipynb>data table notebook</a>'\n",
              "          + ' to learn more about interactive tables.';\n",
              "        element.innerHTML = '';\n",
              "        dataTable['output_type'] = 'display_data';\n",
              "        await google.colab.output.renderOutput(dataTable, element);\n",
              "        const docLink = document.createElement('div');\n",
              "        docLink.innerHTML = docLinkHtml;\n",
              "        element.appendChild(docLink);\n",
              "      }\n",
              "    </script>\n",
              "  </div>\n",
              "\n",
              "\n",
              "<div id=\"df-13d122fe-60d6-43a4-88eb-24bc78c153e6\">\n",
              "  <button class=\"colab-df-quickchart\" onclick=\"quickchart('df-13d122fe-60d6-43a4-88eb-24bc78c153e6')\"\n",
              "            title=\"Suggest charts\"\n",
              "            style=\"display:none;\">\n",
              "\n",
              "<svg xmlns=\"http://www.w3.org/2000/svg\" height=\"24px\"viewBox=\"0 0 24 24\"\n",
              "     width=\"24px\">\n",
              "    <g>\n",
              "        <path d=\"M19 3H5c-1.1 0-2 .9-2 2v14c0 1.1.9 2 2 2h14c1.1 0 2-.9 2-2V5c0-1.1-.9-2-2-2zM9 17H7v-7h2v7zm4 0h-2V7h2v10zm4 0h-2v-4h2v4z\"/>\n",
              "    </g>\n",
              "</svg>\n",
              "  </button>\n",
              "\n",
              "<style>\n",
              "  .colab-df-quickchart {\n",
              "      --bg-color: #E8F0FE;\n",
              "      --fill-color: #1967D2;\n",
              "      --hover-bg-color: #E2EBFA;\n",
              "      --hover-fill-color: #174EA6;\n",
              "      --disabled-fill-color: #AAA;\n",
              "      --disabled-bg-color: #DDD;\n",
              "  }\n",
              "\n",
              "  [theme=dark] .colab-df-quickchart {\n",
              "      --bg-color: #3B4455;\n",
              "      --fill-color: #D2E3FC;\n",
              "      --hover-bg-color: #434B5C;\n",
              "      --hover-fill-color: #FFFFFF;\n",
              "      --disabled-bg-color: #3B4455;\n",
              "      --disabled-fill-color: #666;\n",
              "  }\n",
              "\n",
              "  .colab-df-quickchart {\n",
              "    background-color: var(--bg-color);\n",
              "    border: none;\n",
              "    border-radius: 50%;\n",
              "    cursor: pointer;\n",
              "    display: none;\n",
              "    fill: var(--fill-color);\n",
              "    height: 32px;\n",
              "    padding: 0;\n",
              "    width: 32px;\n",
              "  }\n",
              "\n",
              "  .colab-df-quickchart:hover {\n",
              "    background-color: var(--hover-bg-color);\n",
              "    box-shadow: 0 1px 2px rgba(60, 64, 67, 0.3), 0 1px 3px 1px rgba(60, 64, 67, 0.15);\n",
              "    fill: var(--button-hover-fill-color);\n",
              "  }\n",
              "\n",
              "  .colab-df-quickchart-complete:disabled,\n",
              "  .colab-df-quickchart-complete:disabled:hover {\n",
              "    background-color: var(--disabled-bg-color);\n",
              "    fill: var(--disabled-fill-color);\n",
              "    box-shadow: none;\n",
              "  }\n",
              "\n",
              "  .colab-df-spinner {\n",
              "    border: 2px solid var(--fill-color);\n",
              "    border-color: transparent;\n",
              "    border-bottom-color: var(--fill-color);\n",
              "    animation:\n",
              "      spin 1s steps(1) infinite;\n",
              "  }\n",
              "\n",
              "  @keyframes spin {\n",
              "    0% {\n",
              "      border-color: transparent;\n",
              "      border-bottom-color: var(--fill-color);\n",
              "      border-left-color: var(--fill-color);\n",
              "    }\n",
              "    20% {\n",
              "      border-color: transparent;\n",
              "      border-left-color: var(--fill-color);\n",
              "      border-top-color: var(--fill-color);\n",
              "    }\n",
              "    30% {\n",
              "      border-color: transparent;\n",
              "      border-left-color: var(--fill-color);\n",
              "      border-top-color: var(--fill-color);\n",
              "      border-right-color: var(--fill-color);\n",
              "    }\n",
              "    40% {\n",
              "      border-color: transparent;\n",
              "      border-right-color: var(--fill-color);\n",
              "      border-top-color: var(--fill-color);\n",
              "    }\n",
              "    60% {\n",
              "      border-color: transparent;\n",
              "      border-right-color: var(--fill-color);\n",
              "    }\n",
              "    80% {\n",
              "      border-color: transparent;\n",
              "      border-right-color: var(--fill-color);\n",
              "      border-bottom-color: var(--fill-color);\n",
              "    }\n",
              "    90% {\n",
              "      border-color: transparent;\n",
              "      border-bottom-color: var(--fill-color);\n",
              "    }\n",
              "  }\n",
              "</style>\n",
              "\n",
              "  <script>\n",
              "    async function quickchart(key) {\n",
              "      const quickchartButtonEl =\n",
              "        document.querySelector('#' + key + ' button');\n",
              "      quickchartButtonEl.disabled = true;  // To prevent multiple clicks.\n",
              "      quickchartButtonEl.classList.add('colab-df-spinner');\n",
              "      try {\n",
              "        const charts = await google.colab.kernel.invokeFunction(\n",
              "            'suggestCharts', [key], {});\n",
              "      } catch (error) {\n",
              "        console.error('Error during call to suggestCharts:', error);\n",
              "      }\n",
              "      quickchartButtonEl.classList.remove('colab-df-spinner');\n",
              "      quickchartButtonEl.classList.add('colab-df-quickchart-complete');\n",
              "    }\n",
              "    (() => {\n",
              "      let quickchartButtonEl =\n",
              "        document.querySelector('#df-13d122fe-60d6-43a4-88eb-24bc78c153e6 button');\n",
              "      quickchartButtonEl.style.display =\n",
              "        google.colab.kernel.accessAllowed ? 'block' : 'none';\n",
              "    })();\n",
              "  </script>\n",
              "</div>\n",
              "\n",
              "    </div>\n",
              "  </div>\n"
            ],
            "application/vnd.google.colaboratory.intrinsic+json": {
              "type": "dataframe",
              "summary": "{\n  \"name\": \"dados\",\n  \"rows\": 8,\n  \"fields\": [\n    {\n      \"column\": \"age\",\n      \"properties\": {\n        \"dtype\": \"number\",\n        \"std\": 460.6106090399993,\n        \"min\": 14.049960379216154,\n        \"max\": 1338.0,\n        \"num_unique_values\": 8,\n        \"samples\": [\n          39.20702541106129,\n          39.0,\n          1338.0\n        ],\n        \"semantic_type\": \"\",\n        \"description\": \"\"\n      }\n    },\n    {\n      \"column\": \"bmi\",\n      \"properties\": {\n        \"dtype\": \"number\",\n        \"std\": 463.29524977918294,\n        \"min\": 6.098186911679014,\n        \"max\": 1338.0,\n        \"num_unique_values\": 8,\n        \"samples\": [\n          30.66339686098655,\n          30.4,\n          1338.0\n        ],\n        \"semantic_type\": \"\",\n        \"description\": \"\"\n      }\n    },\n    {\n      \"column\": \"children\",\n      \"properties\": {\n        \"dtype\": \"number\",\n        \"std\": 472.5368318870757,\n        \"min\": 0.0,\n        \"max\": 1338.0,\n        \"num_unique_values\": 7,\n        \"samples\": [\n          1338.0,\n          1.0949177877429,\n          2.0\n        ],\n        \"semantic_type\": \"\",\n        \"description\": \"\"\n      }\n    },\n    {\n      \"column\": \"charges\",\n      \"properties\": {\n        \"dtype\": \"number\",\n        \"std\": 20381.922846226596,\n        \"min\": 1121.8739,\n        \"max\": 63770.42801,\n        \"num_unique_values\": 8,\n        \"samples\": [\n          13270.422265141257,\n          9382.033,\n          1338.0\n        ],\n        \"semantic_type\": \"\",\n        \"description\": \"\"\n      }\n    }\n  ]\n}"
            }
          },
          "metadata": {},
          "execution_count": 8
        }
      ],
      "source": [
        "dados.describe()"
      ]
    },
    {
      "cell_type": "markdown",
      "id": "ZXxzXOr0iypq",
      "metadata": {
        "id": "ZXxzXOr0iypq"
      },
      "source": [
        "Verificando dados nulos"
      ]
    },
    {
      "cell_type": "code",
      "execution_count": 9,
      "id": "NjcWa5wvdIY0",
      "metadata": {
        "colab": {
          "base_uri": "https://localhost:8080/",
          "height": 303
        },
        "id": "NjcWa5wvdIY0",
        "outputId": "f91f081f-9e54-40a7-f37e-c33472e071e2"
      },
      "outputs": [
        {
          "output_type": "execute_result",
          "data": {
            "text/plain": [
              "age         0\n",
              "sex         0\n",
              "bmi         0\n",
              "children    0\n",
              "smoker      0\n",
              "region      0\n",
              "charges     0\n",
              "dtype: int64"
            ],
            "text/html": [
              "<table border=\"1\" class=\"dataframe\">\n",
              "  <thead>\n",
              "    <tr style=\"text-align: right;\">\n",
              "      <th></th>\n",
              "      <th>0</th>\n",
              "    </tr>\n",
              "  </thead>\n",
              "  <tbody>\n",
              "    <tr>\n",
              "      <th>age</th>\n",
              "      <td>0</td>\n",
              "    </tr>\n",
              "    <tr>\n",
              "      <th>sex</th>\n",
              "      <td>0</td>\n",
              "    </tr>\n",
              "    <tr>\n",
              "      <th>bmi</th>\n",
              "      <td>0</td>\n",
              "    </tr>\n",
              "    <tr>\n",
              "      <th>children</th>\n",
              "      <td>0</td>\n",
              "    </tr>\n",
              "    <tr>\n",
              "      <th>smoker</th>\n",
              "      <td>0</td>\n",
              "    </tr>\n",
              "    <tr>\n",
              "      <th>region</th>\n",
              "      <td>0</td>\n",
              "    </tr>\n",
              "    <tr>\n",
              "      <th>charges</th>\n",
              "      <td>0</td>\n",
              "    </tr>\n",
              "  </tbody>\n",
              "</table><br><label><b>dtype:</b> int64</label>"
            ]
          },
          "metadata": {},
          "execution_count": 9
        }
      ],
      "source": [
        "dados.isnull().sum()"
      ]
    },
    {
      "cell_type": "markdown",
      "id": "ZR5Cnww8i2dE",
      "metadata": {
        "id": "ZR5Cnww8i2dE"
      },
      "source": [
        "Verificando divisão dos valores para coluna smoker"
      ]
    },
    {
      "cell_type": "code",
      "execution_count": 10,
      "id": "C-2cVnpOdJ0P",
      "metadata": {
        "colab": {
          "base_uri": "https://localhost:8080/",
          "height": 178
        },
        "id": "C-2cVnpOdJ0P",
        "outputId": "cf2cac2b-2991-4cab-fec1-daf62207453c"
      },
      "outputs": [
        {
          "output_type": "execute_result",
          "data": {
            "text/plain": [
              "smoker\n",
              "no        1064\n",
              "yes        274\n",
              "Name: count, dtype: int64"
            ],
            "text/html": [
              "<table border=\"1\" class=\"dataframe\">\n",
              "  <thead>\n",
              "    <tr style=\"text-align: right;\">\n",
              "      <th></th>\n",
              "      <th>count</th>\n",
              "    </tr>\n",
              "    <tr>\n",
              "      <th>smoker</th>\n",
              "      <th></th>\n",
              "    </tr>\n",
              "  </thead>\n",
              "  <tbody>\n",
              "    <tr>\n",
              "      <th>no</th>\n",
              "      <td>1064</td>\n",
              "    </tr>\n",
              "    <tr>\n",
              "      <th>yes</th>\n",
              "      <td>274</td>\n",
              "    </tr>\n",
              "  </tbody>\n",
              "</table><br><label><b>dtype:</b> int64</label>"
            ]
          },
          "metadata": {},
          "execution_count": 10
        }
      ],
      "source": [
        "dados[['smoker']].value_counts()"
      ]
    },
    {
      "cell_type": "markdown",
      "id": "aqRNemUKi5Fx",
      "metadata": {
        "id": "aqRNemUKi5Fx"
      },
      "source": [
        "Verificando divisão dos valores para coluna sex"
      ]
    },
    {
      "cell_type": "code",
      "execution_count": 11,
      "id": "94_x3N3ndJxQ",
      "metadata": {
        "colab": {
          "base_uri": "https://localhost:8080/",
          "height": 178
        },
        "id": "94_x3N3ndJxQ",
        "outputId": "70f0185e-668d-44a5-98f9-3393e1e0e18a"
      },
      "outputs": [
        {
          "output_type": "execute_result",
          "data": {
            "text/plain": [
              "sex   \n",
              "male      676\n",
              "female    662\n",
              "Name: count, dtype: int64"
            ],
            "text/html": [
              "<table border=\"1\" class=\"dataframe\">\n",
              "  <thead>\n",
              "    <tr style=\"text-align: right;\">\n",
              "      <th></th>\n",
              "      <th>count</th>\n",
              "    </tr>\n",
              "    <tr>\n",
              "      <th>sex</th>\n",
              "      <th></th>\n",
              "    </tr>\n",
              "  </thead>\n",
              "  <tbody>\n",
              "    <tr>\n",
              "      <th>male</th>\n",
              "      <td>676</td>\n",
              "    </tr>\n",
              "    <tr>\n",
              "      <th>female</th>\n",
              "      <td>662</td>\n",
              "    </tr>\n",
              "  </tbody>\n",
              "</table><br><label><b>dtype:</b> int64</label>"
            ]
          },
          "metadata": {},
          "execution_count": 11
        }
      ],
      "source": [
        "dados[['sex']].value_counts()"
      ]
    },
    {
      "cell_type": "markdown",
      "id": "YRrD3XfPe9fe",
      "metadata": {
        "id": "YRrD3XfPe9fe"
      },
      "source": [
        "### Pré-processamento dos dados"
      ]
    },
    {
      "cell_type": "markdown",
      "id": "zk47zTE0i8Fj",
      "metadata": {
        "id": "zk47zTE0i8Fj"
      },
      "source": [
        "Coluna **region** podemos transformar em rótulos numéricos usando get_dummies do pandas, pois há múltiplas categorias envolvidas"
      ]
    },
    {
      "cell_type": "code",
      "execution_count": 12,
      "id": "S6kFluUodVVJ",
      "metadata": {
        "colab": {
          "base_uri": "https://localhost:8080/",
          "height": 206
        },
        "id": "S6kFluUodVVJ",
        "outputId": "f2466a6d-266e-4141-d2a3-bfa209e6e02a"
      },
      "outputs": [
        {
          "output_type": "execute_result",
          "data": {
            "text/plain": [
              "   age     sex     bmi  children smoker      charges  region_northeast  \\\n",
              "0   19  female  27.900         0    yes  16884.92400                 0   \n",
              "1   18    male  33.770         1     no   1725.55230                 0   \n",
              "2   28    male  33.000         3     no   4449.46200                 0   \n",
              "3   33    male  22.705         0     no  21984.47061                 0   \n",
              "4   32    male  28.880         0     no   3866.85520                 0   \n",
              "\n",
              "   region_northwest  region_southeast  region_southwest  \n",
              "0                 0                 0                 1  \n",
              "1                 0                 1                 0  \n",
              "2                 0                 1                 0  \n",
              "3                 1                 0                 0  \n",
              "4                 1                 0                 0  "
            ],
            "text/html": [
              "\n",
              "  <div id=\"df-1d220e31-e50f-4be0-9d68-75376378b478\" class=\"colab-df-container\">\n",
              "    <div>\n",
              "<style scoped>\n",
              "    .dataframe tbody tr th:only-of-type {\n",
              "        vertical-align: middle;\n",
              "    }\n",
              "\n",
              "    .dataframe tbody tr th {\n",
              "        vertical-align: top;\n",
              "    }\n",
              "\n",
              "    .dataframe thead th {\n",
              "        text-align: right;\n",
              "    }\n",
              "</style>\n",
              "<table border=\"1\" class=\"dataframe\">\n",
              "  <thead>\n",
              "    <tr style=\"text-align: right;\">\n",
              "      <th></th>\n",
              "      <th>age</th>\n",
              "      <th>sex</th>\n",
              "      <th>bmi</th>\n",
              "      <th>children</th>\n",
              "      <th>smoker</th>\n",
              "      <th>charges</th>\n",
              "      <th>region_northeast</th>\n",
              "      <th>region_northwest</th>\n",
              "      <th>region_southeast</th>\n",
              "      <th>region_southwest</th>\n",
              "    </tr>\n",
              "  </thead>\n",
              "  <tbody>\n",
              "    <tr>\n",
              "      <th>0</th>\n",
              "      <td>19</td>\n",
              "      <td>female</td>\n",
              "      <td>27.900</td>\n",
              "      <td>0</td>\n",
              "      <td>yes</td>\n",
              "      <td>16884.92400</td>\n",
              "      <td>0</td>\n",
              "      <td>0</td>\n",
              "      <td>0</td>\n",
              "      <td>1</td>\n",
              "    </tr>\n",
              "    <tr>\n",
              "      <th>1</th>\n",
              "      <td>18</td>\n",
              "      <td>male</td>\n",
              "      <td>33.770</td>\n",
              "      <td>1</td>\n",
              "      <td>no</td>\n",
              "      <td>1725.55230</td>\n",
              "      <td>0</td>\n",
              "      <td>0</td>\n",
              "      <td>1</td>\n",
              "      <td>0</td>\n",
              "    </tr>\n",
              "    <tr>\n",
              "      <th>2</th>\n",
              "      <td>28</td>\n",
              "      <td>male</td>\n",
              "      <td>33.000</td>\n",
              "      <td>3</td>\n",
              "      <td>no</td>\n",
              "      <td>4449.46200</td>\n",
              "      <td>0</td>\n",
              "      <td>0</td>\n",
              "      <td>1</td>\n",
              "      <td>0</td>\n",
              "    </tr>\n",
              "    <tr>\n",
              "      <th>3</th>\n",
              "      <td>33</td>\n",
              "      <td>male</td>\n",
              "      <td>22.705</td>\n",
              "      <td>0</td>\n",
              "      <td>no</td>\n",
              "      <td>21984.47061</td>\n",
              "      <td>0</td>\n",
              "      <td>1</td>\n",
              "      <td>0</td>\n",
              "      <td>0</td>\n",
              "    </tr>\n",
              "    <tr>\n",
              "      <th>4</th>\n",
              "      <td>32</td>\n",
              "      <td>male</td>\n",
              "      <td>28.880</td>\n",
              "      <td>0</td>\n",
              "      <td>no</td>\n",
              "      <td>3866.85520</td>\n",
              "      <td>0</td>\n",
              "      <td>1</td>\n",
              "      <td>0</td>\n",
              "      <td>0</td>\n",
              "    </tr>\n",
              "  </tbody>\n",
              "</table>\n",
              "</div>\n",
              "    <div class=\"colab-df-buttons\">\n",
              "\n",
              "  <div class=\"colab-df-container\">\n",
              "    <button class=\"colab-df-convert\" onclick=\"convertToInteractive('df-1d220e31-e50f-4be0-9d68-75376378b478')\"\n",
              "            title=\"Convert this dataframe to an interactive table.\"\n",
              "            style=\"display:none;\">\n",
              "\n",
              "  <svg xmlns=\"http://www.w3.org/2000/svg\" height=\"24px\" viewBox=\"0 -960 960 960\">\n",
              "    <path d=\"M120-120v-720h720v720H120Zm60-500h600v-160H180v160Zm220 220h160v-160H400v160Zm0 220h160v-160H400v160ZM180-400h160v-160H180v160Zm440 0h160v-160H620v160ZM180-180h160v-160H180v160Zm440 0h160v-160H620v160Z\"/>\n",
              "  </svg>\n",
              "    </button>\n",
              "\n",
              "  <style>\n",
              "    .colab-df-container {\n",
              "      display:flex;\n",
              "      gap: 12px;\n",
              "    }\n",
              "\n",
              "    .colab-df-convert {\n",
              "      background-color: #E8F0FE;\n",
              "      border: none;\n",
              "      border-radius: 50%;\n",
              "      cursor: pointer;\n",
              "      display: none;\n",
              "      fill: #1967D2;\n",
              "      height: 32px;\n",
              "      padding: 0 0 0 0;\n",
              "      width: 32px;\n",
              "    }\n",
              "\n",
              "    .colab-df-convert:hover {\n",
              "      background-color: #E2EBFA;\n",
              "      box-shadow: 0px 1px 2px rgba(60, 64, 67, 0.3), 0px 1px 3px 1px rgba(60, 64, 67, 0.15);\n",
              "      fill: #174EA6;\n",
              "    }\n",
              "\n",
              "    .colab-df-buttons div {\n",
              "      margin-bottom: 4px;\n",
              "    }\n",
              "\n",
              "    [theme=dark] .colab-df-convert {\n",
              "      background-color: #3B4455;\n",
              "      fill: #D2E3FC;\n",
              "    }\n",
              "\n",
              "    [theme=dark] .colab-df-convert:hover {\n",
              "      background-color: #434B5C;\n",
              "      box-shadow: 0px 1px 3px 1px rgba(0, 0, 0, 0.15);\n",
              "      filter: drop-shadow(0px 1px 2px rgba(0, 0, 0, 0.3));\n",
              "      fill: #FFFFFF;\n",
              "    }\n",
              "  </style>\n",
              "\n",
              "    <script>\n",
              "      const buttonEl =\n",
              "        document.querySelector('#df-1d220e31-e50f-4be0-9d68-75376378b478 button.colab-df-convert');\n",
              "      buttonEl.style.display =\n",
              "        google.colab.kernel.accessAllowed ? 'block' : 'none';\n",
              "\n",
              "      async function convertToInteractive(key) {\n",
              "        const element = document.querySelector('#df-1d220e31-e50f-4be0-9d68-75376378b478');\n",
              "        const dataTable =\n",
              "          await google.colab.kernel.invokeFunction('convertToInteractive',\n",
              "                                                    [key], {});\n",
              "        if (!dataTable) return;\n",
              "\n",
              "        const docLinkHtml = 'Like what you see? Visit the ' +\n",
              "          '<a target=\"_blank\" href=https://colab.research.google.com/notebooks/data_table.ipynb>data table notebook</a>'\n",
              "          + ' to learn more about interactive tables.';\n",
              "        element.innerHTML = '';\n",
              "        dataTable['output_type'] = 'display_data';\n",
              "        await google.colab.output.renderOutput(dataTable, element);\n",
              "        const docLink = document.createElement('div');\n",
              "        docLink.innerHTML = docLinkHtml;\n",
              "        element.appendChild(docLink);\n",
              "      }\n",
              "    </script>\n",
              "  </div>\n",
              "\n",
              "\n",
              "<div id=\"df-173af798-025b-4030-8b87-2b7d1d9974d2\">\n",
              "  <button class=\"colab-df-quickchart\" onclick=\"quickchart('df-173af798-025b-4030-8b87-2b7d1d9974d2')\"\n",
              "            title=\"Suggest charts\"\n",
              "            style=\"display:none;\">\n",
              "\n",
              "<svg xmlns=\"http://www.w3.org/2000/svg\" height=\"24px\"viewBox=\"0 0 24 24\"\n",
              "     width=\"24px\">\n",
              "    <g>\n",
              "        <path d=\"M19 3H5c-1.1 0-2 .9-2 2v14c0 1.1.9 2 2 2h14c1.1 0 2-.9 2-2V5c0-1.1-.9-2-2-2zM9 17H7v-7h2v7zm4 0h-2V7h2v10zm4 0h-2v-4h2v4z\"/>\n",
              "    </g>\n",
              "</svg>\n",
              "  </button>\n",
              "\n",
              "<style>\n",
              "  .colab-df-quickchart {\n",
              "      --bg-color: #E8F0FE;\n",
              "      --fill-color: #1967D2;\n",
              "      --hover-bg-color: #E2EBFA;\n",
              "      --hover-fill-color: #174EA6;\n",
              "      --disabled-fill-color: #AAA;\n",
              "      --disabled-bg-color: #DDD;\n",
              "  }\n",
              "\n",
              "  [theme=dark] .colab-df-quickchart {\n",
              "      --bg-color: #3B4455;\n",
              "      --fill-color: #D2E3FC;\n",
              "      --hover-bg-color: #434B5C;\n",
              "      --hover-fill-color: #FFFFFF;\n",
              "      --disabled-bg-color: #3B4455;\n",
              "      --disabled-fill-color: #666;\n",
              "  }\n",
              "\n",
              "  .colab-df-quickchart {\n",
              "    background-color: var(--bg-color);\n",
              "    border: none;\n",
              "    border-radius: 50%;\n",
              "    cursor: pointer;\n",
              "    display: none;\n",
              "    fill: var(--fill-color);\n",
              "    height: 32px;\n",
              "    padding: 0;\n",
              "    width: 32px;\n",
              "  }\n",
              "\n",
              "  .colab-df-quickchart:hover {\n",
              "    background-color: var(--hover-bg-color);\n",
              "    box-shadow: 0 1px 2px rgba(60, 64, 67, 0.3), 0 1px 3px 1px rgba(60, 64, 67, 0.15);\n",
              "    fill: var(--button-hover-fill-color);\n",
              "  }\n",
              "\n",
              "  .colab-df-quickchart-complete:disabled,\n",
              "  .colab-df-quickchart-complete:disabled:hover {\n",
              "    background-color: var(--disabled-bg-color);\n",
              "    fill: var(--disabled-fill-color);\n",
              "    box-shadow: none;\n",
              "  }\n",
              "\n",
              "  .colab-df-spinner {\n",
              "    border: 2px solid var(--fill-color);\n",
              "    border-color: transparent;\n",
              "    border-bottom-color: var(--fill-color);\n",
              "    animation:\n",
              "      spin 1s steps(1) infinite;\n",
              "  }\n",
              "\n",
              "  @keyframes spin {\n",
              "    0% {\n",
              "      border-color: transparent;\n",
              "      border-bottom-color: var(--fill-color);\n",
              "      border-left-color: var(--fill-color);\n",
              "    }\n",
              "    20% {\n",
              "      border-color: transparent;\n",
              "      border-left-color: var(--fill-color);\n",
              "      border-top-color: var(--fill-color);\n",
              "    }\n",
              "    30% {\n",
              "      border-color: transparent;\n",
              "      border-left-color: var(--fill-color);\n",
              "      border-top-color: var(--fill-color);\n",
              "      border-right-color: var(--fill-color);\n",
              "    }\n",
              "    40% {\n",
              "      border-color: transparent;\n",
              "      border-right-color: var(--fill-color);\n",
              "      border-top-color: var(--fill-color);\n",
              "    }\n",
              "    60% {\n",
              "      border-color: transparent;\n",
              "      border-right-color: var(--fill-color);\n",
              "    }\n",
              "    80% {\n",
              "      border-color: transparent;\n",
              "      border-right-color: var(--fill-color);\n",
              "      border-bottom-color: var(--fill-color);\n",
              "    }\n",
              "    90% {\n",
              "      border-color: transparent;\n",
              "      border-bottom-color: var(--fill-color);\n",
              "    }\n",
              "  }\n",
              "</style>\n",
              "\n",
              "  <script>\n",
              "    async function quickchart(key) {\n",
              "      const quickchartButtonEl =\n",
              "        document.querySelector('#' + key + ' button');\n",
              "      quickchartButtonEl.disabled = true;  // To prevent multiple clicks.\n",
              "      quickchartButtonEl.classList.add('colab-df-spinner');\n",
              "      try {\n",
              "        const charts = await google.colab.kernel.invokeFunction(\n",
              "            'suggestCharts', [key], {});\n",
              "      } catch (error) {\n",
              "        console.error('Error during call to suggestCharts:', error);\n",
              "      }\n",
              "      quickchartButtonEl.classList.remove('colab-df-spinner');\n",
              "      quickchartButtonEl.classList.add('colab-df-quickchart-complete');\n",
              "    }\n",
              "    (() => {\n",
              "      let quickchartButtonEl =\n",
              "        document.querySelector('#df-173af798-025b-4030-8b87-2b7d1d9974d2 button');\n",
              "      quickchartButtonEl.style.display =\n",
              "        google.colab.kernel.accessAllowed ? 'block' : 'none';\n",
              "    })();\n",
              "  </script>\n",
              "</div>\n",
              "\n",
              "    </div>\n",
              "  </div>\n"
            ],
            "application/vnd.google.colaboratory.intrinsic+json": {
              "type": "dataframe",
              "variable_name": "dados",
              "summary": "{\n  \"name\": \"dados\",\n  \"rows\": 1338,\n  \"fields\": [\n    {\n      \"column\": \"age\",\n      \"properties\": {\n        \"dtype\": \"number\",\n        \"std\": 14,\n        \"min\": 18,\n        \"max\": 64,\n        \"num_unique_values\": 47,\n        \"samples\": [\n          21,\n          45,\n          36\n        ],\n        \"semantic_type\": \"\",\n        \"description\": \"\"\n      }\n    },\n    {\n      \"column\": \"sex\",\n      \"properties\": {\n        \"dtype\": \"category\",\n        \"num_unique_values\": 2,\n        \"samples\": [\n          \"male\",\n          \"female\"\n        ],\n        \"semantic_type\": \"\",\n        \"description\": \"\"\n      }\n    },\n    {\n      \"column\": \"bmi\",\n      \"properties\": {\n        \"dtype\": \"number\",\n        \"std\": 6.098186911679014,\n        \"min\": 15.96,\n        \"max\": 53.13,\n        \"num_unique_values\": 548,\n        \"samples\": [\n          23.18,\n          26.885\n        ],\n        \"semantic_type\": \"\",\n        \"description\": \"\"\n      }\n    },\n    {\n      \"column\": \"children\",\n      \"properties\": {\n        \"dtype\": \"number\",\n        \"std\": 1,\n        \"min\": 0,\n        \"max\": 5,\n        \"num_unique_values\": 6,\n        \"samples\": [\n          0,\n          1\n        ],\n        \"semantic_type\": \"\",\n        \"description\": \"\"\n      }\n    },\n    {\n      \"column\": \"smoker\",\n      \"properties\": {\n        \"dtype\": \"category\",\n        \"num_unique_values\": 2,\n        \"samples\": [\n          \"no\",\n          \"yes\"\n        ],\n        \"semantic_type\": \"\",\n        \"description\": \"\"\n      }\n    },\n    {\n      \"column\": \"charges\",\n      \"properties\": {\n        \"dtype\": \"number\",\n        \"std\": 12110.011236694001,\n        \"min\": 1121.8739,\n        \"max\": 63770.42801,\n        \"num_unique_values\": 1337,\n        \"samples\": [\n          8688.85885,\n          5708.867\n        ],\n        \"semantic_type\": \"\",\n        \"description\": \"\"\n      }\n    },\n    {\n      \"column\": \"region_northeast\",\n      \"properties\": {\n        \"dtype\": \"number\",\n        \"std\": 0,\n        \"min\": 0,\n        \"max\": 1,\n        \"num_unique_values\": 2,\n        \"samples\": [\n          1,\n          0\n        ],\n        \"semantic_type\": \"\",\n        \"description\": \"\"\n      }\n    },\n    {\n      \"column\": \"region_northwest\",\n      \"properties\": {\n        \"dtype\": \"number\",\n        \"std\": 0,\n        \"min\": 0,\n        \"max\": 1,\n        \"num_unique_values\": 2,\n        \"samples\": [\n          1,\n          0\n        ],\n        \"semantic_type\": \"\",\n        \"description\": \"\"\n      }\n    },\n    {\n      \"column\": \"region_southeast\",\n      \"properties\": {\n        \"dtype\": \"number\",\n        \"std\": 0,\n        \"min\": 0,\n        \"max\": 1,\n        \"num_unique_values\": 2,\n        \"samples\": [\n          1,\n          0\n        ],\n        \"semantic_type\": \"\",\n        \"description\": \"\"\n      }\n    },\n    {\n      \"column\": \"region_southwest\",\n      \"properties\": {\n        \"dtype\": \"number\",\n        \"std\": 0,\n        \"min\": 0,\n        \"max\": 1,\n        \"num_unique_values\": 2,\n        \"samples\": [\n          0,\n          1\n        ],\n        \"semantic_type\": \"\",\n        \"description\": \"\"\n      }\n    }\n  ]\n}"
            }
          },
          "metadata": {},
          "execution_count": 12
        }
      ],
      "source": [
        "categoric_columns = ['region']\n",
        "\n",
        "dados = pd.get_dummies(dados, columns = categoric_columns, dtype=int)\n",
        "dados.head()"
      ]
    },
    {
      "cell_type": "markdown",
      "id": "UJBuup-hjFGr",
      "metadata": {
        "id": "UJBuup-hjFGr"
      },
      "source": [
        "Colunas **sex** e **smoker** podemos transformar em valores binários (0 ou 1) usando LabelEncoder, pois há apenas 2 categorias"
      ]
    },
    {
      "cell_type": "code",
      "execution_count": 13,
      "id": "GdW2JzIkdVSY",
      "metadata": {
        "colab": {
          "base_uri": "https://localhost:8080/",
          "height": 206
        },
        "id": "GdW2JzIkdVSY",
        "outputId": "cc8367a3-6400-4313-eca3-51ade6054c93"
      },
      "outputs": [
        {
          "output_type": "execute_result",
          "data": {
            "text/plain": [
              "   age  sex     bmi  children  smoker      charges  region_northeast  \\\n",
              "0   19    0  27.900         0       1  16884.92400                 0   \n",
              "1   18    1  33.770         1       0   1725.55230                 0   \n",
              "2   28    1  33.000         3       0   4449.46200                 0   \n",
              "3   33    1  22.705         0       0  21984.47061                 0   \n",
              "4   32    1  28.880         0       0   3866.85520                 0   \n",
              "\n",
              "   region_northwest  region_southeast  region_southwest  \n",
              "0                 0                 0                 1  \n",
              "1                 0                 1                 0  \n",
              "2                 0                 1                 0  \n",
              "3                 1                 0                 0  \n",
              "4                 1                 0                 0  "
            ],
            "text/html": [
              "\n",
              "  <div id=\"df-1f7a04db-a8b5-46d9-9b69-9efa0b41d2de\" class=\"colab-df-container\">\n",
              "    <div>\n",
              "<style scoped>\n",
              "    .dataframe tbody tr th:only-of-type {\n",
              "        vertical-align: middle;\n",
              "    }\n",
              "\n",
              "    .dataframe tbody tr th {\n",
              "        vertical-align: top;\n",
              "    }\n",
              "\n",
              "    .dataframe thead th {\n",
              "        text-align: right;\n",
              "    }\n",
              "</style>\n",
              "<table border=\"1\" class=\"dataframe\">\n",
              "  <thead>\n",
              "    <tr style=\"text-align: right;\">\n",
              "      <th></th>\n",
              "      <th>age</th>\n",
              "      <th>sex</th>\n",
              "      <th>bmi</th>\n",
              "      <th>children</th>\n",
              "      <th>smoker</th>\n",
              "      <th>charges</th>\n",
              "      <th>region_northeast</th>\n",
              "      <th>region_northwest</th>\n",
              "      <th>region_southeast</th>\n",
              "      <th>region_southwest</th>\n",
              "    </tr>\n",
              "  </thead>\n",
              "  <tbody>\n",
              "    <tr>\n",
              "      <th>0</th>\n",
              "      <td>19</td>\n",
              "      <td>0</td>\n",
              "      <td>27.900</td>\n",
              "      <td>0</td>\n",
              "      <td>1</td>\n",
              "      <td>16884.92400</td>\n",
              "      <td>0</td>\n",
              "      <td>0</td>\n",
              "      <td>0</td>\n",
              "      <td>1</td>\n",
              "    </tr>\n",
              "    <tr>\n",
              "      <th>1</th>\n",
              "      <td>18</td>\n",
              "      <td>1</td>\n",
              "      <td>33.770</td>\n",
              "      <td>1</td>\n",
              "      <td>0</td>\n",
              "      <td>1725.55230</td>\n",
              "      <td>0</td>\n",
              "      <td>0</td>\n",
              "      <td>1</td>\n",
              "      <td>0</td>\n",
              "    </tr>\n",
              "    <tr>\n",
              "      <th>2</th>\n",
              "      <td>28</td>\n",
              "      <td>1</td>\n",
              "      <td>33.000</td>\n",
              "      <td>3</td>\n",
              "      <td>0</td>\n",
              "      <td>4449.46200</td>\n",
              "      <td>0</td>\n",
              "      <td>0</td>\n",
              "      <td>1</td>\n",
              "      <td>0</td>\n",
              "    </tr>\n",
              "    <tr>\n",
              "      <th>3</th>\n",
              "      <td>33</td>\n",
              "      <td>1</td>\n",
              "      <td>22.705</td>\n",
              "      <td>0</td>\n",
              "      <td>0</td>\n",
              "      <td>21984.47061</td>\n",
              "      <td>0</td>\n",
              "      <td>1</td>\n",
              "      <td>0</td>\n",
              "      <td>0</td>\n",
              "    </tr>\n",
              "    <tr>\n",
              "      <th>4</th>\n",
              "      <td>32</td>\n",
              "      <td>1</td>\n",
              "      <td>28.880</td>\n",
              "      <td>0</td>\n",
              "      <td>0</td>\n",
              "      <td>3866.85520</td>\n",
              "      <td>0</td>\n",
              "      <td>1</td>\n",
              "      <td>0</td>\n",
              "      <td>0</td>\n",
              "    </tr>\n",
              "  </tbody>\n",
              "</table>\n",
              "</div>\n",
              "    <div class=\"colab-df-buttons\">\n",
              "\n",
              "  <div class=\"colab-df-container\">\n",
              "    <button class=\"colab-df-convert\" onclick=\"convertToInteractive('df-1f7a04db-a8b5-46d9-9b69-9efa0b41d2de')\"\n",
              "            title=\"Convert this dataframe to an interactive table.\"\n",
              "            style=\"display:none;\">\n",
              "\n",
              "  <svg xmlns=\"http://www.w3.org/2000/svg\" height=\"24px\" viewBox=\"0 -960 960 960\">\n",
              "    <path d=\"M120-120v-720h720v720H120Zm60-500h600v-160H180v160Zm220 220h160v-160H400v160Zm0 220h160v-160H400v160ZM180-400h160v-160H180v160Zm440 0h160v-160H620v160ZM180-180h160v-160H180v160Zm440 0h160v-160H620v160Z\"/>\n",
              "  </svg>\n",
              "    </button>\n",
              "\n",
              "  <style>\n",
              "    .colab-df-container {\n",
              "      display:flex;\n",
              "      gap: 12px;\n",
              "    }\n",
              "\n",
              "    .colab-df-convert {\n",
              "      background-color: #E8F0FE;\n",
              "      border: none;\n",
              "      border-radius: 50%;\n",
              "      cursor: pointer;\n",
              "      display: none;\n",
              "      fill: #1967D2;\n",
              "      height: 32px;\n",
              "      padding: 0 0 0 0;\n",
              "      width: 32px;\n",
              "    }\n",
              "\n",
              "    .colab-df-convert:hover {\n",
              "      background-color: #E2EBFA;\n",
              "      box-shadow: 0px 1px 2px rgba(60, 64, 67, 0.3), 0px 1px 3px 1px rgba(60, 64, 67, 0.15);\n",
              "      fill: #174EA6;\n",
              "    }\n",
              "\n",
              "    .colab-df-buttons div {\n",
              "      margin-bottom: 4px;\n",
              "    }\n",
              "\n",
              "    [theme=dark] .colab-df-convert {\n",
              "      background-color: #3B4455;\n",
              "      fill: #D2E3FC;\n",
              "    }\n",
              "\n",
              "    [theme=dark] .colab-df-convert:hover {\n",
              "      background-color: #434B5C;\n",
              "      box-shadow: 0px 1px 3px 1px rgba(0, 0, 0, 0.15);\n",
              "      filter: drop-shadow(0px 1px 2px rgba(0, 0, 0, 0.3));\n",
              "      fill: #FFFFFF;\n",
              "    }\n",
              "  </style>\n",
              "\n",
              "    <script>\n",
              "      const buttonEl =\n",
              "        document.querySelector('#df-1f7a04db-a8b5-46d9-9b69-9efa0b41d2de button.colab-df-convert');\n",
              "      buttonEl.style.display =\n",
              "        google.colab.kernel.accessAllowed ? 'block' : 'none';\n",
              "\n",
              "      async function convertToInteractive(key) {\n",
              "        const element = document.querySelector('#df-1f7a04db-a8b5-46d9-9b69-9efa0b41d2de');\n",
              "        const dataTable =\n",
              "          await google.colab.kernel.invokeFunction('convertToInteractive',\n",
              "                                                    [key], {});\n",
              "        if (!dataTable) return;\n",
              "\n",
              "        const docLinkHtml = 'Like what you see? Visit the ' +\n",
              "          '<a target=\"_blank\" href=https://colab.research.google.com/notebooks/data_table.ipynb>data table notebook</a>'\n",
              "          + ' to learn more about interactive tables.';\n",
              "        element.innerHTML = '';\n",
              "        dataTable['output_type'] = 'display_data';\n",
              "        await google.colab.output.renderOutput(dataTable, element);\n",
              "        const docLink = document.createElement('div');\n",
              "        docLink.innerHTML = docLinkHtml;\n",
              "        element.appendChild(docLink);\n",
              "      }\n",
              "    </script>\n",
              "  </div>\n",
              "\n",
              "\n",
              "<div id=\"df-6cc780b3-b6a2-46f5-b8e0-03162f4894c5\">\n",
              "  <button class=\"colab-df-quickchart\" onclick=\"quickchart('df-6cc780b3-b6a2-46f5-b8e0-03162f4894c5')\"\n",
              "            title=\"Suggest charts\"\n",
              "            style=\"display:none;\">\n",
              "\n",
              "<svg xmlns=\"http://www.w3.org/2000/svg\" height=\"24px\"viewBox=\"0 0 24 24\"\n",
              "     width=\"24px\">\n",
              "    <g>\n",
              "        <path d=\"M19 3H5c-1.1 0-2 .9-2 2v14c0 1.1.9 2 2 2h14c1.1 0 2-.9 2-2V5c0-1.1-.9-2-2-2zM9 17H7v-7h2v7zm4 0h-2V7h2v10zm4 0h-2v-4h2v4z\"/>\n",
              "    </g>\n",
              "</svg>\n",
              "  </button>\n",
              "\n",
              "<style>\n",
              "  .colab-df-quickchart {\n",
              "      --bg-color: #E8F0FE;\n",
              "      --fill-color: #1967D2;\n",
              "      --hover-bg-color: #E2EBFA;\n",
              "      --hover-fill-color: #174EA6;\n",
              "      --disabled-fill-color: #AAA;\n",
              "      --disabled-bg-color: #DDD;\n",
              "  }\n",
              "\n",
              "  [theme=dark] .colab-df-quickchart {\n",
              "      --bg-color: #3B4455;\n",
              "      --fill-color: #D2E3FC;\n",
              "      --hover-bg-color: #434B5C;\n",
              "      --hover-fill-color: #FFFFFF;\n",
              "      --disabled-bg-color: #3B4455;\n",
              "      --disabled-fill-color: #666;\n",
              "  }\n",
              "\n",
              "  .colab-df-quickchart {\n",
              "    background-color: var(--bg-color);\n",
              "    border: none;\n",
              "    border-radius: 50%;\n",
              "    cursor: pointer;\n",
              "    display: none;\n",
              "    fill: var(--fill-color);\n",
              "    height: 32px;\n",
              "    padding: 0;\n",
              "    width: 32px;\n",
              "  }\n",
              "\n",
              "  .colab-df-quickchart:hover {\n",
              "    background-color: var(--hover-bg-color);\n",
              "    box-shadow: 0 1px 2px rgba(60, 64, 67, 0.3), 0 1px 3px 1px rgba(60, 64, 67, 0.15);\n",
              "    fill: var(--button-hover-fill-color);\n",
              "  }\n",
              "\n",
              "  .colab-df-quickchart-complete:disabled,\n",
              "  .colab-df-quickchart-complete:disabled:hover {\n",
              "    background-color: var(--disabled-bg-color);\n",
              "    fill: var(--disabled-fill-color);\n",
              "    box-shadow: none;\n",
              "  }\n",
              "\n",
              "  .colab-df-spinner {\n",
              "    border: 2px solid var(--fill-color);\n",
              "    border-color: transparent;\n",
              "    border-bottom-color: var(--fill-color);\n",
              "    animation:\n",
              "      spin 1s steps(1) infinite;\n",
              "  }\n",
              "\n",
              "  @keyframes spin {\n",
              "    0% {\n",
              "      border-color: transparent;\n",
              "      border-bottom-color: var(--fill-color);\n",
              "      border-left-color: var(--fill-color);\n",
              "    }\n",
              "    20% {\n",
              "      border-color: transparent;\n",
              "      border-left-color: var(--fill-color);\n",
              "      border-top-color: var(--fill-color);\n",
              "    }\n",
              "    30% {\n",
              "      border-color: transparent;\n",
              "      border-left-color: var(--fill-color);\n",
              "      border-top-color: var(--fill-color);\n",
              "      border-right-color: var(--fill-color);\n",
              "    }\n",
              "    40% {\n",
              "      border-color: transparent;\n",
              "      border-right-color: var(--fill-color);\n",
              "      border-top-color: var(--fill-color);\n",
              "    }\n",
              "    60% {\n",
              "      border-color: transparent;\n",
              "      border-right-color: var(--fill-color);\n",
              "    }\n",
              "    80% {\n",
              "      border-color: transparent;\n",
              "      border-right-color: var(--fill-color);\n",
              "      border-bottom-color: var(--fill-color);\n",
              "    }\n",
              "    90% {\n",
              "      border-color: transparent;\n",
              "      border-bottom-color: var(--fill-color);\n",
              "    }\n",
              "  }\n",
              "</style>\n",
              "\n",
              "  <script>\n",
              "    async function quickchart(key) {\n",
              "      const quickchartButtonEl =\n",
              "        document.querySelector('#' + key + ' button');\n",
              "      quickchartButtonEl.disabled = true;  // To prevent multiple clicks.\n",
              "      quickchartButtonEl.classList.add('colab-df-spinner');\n",
              "      try {\n",
              "        const charts = await google.colab.kernel.invokeFunction(\n",
              "            'suggestCharts', [key], {});\n",
              "      } catch (error) {\n",
              "        console.error('Error during call to suggestCharts:', error);\n",
              "      }\n",
              "      quickchartButtonEl.classList.remove('colab-df-spinner');\n",
              "      quickchartButtonEl.classList.add('colab-df-quickchart-complete');\n",
              "    }\n",
              "    (() => {\n",
              "      let quickchartButtonEl =\n",
              "        document.querySelector('#df-6cc780b3-b6a2-46f5-b8e0-03162f4894c5 button');\n",
              "      quickchartButtonEl.style.display =\n",
              "        google.colab.kernel.accessAllowed ? 'block' : 'none';\n",
              "    })();\n",
              "  </script>\n",
              "</div>\n",
              "\n",
              "    </div>\n",
              "  </div>\n"
            ],
            "application/vnd.google.colaboratory.intrinsic+json": {
              "type": "dataframe",
              "variable_name": "dados",
              "summary": "{\n  \"name\": \"dados\",\n  \"rows\": 1338,\n  \"fields\": [\n    {\n      \"column\": \"age\",\n      \"properties\": {\n        \"dtype\": \"number\",\n        \"std\": 14,\n        \"min\": 18,\n        \"max\": 64,\n        \"num_unique_values\": 47,\n        \"samples\": [\n          21,\n          45,\n          36\n        ],\n        \"semantic_type\": \"\",\n        \"description\": \"\"\n      }\n    },\n    {\n      \"column\": \"sex\",\n      \"properties\": {\n        \"dtype\": \"number\",\n        \"std\": 0,\n        \"min\": 0,\n        \"max\": 1,\n        \"num_unique_values\": 2,\n        \"samples\": [\n          1,\n          0\n        ],\n        \"semantic_type\": \"\",\n        \"description\": \"\"\n      }\n    },\n    {\n      \"column\": \"bmi\",\n      \"properties\": {\n        \"dtype\": \"number\",\n        \"std\": 6.098186911679014,\n        \"min\": 15.96,\n        \"max\": 53.13,\n        \"num_unique_values\": 548,\n        \"samples\": [\n          23.18,\n          26.885\n        ],\n        \"semantic_type\": \"\",\n        \"description\": \"\"\n      }\n    },\n    {\n      \"column\": \"children\",\n      \"properties\": {\n        \"dtype\": \"number\",\n        \"std\": 1,\n        \"min\": 0,\n        \"max\": 5,\n        \"num_unique_values\": 6,\n        \"samples\": [\n          0,\n          1\n        ],\n        \"semantic_type\": \"\",\n        \"description\": \"\"\n      }\n    },\n    {\n      \"column\": \"smoker\",\n      \"properties\": {\n        \"dtype\": \"number\",\n        \"std\": 0,\n        \"min\": 0,\n        \"max\": 1,\n        \"num_unique_values\": 2,\n        \"samples\": [\n          0,\n          1\n        ],\n        \"semantic_type\": \"\",\n        \"description\": \"\"\n      }\n    },\n    {\n      \"column\": \"charges\",\n      \"properties\": {\n        \"dtype\": \"number\",\n        \"std\": 12110.011236694001,\n        \"min\": 1121.8739,\n        \"max\": 63770.42801,\n        \"num_unique_values\": 1337,\n        \"samples\": [\n          8688.85885,\n          5708.867\n        ],\n        \"semantic_type\": \"\",\n        \"description\": \"\"\n      }\n    },\n    {\n      \"column\": \"region_northeast\",\n      \"properties\": {\n        \"dtype\": \"number\",\n        \"std\": 0,\n        \"min\": 0,\n        \"max\": 1,\n        \"num_unique_values\": 2,\n        \"samples\": [\n          1,\n          0\n        ],\n        \"semantic_type\": \"\",\n        \"description\": \"\"\n      }\n    },\n    {\n      \"column\": \"region_northwest\",\n      \"properties\": {\n        \"dtype\": \"number\",\n        \"std\": 0,\n        \"min\": 0,\n        \"max\": 1,\n        \"num_unique_values\": 2,\n        \"samples\": [\n          1,\n          0\n        ],\n        \"semantic_type\": \"\",\n        \"description\": \"\"\n      }\n    },\n    {\n      \"column\": \"region_southeast\",\n      \"properties\": {\n        \"dtype\": \"number\",\n        \"std\": 0,\n        \"min\": 0,\n        \"max\": 1,\n        \"num_unique_values\": 2,\n        \"samples\": [\n          1,\n          0\n        ],\n        \"semantic_type\": \"\",\n        \"description\": \"\"\n      }\n    },\n    {\n      \"column\": \"region_southwest\",\n      \"properties\": {\n        \"dtype\": \"number\",\n        \"std\": 0,\n        \"min\": 0,\n        \"max\": 1,\n        \"num_unique_values\": 2,\n        \"samples\": [\n          0,\n          1\n        ],\n        \"semantic_type\": \"\",\n        \"description\": \"\"\n      }\n    }\n  ]\n}"
            }
          },
          "metadata": {},
          "execution_count": 13
        }
      ],
      "source": [
        "from sklearn.preprocessing import LabelEncoder\n",
        "label_encoder = LabelEncoder()\n",
        "dados['sex'] = label_encoder.fit_transform(dados['sex'])\n",
        "dados['smoker'] = label_encoder.fit_transform(dados['smoker'])\n",
        "dados.head()"
      ]
    },
    {
      "cell_type": "markdown",
      "id": "4-XubDkpfLV-",
      "metadata": {
        "id": "4-XubDkpfLV-"
      },
      "source": [
        "### Análise gráfica"
      ]
    },
    {
      "cell_type": "markdown",
      "id": "c2da1c06",
      "metadata": {
        "id": "c2da1c06"
      },
      "source": [
        "O gráfico abaixo mostra a relação entre o custo do plano em função da quantidade de filhos/dependentes que o beneficiário tem. Não nos diz muita coisa"
      ]
    },
    {
      "cell_type": "code",
      "execution_count": 14,
      "id": "UwVTxRL3iNWT",
      "metadata": {
        "colab": {
          "base_uri": "https://localhost:8080/",
          "height": 475
        },
        "id": "UwVTxRL3iNWT",
        "outputId": "05e3d18c-59f7-4b21-cc76-53e7921b941c"
      },
      "outputs": [
        {
          "output_type": "execute_result",
          "data": {
            "text/plain": [
              "<Axes: xlabel='children', ylabel='charges'>"
            ]
          },
          "metadata": {},
          "execution_count": 14
        },
        {
          "output_type": "display_data",
          "data": {
            "text/plain": [
              "<Figure size 640x480 with 1 Axes>"
            ],
            "image/png": "[encoded data removed]"
          },
          "metadata": {}
        }
      ],
      "source": [
        "dados.plot.scatter(x='children', y='charges')"
      ]
    },
    {
      "cell_type": "markdown",
      "id": "vJHJVVetiVJR",
      "metadata": {
        "id": "vJHJVVetiVJR"
      },
      "source": [
        "O gráfico abaxo mostra a relação entre o custo do plano em função se o beneficiário é ou não fumante. Nesse levantamento podemos ver que há uma diferença, o valor do plano é menor em usuários não fumantes se comparados aos usuário fumantes. Pode ser uma boa característica para nosso target"
      ]
    },
    {
      "cell_type": "code",
      "execution_count": 15,
      "id": "a40f4d80",
      "metadata": {
        "colab": {
          "base_uri": "https://localhost:8080/",
          "height": 475
        },
        "id": "a40f4d80",
        "outputId": "6b3ce1cf-9e4e-47c6-f8e1-aed1c33f9a6e"
      },
      "outputs": [
        {
          "output_type": "execute_result",
          "data": {
            "text/plain": [
              "<Axes: xlabel='smoker', ylabel='charges'>"
            ]
          },
          "metadata": {},
          "execution_count": 15
        },
        {
          "output_type": "display_data",
          "data": {
            "text/plain": [
              "<Figure size 640x480 with 1 Axes>"
            ],
            "image/png": "[encoded data removed]"
          },
          "metadata": {}
        }
      ],
      "source": [
        "dados.plot.scatter(x='smoker', y='charges')"
      ]
    },
    {
      "cell_type": "code",
      "execution_count": 16,
      "id": "6664720a",
      "metadata": {
        "colab": {
          "base_uri": "https://localhost:8080/",
          "height": 1000
        },
        "id": "6664720a",
        "outputId": "c226be0a-92ce-43da-a432-cd5075645279"
      },
      "outputs": [
        {
          "output_type": "execute_result",
          "data": {
            "text/plain": [
              "array([[<Axes: title={'center': 'age'}>, <Axes: title={'center': 'sex'}>,\n",
              "        <Axes: title={'center': 'bmi'}>],\n",
              "       [<Axes: title={'center': 'children'}>,\n",
              "        <Axes: title={'center': 'smoker'}>,\n",
              "        <Axes: title={'center': 'charges'}>],\n",
              "       [<Axes: title={'center': 'region_northeast'}>,\n",
              "        <Axes: title={'center': 'region_northwest'}>,\n",
              "        <Axes: title={'center': 'region_southeast'}>],\n",
              "       [<Axes: title={'center': 'region_southwest'}>, <Axes: >, <Axes: >]],\n",
              "      dtype=object)"
            ]
          },
          "metadata": {},
          "execution_count": 16
        },
        {
          "output_type": "display_data",
          "data": {
            "text/plain": [
              "<Figure size 2000x1500 with 12 Axes>"
            ],
            "image/png": "[encoded data removed]"
          },
          "metadata": {}
        }
      ],
      "source": [
        "dados.hist(bins=50, figsize=(20,15))"
      ]
    },
    {
      "cell_type": "code",
      "execution_count": 17,
      "id": "ca9NJ_S2eDHw",
      "metadata": {
        "colab": {
          "base_uri": "https://localhost:8080/",
          "height": 419
        },
        "id": "ca9NJ_S2eDHw",
        "outputId": "2cbd3294-8594-4bdd-b291-de15300cc4e7"
      },
      "outputs": [
        {
          "output_type": "display_data",
          "data": {
            "text/plain": [
              "<Figure size 800x400 with 1 Axes>"
            ],
            "image/png": "[encoded data removed]"
          },
          "metadata": {}
        }
      ],
      "source": [
        "# grafico com a distribuição dos valores de cobrança\n",
        "plt.figure(figsize=(8, 4))\n",
        "sns.histplot(dados['charges'], bins=50, kde=True)\n",
        "plt.title('Distribution of charges')\n",
        "plt.xlabel('Charges')\n",
        "plt.ylabel('Count')\n",
        "plt.show()"
      ]
    },
    {
      "cell_type": "markdown",
      "id": "7TPybyl1eZ94",
      "metadata": {
        "id": "7TPybyl1eZ94"
      },
      "source": [
        "**Matriz de correlação**  \n",
        "Podemos visualizar que a maior correlação da coluna charges (target) é com a coluna smoker"
      ]
    },
    {
      "cell_type": "code",
      "execution_count": 18,
      "id": "I7N0dQwCeC-k",
      "metadata": {
        "colab": {
          "base_uri": "https://localhost:8080/",
          "height": 523
        },
        "id": "I7N0dQwCeC-k",
        "outputId": "572693bc-7363-4124-d369-c192b210338a"
      },
      "outputs": [
        {
          "output_type": "display_data",
          "data": {
            "text/plain": [
              "<Figure size 800x400 with 2 Axes>"
            ],
            "image/png": "[encoded data removed]"
          },
          "metadata": {}
        }
      ],
      "source": [
        "# matriz de correlação\n",
        "correlation_matrix = dados.corr()\n",
        "\n",
        "plt.figure(figsize=(8, 4))\n",
        "sns.heatmap(correlation_matrix, cmap='coolwarm', annot=False, fmt=\".2f\", linewidths=.5)\n",
        "plt.title('Correlation matrix')\n",
        "plt.show()"
      ]
    },
    {
      "cell_type": "markdown",
      "id": "dbtwSV-rhAGZ",
      "metadata": {
        "id": "dbtwSV-rhAGZ"
      },
      "source": [
        "# Regressão linear simples - divisão dos dados para treino e teste\n",
        "\n",
        "usando somente coluna smoker - para avaliar com uma regressão linear simples"
      ]
    },
    {
      "cell_type": "code",
      "execution_count": 47,
      "id": "8kxCvKYehGms",
      "metadata": {
        "id": "8kxCvKYehGms"
      },
      "outputs": [],
      "source": [
        "x = dados[['smoker']]\n",
        "y = dados['charges'] # Target"
      ]
    },
    {
      "cell_type": "code",
      "execution_count": 70,
      "id": "w6V21Z0lhGeh",
      "metadata": {
        "colab": {
          "base_uri": "https://localhost:8080/",
          "height": 206
        },
        "id": "w6V21Z0lhGeh",
        "outputId": "3d2000c0-3e46-46a4-bca9-6b181ad7ca07"
      },
      "outputs": [
        {
          "output_type": "execute_result",
          "data": {
            "text/plain": [
              "   smoker\n",
              "0       1\n",
              "1       0\n",
              "2       0\n",
              "3       0\n",
              "4       0"
            ],
            "text/html": [
              "\n",
              "  <div id=\"df-70ad0fcd-6bb8-471c-9f84-5c5b4497c463\" class=\"colab-df-container\">\n",
              "    <div>\n",
              "<style scoped>\n",
              "    .dataframe tbody tr th:only-of-type {\n",
              "        vertical-align: middle;\n",
              "    }\n",
              "\n",
              "    .dataframe tbody tr th {\n",
              "        vertical-align: top;\n",
              "    }\n",
              "\n",
              "    .dataframe thead th {\n",
              "        text-align: right;\n",
              "    }\n",
              "</style>\n",
              "<table border=\"1\" class=\"dataframe\">\n",
              "  <thead>\n",
              "    <tr style=\"text-align: right;\">\n",
              "      <th></th>\n",
              "      <th>smoker</th>\n",
              "    </tr>\n",
              "  </thead>\n",
              "  <tbody>\n",
              "    <tr>\n",
              "      <th>0</th>\n",
              "      <td>1</td>\n",
              "    </tr>\n",
              "    <tr>\n",
              "      <th>1</th>\n",
              "      <td>0</td>\n",
              "    </tr>\n",
              "    <tr>\n",
              "      <th>2</th>\n",
              "      <td>0</td>\n",
              "    </tr>\n",
              "    <tr>\n",
              "      <th>3</th>\n",
              "      <td>0</td>\n",
              "    </tr>\n",
              "    <tr>\n",
              "      <th>4</th>\n",
              "      <td>0</td>\n",
              "    </tr>\n",
              "  </tbody>\n",
              "</table>\n",
              "</div>\n",
              "    <div class=\"colab-df-buttons\">\n",
              "\n",
              "  <div class=\"colab-df-container\">\n",
              "    <button class=\"colab-df-convert\" onclick=\"convertToInteractive('df-70ad0fcd-6bb8-471c-9f84-5c5b4497c463')\"\n",
              "            title=\"Convert this dataframe to an interactive table.\"\n",
              "            style=\"display:none;\">\n",
              "\n",
              "  <svg xmlns=\"http://www.w3.org/2000/svg\" height=\"24px\" viewBox=\"0 -960 960 960\">\n",
              "    <path d=\"M120-120v-720h720v720H120Zm60-500h600v-160H180v160Zm220 220h160v-160H400v160Zm0 220h160v-160H400v160ZM180-400h160v-160H180v160Zm440 0h160v-160H620v160ZM180-180h160v-160H180v160Zm440 0h160v-160H620v160Z\"/>\n",
              "  </svg>\n",
              "    </button>\n",
              "\n",
              "  <style>\n",
              "    .colab-df-container {\n",
              "      display:flex;\n",
              "      gap: 12px;\n",
              "    }\n",
              "\n",
              "    .colab-df-convert {\n",
              "      background-color: #E8F0FE;\n",
              "      border: none;\n",
              "      border-radius: 50%;\n",
              "      cursor: pointer;\n",
              "      display: none;\n",
              "      fill: #1967D2;\n",
              "      height: 32px;\n",
              "      padding: 0 0 0 0;\n",
              "      width: 32px;\n",
              "    }\n",
              "\n",
              "    .colab-df-convert:hover {\n",
              "      background-color: #E2EBFA;\n",
              "      box-shadow: 0px 1px 2px rgba(60, 64, 67, 0.3), 0px 1px 3px 1px rgba(60, 64, 67, 0.15);\n",
              "      fill: #174EA6;\n",
              "    }\n",
              "\n",
              "    .colab-df-buttons div {\n",
              "      margin-bottom: 4px;\n",
              "    }\n",
              "\n",
              "    [theme=dark] .colab-df-convert {\n",
              "      background-color: #3B4455;\n",
              "      fill: #D2E3FC;\n",
              "    }\n",
              "\n",
              "    [theme=dark] .colab-df-convert:hover {\n",
              "      background-color: #434B5C;\n",
              "      box-shadow: 0px 1px 3px 1px rgba(0, 0, 0, 0.15);\n",
              "      filter: drop-shadow(0px 1px 2px rgba(0, 0, 0, 0.3));\n",
              "      fill: #FFFFFF;\n",
              "    }\n",
              "  </style>\n",
              "\n",
              "    <script>\n",
              "      const buttonEl =\n",
              "        document.querySelector('#df-70ad0fcd-6bb8-471c-9f84-5c5b4497c463 button.colab-df-convert');\n",
              "      buttonEl.style.display =\n",
              "        google.colab.kernel.accessAllowed ? 'block' : 'none';\n",
              "\n",
              "      async function convertToInteractive(key) {\n",
              "        const element = document.querySelector('#df-70ad0fcd-6bb8-471c-9f84-5c5b4497c463');\n",
              "        const dataTable =\n",
              "          await google.colab.kernel.invokeFunction('convertToInteractive',\n",
              "                                                    [key], {});\n",
              "        if (!dataTable) return;\n",
              "\n",
              "        const docLinkHtml = 'Like what you see? Visit the ' +\n",
              "          '<a target=\"_blank\" href=https://colab.research.google.com/notebooks/data_table.ipynb>data table notebook</a>'\n",
              "          + ' to learn more about interactive tables.';\n",
              "        element.innerHTML = '';\n",
              "        dataTable['output_type'] = 'display_data';\n",
              "        await google.colab.output.renderOutput(dataTable, element);\n",
              "        const docLink = document.createElement('div');\n",
              "        docLink.innerHTML = docLinkHtml;\n",
              "        element.appendChild(docLink);\n",
              "      }\n",
              "    </script>\n",
              "  </div>\n",
              "\n",
              "\n",
              "<div id=\"df-cc12d724-3703-49a4-97b3-4da3a6e044b7\">\n",
              "  <button class=\"colab-df-quickchart\" onclick=\"quickchart('df-cc12d724-3703-49a4-97b3-4da3a6e044b7')\"\n",
              "            title=\"Suggest charts\"\n",
              "            style=\"display:none;\">\n",
              "\n",
              "<svg xmlns=\"http://www.w3.org/2000/svg\" height=\"24px\"viewBox=\"0 0 24 24\"\n",
              "     width=\"24px\">\n",
              "    <g>\n",
              "        <path d=\"M19 3H5c-1.1 0-2 .9-2 2v14c0 1.1.9 2 2 2h14c1.1 0 2-.9 2-2V5c0-1.1-.9-2-2-2zM9 17H7v-7h2v7zm4 0h-2V7h2v10zm4 0h-2v-4h2v4z\"/>\n",
              "    </g>\n",
              "</svg>\n",
              "  </button>\n",
              "\n",
              "<style>\n",
              "  .colab-df-quickchart {\n",
              "      --bg-color: #E8F0FE;\n",
              "      --fill-color: #1967D2;\n",
              "      --hover-bg-color: #E2EBFA;\n",
              "      --hover-fill-color: #174EA6;\n",
              "      --disabled-fill-color: #AAA;\n",
              "      --disabled-bg-color: #DDD;\n",
              "  }\n",
              "\n",
              "  [theme=dark] .colab-df-quickchart {\n",
              "      --bg-color: #3B4455;\n",
              "      --fill-color: #D2E3FC;\n",
              "      --hover-bg-color: #434B5C;\n",
              "      --hover-fill-color: #FFFFFF;\n",
              "      --disabled-bg-color: #3B4455;\n",
              "      --disabled-fill-color: #666;\n",
              "  }\n",
              "\n",
              "  .colab-df-quickchart {\n",
              "    background-color: var(--bg-color);\n",
              "    border: none;\n",
              "    border-radius: 50%;\n",
              "    cursor: pointer;\n",
              "    display: none;\n",
              "    fill: var(--fill-color);\n",
              "    height: 32px;\n",
              "    padding: 0;\n",
              "    width: 32px;\n",
              "  }\n",
              "\n",
              "  .colab-df-quickchart:hover {\n",
              "    background-color: var(--hover-bg-color);\n",
              "    box-shadow: 0 1px 2px rgba(60, 64, 67, 0.3), 0 1px 3px 1px rgba(60, 64, 67, 0.15);\n",
              "    fill: var(--button-hover-fill-color);\n",
              "  }\n",
              "\n",
              "  .colab-df-quickchart-complete:disabled,\n",
              "  .colab-df-quickchart-complete:disabled:hover {\n",
              "    background-color: var(--disabled-bg-color);\n",
              "    fill: var(--disabled-fill-color);\n",
              "    box-shadow: none;\n",
              "  }\n",
              "\n",
              "  .colab-df-spinner {\n",
              "    border: 2px solid var(--fill-color);\n",
              "    border-color: transparent;\n",
              "    border-bottom-color: var(--fill-color);\n",
              "    animation:\n",
              "      spin 1s steps(1) infinite;\n",
              "  }\n",
              "\n",
              "  @keyframes spin {\n",
              "    0% {\n",
              "      border-color: transparent;\n",
              "      border-bottom-color: var(--fill-color);\n",
              "      border-left-color: var(--fill-color);\n",
              "    }\n",
              "    20% {\n",
              "      border-color: transparent;\n",
              "      border-left-color: var(--fill-color);\n",
              "      border-top-color: var(--fill-color);\n",
              "    }\n",
              "    30% {\n",
              "      border-color: transparent;\n",
              "      border-left-color: var(--fill-color);\n",
              "      border-top-color: var(--fill-color);\n",
              "      border-right-color: var(--fill-color);\n",
              "    }\n",
              "    40% {\n",
              "      border-color: transparent;\n",
              "      border-right-color: var(--fill-color);\n",
              "      border-top-color: var(--fill-color);\n",
              "    }\n",
              "    60% {\n",
              "      border-color: transparent;\n",
              "      border-right-color: var(--fill-color);\n",
              "    }\n",
              "    80% {\n",
              "      border-color: transparent;\n",
              "      border-right-color: var(--fill-color);\n",
              "      border-bottom-color: var(--fill-color);\n",
              "    }\n",
              "    90% {\n",
              "      border-color: transparent;\n",
              "      border-bottom-color: var(--fill-color);\n",
              "    }\n",
              "  }\n",
              "</style>\n",
              "\n",
              "  <script>\n",
              "    async function quickchart(key) {\n",
              "      const quickchartButtonEl =\n",
              "        document.querySelector('#' + key + ' button');\n",
              "      quickchartButtonEl.disabled = true;  // To prevent multiple clicks.\n",
              "      quickchartButtonEl.classList.add('colab-df-spinner');\n",
              "      try {\n",
              "        const charts = await google.colab.kernel.invokeFunction(\n",
              "            'suggestCharts', [key], {});\n",
              "      } catch (error) {\n",
              "        console.error('Error during call to suggestCharts:', error);\n",
              "      }\n",
              "      quickchartButtonEl.classList.remove('colab-df-spinner');\n",
              "      quickchartButtonEl.classList.add('colab-df-quickchart-complete');\n",
              "    }\n",
              "    (() => {\n",
              "      let quickchartButtonEl =\n",
              "        document.querySelector('#df-cc12d724-3703-49a4-97b3-4da3a6e044b7 button');\n",
              "      quickchartButtonEl.style.display =\n",
              "        google.colab.kernel.accessAllowed ? 'block' : 'none';\n",
              "    })();\n",
              "  </script>\n",
              "</div>\n",
              "\n",
              "    </div>\n",
              "  </div>\n"
            ],
            "application/vnd.google.colaboratory.intrinsic+json": {
              "type": "dataframe",
              "variable_name": "x",
              "summary": "{\n  \"name\": \"x\",\n  \"rows\": 1338,\n  \"fields\": [\n    {\n      \"column\": \"smoker\",\n      \"properties\": {\n        \"dtype\": \"number\",\n        \"std\": 0,\n        \"min\": 0,\n        \"max\": 1,\n        \"num_unique_values\": 2,\n        \"samples\": [\n          0,\n          1\n        ],\n        \"semantic_type\": \"\",\n        \"description\": \"\"\n      }\n    }\n  ]\n}"
            }
          },
          "metadata": {},
          "execution_count": 70
        }
      ],
      "source": [
        "x.head()"
      ]
    },
    {
      "cell_type": "code",
      "execution_count": 71,
      "id": "mpytiAFLhGVJ",
      "metadata": {
        "colab": {
          "base_uri": "https://localhost:8080/",
          "height": 241
        },
        "id": "mpytiAFLhGVJ",
        "outputId": "41f74838-6feb-4b6e-cb34-4bd585e1756a"
      },
      "outputs": [
        {
          "output_type": "execute_result",
          "data": {
            "text/plain": [
              "0    16884.92400\n",
              "1     1725.55230\n",
              "2     4449.46200\n",
              "3    21984.47061\n",
              "4     3866.85520\n",
              "Name: charges, dtype: float64"
            ],
            "text/html": [
              "<table border=\"1\" class=\"dataframe\">\n",
              "  <thead>\n",
              "    <tr style=\"text-align: right;\">\n",
              "      <th></th>\n",
              "      <th>charges</th>\n",
              "    </tr>\n",
              "  </thead>\n",
              "  <tbody>\n",
              "    <tr>\n",
              "      <th>0</th>\n",
              "      <td>16884.92400</td>\n",
              "    </tr>\n",
              "    <tr>\n",
              "      <th>1</th>\n",
              "      <td>1725.55230</td>\n",
              "    </tr>\n",
              "    <tr>\n",
              "      <th>2</th>\n",
              "      <td>4449.46200</td>\n",
              "    </tr>\n",
              "    <tr>\n",
              "      <th>3</th>\n",
              "      <td>21984.47061</td>\n",
              "    </tr>\n",
              "    <tr>\n",
              "      <th>4</th>\n",
              "      <td>3866.85520</td>\n",
              "    </tr>\n",
              "  </tbody>\n",
              "</table><br><label><b>dtype:</b> float64</label>"
            ]
          },
          "metadata": {},
          "execution_count": 71
        }
      ],
      "source": [
        "y.head()"
      ]
    },
    {
      "cell_type": "code",
      "execution_count": 50,
      "id": "H2phrAf8hPnR",
      "metadata": {
        "colab": {
          "base_uri": "https://localhost:8080/"
        },
        "id": "H2phrAf8hPnR",
        "outputId": "2e499d92-719e-4247-f256-44f457d0c60f"
      },
      "outputs": [
        {
          "output_type": "execute_result",
          "data": {
            "text/plain": [
              "((1338, 1), (1338,))"
            ]
          },
          "metadata": {},
          "execution_count": 50
        }
      ],
      "source": [
        "x.shape, y.shape"
      ]
    },
    {
      "cell_type": "code",
      "execution_count": 51,
      "id": "fkTimp7nhPnW",
      "metadata": {
        "colab": {
          "base_uri": "https://localhost:8080/"
        },
        "id": "fkTimp7nhPnW",
        "outputId": "3f287fcc-d9ea-4034-8510-ed3e34ffbd3d"
      },
      "outputs": [
        {
          "output_type": "stream",
          "name": "stdout",
          "text": [
            "1070 treinamento + 268 teste\n"
          ]
        }
      ],
      "source": [
        "x_train, x_test, y_train, y_test = train_test_split(x, y, test_size=0.2, random_state=42)\n",
        "print(len(x_train), \"treinamento +\", len(x_test), \"teste\")"
      ]
    },
    {
      "cell_type": "markdown",
      "id": "goiESPGIhWUc",
      "metadata": {
        "id": "goiESPGIhWUc"
      },
      "source": [
        "## Criando modelo"
      ]
    },
    {
      "cell_type": "markdown",
      "source": [
        "**Formula**  \n",
        "y = b0 + b1 * x1"
      ],
      "metadata": {
        "id": "bfZ7mbkfzdkN"
      },
      "id": "bfZ7mbkfzdkN"
    },
    {
      "cell_type": "markdown",
      "source": [
        "![regressao-linear-formula2.png](data:image/png;base64,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)"
      ],
      "metadata": {
        "id": "ZhdAnidDzdkO"
      },
      "id": "ZhdAnidDzdkO"
    },
    {
      "cell_type": "code",
      "execution_count": 52,
      "id": "iWUKZ8F0hea6",
      "metadata": {
        "colab": {
          "base_uri": "https://localhost:8080/",
          "height": 74
        },
        "id": "iWUKZ8F0hea6",
        "outputId": "6d03061e-a576-4e25-cff8-66fa2cf22b96"
      },
      "outputs": [
        {
          "output_type": "execute_result",
          "data": {
            "text/plain": [
              "LinearRegression(n_jobs=-1)"
            ],
            "text/html": [
              "<style>#sk-container-id-5 {color: black;}#sk-container-id-5 pre{padding: 0;}#sk-container-id-5 div.sk-toggleable {background-color: white;}#sk-container-id-5 label.sk-toggleable__label {cursor: pointer;display: block;width: 100%;margin-bottom: 0;padding: 0.3em;box-sizing: border-box;text-align: center;}#sk-container-id-5 label.sk-toggleable__label-arrow:before {content: \"▸\";float: left;margin-right: 0.25em;color: #696969;}#sk-container-id-5 label.sk-toggleable__label-arrow:hover:before {color: black;}#sk-container-id-5 div.sk-estimator:hover label.sk-toggleable__label-arrow:before {color: black;}#sk-container-id-5 div.sk-toggleable__content {max-height: 0;max-width: 0;overflow: hidden;text-align: left;background-color: #f0f8ff;}#sk-container-id-5 div.sk-toggleable__content pre {margin: 0.2em;color: black;border-radius: 0.25em;background-color: #f0f8ff;}#sk-container-id-5 input.sk-toggleable__control:checked~div.sk-toggleable__content {max-height: 200px;max-width: 100%;overflow: auto;}#sk-container-id-5 input.sk-toggleable__control:checked~label.sk-toggleable__label-arrow:before {content: \"▾\";}#sk-container-id-5 div.sk-estimator input.sk-toggleable__control:checked~label.sk-toggleable__label {background-color: #d4ebff;}#sk-container-id-5 div.sk-label input.sk-toggleable__control:checked~label.sk-toggleable__label {background-color: #d4ebff;}#sk-container-id-5 input.sk-hidden--visually {border: 0;clip: rect(1px 1px 1px 1px);clip: rect(1px, 1px, 1px, 1px);height: 1px;margin: -1px;overflow: hidden;padding: 0;position: absolute;width: 1px;}#sk-container-id-5 div.sk-estimator {font-family: monospace;background-color: #f0f8ff;border: 1px dotted black;border-radius: 0.25em;box-sizing: border-box;margin-bottom: 0.5em;}#sk-container-id-5 div.sk-estimator:hover {background-color: #d4ebff;}#sk-container-id-5 div.sk-parallel-item::after {content: \"\";width: 100%;border-bottom: 1px solid gray;flex-grow: 1;}#sk-container-id-5 div.sk-label:hover label.sk-toggleable__label {background-color: #d4ebff;}#sk-container-id-5 div.sk-serial::before {content: \"\";position: absolute;border-left: 1px solid gray;box-sizing: border-box;top: 0;bottom: 0;left: 50%;z-index: 0;}#sk-container-id-5 div.sk-serial {display: flex;flex-direction: column;align-items: center;background-color: white;padding-right: 0.2em;padding-left: 0.2em;position: relative;}#sk-container-id-5 div.sk-item {position: relative;z-index: 1;}#sk-container-id-5 div.sk-parallel {display: flex;align-items: stretch;justify-content: center;background-color: white;position: relative;}#sk-container-id-5 div.sk-item::before, #sk-container-id-5 div.sk-parallel-item::before {content: \"\";position: absolute;border-left: 1px solid gray;box-sizing: border-box;top: 0;bottom: 0;left: 50%;z-index: -1;}#sk-container-id-5 div.sk-parallel-item {display: flex;flex-direction: column;z-index: 1;position: relative;background-color: white;}#sk-container-id-5 div.sk-parallel-item:first-child::after {align-self: flex-end;width: 50%;}#sk-container-id-5 div.sk-parallel-item:last-child::after {align-self: flex-start;width: 50%;}#sk-container-id-5 div.sk-parallel-item:only-child::after {width: 0;}#sk-container-id-5 div.sk-dashed-wrapped {border: 1px dashed gray;margin: 0 0.4em 0.5em 0.4em;box-sizing: border-box;padding-bottom: 0.4em;background-color: white;}#sk-container-id-5 div.sk-label label {font-family: monospace;font-weight: bold;display: inline-block;line-height: 1.2em;}#sk-container-id-5 div.sk-label-container {text-align: center;}#sk-container-id-5 div.sk-container {/* jupyter's `normalize.less` sets `[hidden] { display: none; }` but bootstrap.min.css set `[hidden] { display: none !important; }` so we also need the `!important` here to be able to override the default hidden behavior on the sphinx rendered scikit-learn.org. See: https://github.com/scikit-learn/scikit-learn/issues/21755 */display: inline-block !important;position: relative;}#sk-container-id-5 div.sk-text-repr-fallback {display: none;}</style><div id=\"sk-container-id-5\" class=\"sk-top-container\"><div class=\"sk-text-repr-fallback\"><pre>LinearRegression(n_jobs=-1)</pre><b>In a Jupyter environment, please rerun this cell to show the HTML representation or trust the notebook. <br />On GitHub, the HTML representation is unable to render, please try loading this page with nbviewer.org.</b></div><div class=\"sk-container\" hidden><div class=\"sk-item\"><div class=\"sk-estimator sk-toggleable\"><input class=\"sk-toggleable__control sk-hidden--visually\" id=\"sk-estimator-id-5\" type=\"checkbox\" checked><label for=\"sk-estimator-id-5\" class=\"sk-toggleable__label sk-toggleable__label-arrow\">LinearRegression</label><div class=\"sk-toggleable__content\"><pre>LinearRegression(n_jobs=-1)</pre></div></div></div></div></div>"
            ]
          },
          "metadata": {},
          "execution_count": 52
        }
      ],
      "source": [
        "model = LinearRegression(n_jobs=-1)\n",
        "model.fit(x_train, y_train)"
      ]
    },
    {
      "cell_type": "code",
      "execution_count": 53,
      "id": "Fd_gBsBhhea7",
      "metadata": {
        "id": "Fd_gBsBhhea7"
      },
      "outputs": [],
      "source": [
        "y_predictions = model.predict(x_test)"
      ]
    },
    {
      "cell_type": "code",
      "metadata": {
        "colab": {
          "base_uri": "https://localhost:8080/"
        },
        "id": "O4nrcYxCuopr",
        "outputId": "70d36642-3ce8-43f4-8749-1251d96667ac"
      },
      "source": [
        "# b0 - parte da formula - constante\n",
        "model.intercept_"
      ],
      "execution_count": 55,
      "outputs": [
        {
          "output_type": "execute_result",
          "data": {
            "text/plain": [
              "8578.322547999996"
            ]
          },
          "metadata": {},
          "execution_count": 55
        }
      ],
      "id": "O4nrcYxCuopr"
    },
    {
      "cell_type": "code",
      "metadata": {
        "colab": {
          "base_uri": "https://localhost:8080/"
        },
        "id": "enjOw1tvu0Xx",
        "outputId": "b2577411-3601-40b1-aee9-87aa6f612b32"
      },
      "source": [
        "# b1 - parte da formula - coeficiente\n",
        "model.coef_"
      ],
      "execution_count": 56,
      "outputs": [
        {
          "output_type": "execute_result",
          "data": {
            "text/plain": [
              "array([23188.68587068])"
            ]
          },
          "metadata": {},
          "execution_count": 56
        }
      ],
      "id": "enjOw1tvu0Xx"
    },
    {
      "cell_type": "code",
      "source": [
        "model.predict([[1]])"
      ],
      "metadata": {
        "colab": {
          "base_uri": "https://localhost:8080/"
        },
        "id": "lzyomEAOwN72",
        "outputId": "7a9cffcd-27ba-4a12-c259-90e2abf379fb"
      },
      "id": "lzyomEAOwN72",
      "execution_count": 117,
      "outputs": [
        {
          "output_type": "stream",
          "name": "stderr",
          "text": [
            "/usr/local/lib/python3.10/dist-packages/sklearn/base.py:465: UserWarning:\n",
            "\n",
            "X does not have valid feature names, but LinearRegression was fitted with feature names\n",
            "\n"
          ]
        },
        {
          "output_type": "execute_result",
          "data": {
            "text/plain": [
              "array([31767.00841868])"
            ]
          },
          "metadata": {},
          "execution_count": 117
        }
      ]
    },
    {
      "cell_type": "code",
      "source": [
        "# y = b0 + b1 * x1\n",
        "# verificando a previsão para smoker = 1 (x1)\n",
        "smoker = 1\n",
        "model.intercept_ + model.coef_ * smoker"
      ],
      "metadata": {
        "colab": {
          "base_uri": "https://localhost:8080/"
        },
        "id": "xE8SvjffwZl9",
        "outputId": "ea5f698e-7ec3-4983-a598-bf4e86b6d2b0"
      },
      "id": "xE8SvjffwZl9",
      "execution_count": 119,
      "outputs": [
        {
          "output_type": "execute_result",
          "data": {
            "text/plain": [
              "array([31767.00841868])"
            ]
          },
          "metadata": {},
          "execution_count": 119
        }
      ]
    },
    {
      "cell_type": "code",
      "source": [
        "# y_train.values.ravel(), x_test.values.ravel()"
      ],
      "metadata": {
        "id": "S8M8-qWwudCf"
      },
      "id": "S8M8-qWwudCf",
      "execution_count": 120,
      "outputs": []
    },
    {
      "cell_type": "code",
      "source": [
        "# y_test.values[0:10], y_predictions[0:10]"
      ],
      "metadata": {
        "id": "8Z8K5bEotxB0"
      },
      "id": "8Z8K5bEotxB0",
      "execution_count": 121,
      "outputs": []
    },
    {
      "cell_type": "code",
      "source": [
        "grafico = px.scatter(x = x_test.values.ravel(), y = y_test.values, height=500, width=800)\n",
        "grafico.add_scatter(x = x_test.values.ravel(), y = y_predictions, name = 'Previsto')\n",
        "grafico.layout.title = 'Regressão Linear Simples'\n",
        "grafico.show()"
      ],
      "metadata": {
        "colab": {
          "base_uri": "https://localhost:8080/",
          "height": 517
        },
        "id": "YF2wd8zzsmUh",
        "outputId": "ccf10e37-af2b-4fb7-cadc-d70285bf9b50"
      },
      "id": "YF2wd8zzsmUh",
      "execution_count": 116,
      "outputs": [
        {
          "output_type": "display_data",
          "data": {
            "text/html": [
              "<html>\n",
              "<head><meta charset=\"utf-8\" /></head>\n",
              "<body>\n",
              "    <div>            <script src=\"https://cdnjs.cloudflare.com/ajax/libs/mathjax/2.7.5/MathJax.js?config=TeX-AMS-MML_SVG\"></script><script type=\"text/javascript\">if (window.MathJax && window.MathJax.Hub && window.MathJax.Hub.Config) {window.MathJax.Hub.Config({SVG: {font: \"STIX-Web\"}});}</script>                <script type=\"text/javascript\">window.PlotlyConfig = {MathJaxConfig: 'local'};</script>\n",
              "        <script charset=\"utf-8\" src=\"https://cdn.plot.ly/plotly-2.24.1.min.js\"></script>                <div id=\"4f292f3b-26ab-41c5-a2c7-b2f5624fdcdd\" class=\"plotly-graph-div\" style=\"height:500px; width:800px;\"></div>            <script type=\"text/javascript\">                                    window.PLOTLYENV=window.PLOTLYENV || {};                                    if (document.getElementById(\"4f292f3b-26ab-41c5-a2c7-b2f5624fdcdd\")) {                    Plotly.newPlot(                        \"4f292f3b-26ab-41c5-a2c7-b2f5624fdcdd\",                        [{\"hovertemplate\":\"x=%{x}\\u003cbr\\u003ey=%{y}\\u003cextra\\u003e\\u003c\\u002fextra\\u003e\",\"legendgroup\":\"\",\"marker\":{\"color\":\"#636efa\",\"symbol\":\"circle\"},\"mode\":\"markers\",\"name\":\"\",\"orientation\":\"v\",\"showlegend\":false,\"x\":[0,0,1,0,1,0,0,0,0,0,1,0,0,1,1,1,0,1,0,1,0,0,0,0,0,0,0,0,0,0,0,0,0,0,0,0,0,0,1,1,0,0,0,0,0,0,0,0,1,0,0,0,0,0,0,0,0,1,0,0,0,0,0,0,0,0,1,0,0,0,0,0,0,0,0,0,0,0,0,0,0,1,0,1,1,1,0,0,0,0,0,1,1,0,1,0,1,0,1,0,0,0,0,0,0,0,0,1,0,1,0,0,0,1,0,0,0,1,0,0,0,0,0,0,0,0,0,0,0,0,0,0,0,0,0,0,0,1,1,1,0,0,0,0,0,1,0,0,0,0,1,0,0,1,0,0,0,0,1,1,0,0,0,0,0,0,1,1,1,0,0,0,0,0,0,1,1,0,1,0,1,0,0,0,0,0,0,0,0,0,0,0,0,1,0,0,0,0,0,0,0,1,0,0,1,1,0,0,0,0,0,0,0,1,0,0,0,0,0,0,0,0,0,1,0,1,0,0,0,0,0,0,0,1,0,0,0,0,1,0,0,1,0,0,0,0,0,0,0,0,0,0,0,0,0,0,0,0,0,0,0,0,1,1,0,0,1,0],\"xaxis\":\"x\",\"y\":[9095.06825,5272.1758,29330.98315,9301.89355,33750.2918,4536.259,2117.33885,14210.53595,3732.6251,10264.4421,18259.216,7256.7231,3947.4131,46151.1245,48673.5588,44202.6536,9800.8882,42969.8527,8233.0975,21774.32215,5080.096,7441.501,1256.299,2755.02095,11085.5868,10923.9332,12644.589,18804.7524,9715.841,1131.5066,15828.82173,11842.62375,2020.5523,5693.4305,2904.088,7448.40395,2597.779,7337.748,23887.6627,38709.176,4687.797,2643.2685,11674.13,12124.9924,4889.9995,12333.828,3579.8287,4391.652,42124.5153,4463.2051,13887.204,1719.4363,28476.73499,1708.92575,10594.2257,25333.33284,3645.0894,38746.3551,11848.141,10564.8845,13880.949,4753.6368,27941.28758,8017.06115,23045.56616,4133.64165,17942.106,25992.82104,3594.17085,1682.597,6079.6715,9411.005,8283.6807,6338.0756,7152.6714,4889.0368,4846.92015,11454.0215,4349.462,9101.798,1391.5287,28101.33305,5152.134,38511.6283,44501.3982,41097.16175,4837.5823,10601.63225,8310.83915,11264.541,15230.32405,27037.9141,23401.30575,5031.26955,38282.7495,6875.961,19719.6947,1880.07,18765.87545,6402.29135,4527.18295,1743.214,5709.1644,12363.547,13129.60345,1727.54,7731.4271,21195.818,1702.4553,23244.7902,23082.95533,2927.0647,13019.16105,37701.8768,9778.3472,1980.07,30259.99556,22478.6,6313.759,2789.0574,5594.8455,7261.741,11396.9002,1986.9334,4719.73655,7749.1564,7345.7266,9288.0267,12244.531,1837.2819,3972.9247,5934.3798,5836.5204,7935.29115,5649.715,12347.172,12404.8791,22144.032,42983.4585,37270.1512,5267.81815,9866.30485,2322.6218,33471.97189,2137.6536,23306.547,5261.46945,3761.292,11436.73815,4751.07,46661.4424,2690.1138,1146.7966,37607.5277,6373.55735,4518.82625,13555.0049,8547.6913,34439.8559,39125.33225,13607.36875,2710.82855,14988.432,2396.0959,3591.48,7162.0122,48824.45,43578.9394,39556.4945,2632.992,9182.17,6238.298,5757.41345,4239.89265,2154.361,21978.6769,16297.846,13831.1152,32734.1863,11830.6072,29523.1656,3167.45585,8428.0693,5012.471,5209.57885,2855.43755,20277.80751,3554.203,8569.8618,10594.50155,3597.596,7323.734819,2731.9122,38711.0,12981.3457,9283.562,2709.1119,12096.6512,2198.18985,8932.084,3176.2877,24393.6224,4266.1658,22493.65964,17085.2676,16577.7795,8827.2099,4296.2712,7804.1605,3208.787,12957.118,22192.43711,9432.9253,17043.3414,6593.5083,4137.5227,4779.6023,14001.2867,12629.8967,5245.2269,2404.7338,6948.7008,6435.6237,42560.4304,2055.3249,34672.1472,1731.677,1639.5631,9377.9047,10977.2063,1534.3045,9644.2525,4529.477,37829.7242,9991.03765,8125.7845,3877.30425,5979.731,43896.3763,1674.6323,13204.28565,44585.45587,3021.80915,3392.9768,1632.03625,2699.56835,20177.67113,4076.497,12592.5345,1621.3402,1875.344,7196.867,3161.454,12029.2867,2719.27975,18218.16139,12146.971,3292.52985,8688.85885,6113.23105,8059.6791,13415.0381,18246.4955,47055.5321,12222.8983,6067.12675,63770.42801,9872.701],\"yaxis\":\"y\",\"type\":\"scatter\"},{\"name\":\"Previsto\",\"x\":[0,0,1,0,1,0,0,0,0,0,1,0,0,1,1,1,0,1,0,1,0,0,0,0,0,0,0,0,0,0,0,0,0,0,0,0,0,0,1,1,0,0,0,0,0,0,0,0,1,0,0,0,0,0,0,0,0,1,0,0,0,0,0,0,0,0,1,0,0,0,0,0,0,0,0,0,0,0,0,0,0,1,0,1,1,1,0,0,0,0,0,1,1,0,1,0,1,0,1,0,0,0,0,0,0,0,0,1,0,1,0,0,0,1,0,0,0,1,0,0,0,0,0,0,0,0,0,0,0,0,0,0,0,0,0,0,0,1,1,1,0,0,0,0,0,1,0,0,0,0,1,0,0,1,0,0,0,0,1,1,0,0,0,0,0,0,1,1,1,0,0,0,0,0,0,1,1,0,1,0,1,0,0,0,0,0,0,0,0,0,0,0,0,1,0,0,0,0,0,0,0,1,0,0,1,1,0,0,0,0,0,0,0,1,0,0,0,0,0,0,0,0,0,1,0,1,0,0,0,0,0,0,0,1,0,0,0,0,1,0,0,1,0,0,0,0,0,0,0,0,0,0,0,0,0,0,0,0,0,0,0,0,1,1,0,0,1,0],\"y\":[8578.322547999996,8578.322547999996,31767.00841868183,8578.322547999996,31767.00841868183,8578.322547999996,8578.322547999996,8578.322547999996,8578.322547999996,8578.322547999996,31767.00841868183,8578.322547999996,8578.322547999996,31767.00841868183,31767.00841868183,31767.00841868183,8578.322547999996,31767.00841868183,8578.322547999996,31767.00841868183,8578.322547999996,8578.322547999996,8578.322547999996,8578.322547999996,8578.322547999996,8578.322547999996,8578.322547999996,8578.322547999996,8578.322547999996,8578.322547999996,8578.322547999996,8578.322547999996,8578.322547999996,8578.322547999996,8578.322547999996,8578.322547999996,8578.322547999996,8578.322547999996,31767.00841868183,31767.00841868183,8578.322547999996,8578.322547999996,8578.322547999996,8578.322547999996,8578.322547999996,8578.322547999996,8578.322547999996,8578.322547999996,31767.00841868183,8578.322547999996,8578.322547999996,8578.322547999996,8578.322547999996,8578.322547999996,8578.322547999996,8578.322547999996,8578.322547999996,31767.00841868183,8578.322547999996,8578.322547999996,8578.322547999996,8578.322547999996,8578.322547999996,8578.322547999996,8578.322547999996,8578.322547999996,31767.00841868183,8578.322547999996,8578.322547999996,8578.322547999996,8578.322547999996,8578.322547999996,8578.322547999996,8578.322547999996,8578.322547999996,8578.322547999996,8578.322547999996,8578.322547999996,8578.322547999996,8578.322547999996,8578.322547999996,31767.00841868183,8578.322547999996,31767.00841868183,31767.00841868183,31767.00841868183,8578.322547999996,8578.322547999996,8578.322547999996,8578.322547999996,8578.322547999996,31767.00841868183,31767.00841868183,8578.322547999996,31767.00841868183,8578.322547999996,31767.00841868183,8578.322547999996,31767.00841868183,8578.322547999996,8578.322547999996,8578.322547999996,8578.322547999996,8578.322547999996,8578.322547999996,8578.322547999996,8578.322547999996,31767.00841868183,8578.322547999996,31767.00841868183,8578.322547999996,8578.322547999996,8578.322547999996,31767.00841868183,8578.322547999996,8578.322547999996,8578.322547999996,31767.00841868183,8578.322547999996,8578.322547999996,8578.322547999996,8578.322547999996,8578.322547999996,8578.322547999996,8578.322547999996,8578.322547999996,8578.322547999996,8578.322547999996,8578.322547999996,8578.322547999996,8578.322547999996,8578.322547999996,8578.322547999996,8578.322547999996,8578.322547999996,8578.322547999996,8578.322547999996,31767.00841868183,31767.00841868183,31767.00841868183,8578.322547999996,8578.322547999996,8578.322547999996,8578.322547999996,8578.322547999996,31767.00841868183,8578.322547999996,8578.322547999996,8578.322547999996,8578.322547999996,31767.00841868183,8578.322547999996,8578.322547999996,31767.00841868183,8578.322547999996,8578.322547999996,8578.322547999996,8578.322547999996,31767.00841868183,31767.00841868183,8578.322547999996,8578.322547999996,8578.322547999996,8578.322547999996,8578.322547999996,8578.322547999996,31767.00841868183,31767.00841868183,31767.00841868183,8578.322547999996,8578.322547999996,8578.322547999996,8578.322547999996,8578.322547999996,8578.322547999996,31767.00841868183,31767.00841868183,8578.322547999996,31767.00841868183,8578.322547999996,31767.00841868183,8578.322547999996,8578.322547999996,8578.322547999996,8578.322547999996,8578.322547999996,8578.322547999996,8578.322547999996,8578.322547999996,8578.322547999996,8578.322547999996,8578.322547999996,8578.322547999996,31767.00841868183,8578.322547999996,8578.322547999996,8578.322547999996,8578.322547999996,8578.322547999996,8578.322547999996,8578.322547999996,31767.00841868183,8578.322547999996,8578.322547999996,31767.00841868183,31767.00841868183,8578.322547999996,8578.322547999996,8578.322547999996,8578.322547999996,8578.322547999996,8578.322547999996,8578.322547999996,31767.00841868183,8578.322547999996,8578.322547999996,8578.322547999996,8578.322547999996,8578.322547999996,8578.322547999996,8578.322547999996,8578.322547999996,8578.322547999996,31767.00841868183,8578.322547999996,31767.00841868183,8578.322547999996,8578.322547999996,8578.322547999996,8578.322547999996,8578.322547999996,8578.322547999996,8578.322547999996,31767.00841868183,8578.322547999996,8578.322547999996,8578.322547999996,8578.322547999996,31767.00841868183,8578.322547999996,8578.322547999996,31767.00841868183,8578.322547999996,8578.322547999996,8578.322547999996,8578.322547999996,8578.322547999996,8578.322547999996,8578.322547999996,8578.322547999996,8578.322547999996,8578.322547999996,8578.322547999996,8578.322547999996,8578.322547999996,8578.322547999996,8578.322547999996,8578.322547999996,8578.322547999996,8578.322547999996,8578.322547999996,8578.322547999996,31767.00841868183,31767.00841868183,8578.322547999996,8578.322547999996,31767.00841868183,8578.322547999996],\"type\":\"scatter\"}],                        {\"template\":{\"data\":{\"histogram2dcontour\":[{\"type\":\"histogram2dcontour\",\"colorbar\":{\"outlinewidth\":0,\"ticks\":\"\"},\"colorscale\":[[0.0,\"#0d0887\"],[0.1111111111111111,\"#46039f\"],[0.2222222222222222,\"#7201a8\"],[0.3333333333333333,\"#9c179e\"],[0.4444444444444444,\"#bd3786\"],[0.5555555555555556,\"#d8576b\"],[0.6666666666666666,\"#ed7953\"],[0.7777777777777778,\"#fb9f3a\"],[0.8888888888888888,\"#fdca26\"],[1.0,\"#f0f921\"]]}],\"choropleth\":[{\"type\":\"choropleth\",\"colorbar\":{\"outlinewidth\":0,\"ticks\":\"\"}}],\"histogram2d\":[{\"type\":\"histogram2d\",\"colorbar\":{\"outlinewidth\":0,\"ticks\":\"\"},\"colorscale\":[[0.0,\"#0d0887\"],[0.1111111111111111,\"#46039f\"],[0.2222222222222222,\"#7201a8\"],[0.3333333333333333,\"#9c179e\"],[0.4444444444444444,\"#bd3786\"],[0.5555555555555556,\"#d8576b\"],[0.6666666666666666,\"#ed7953\"],[0.7777777777777778,\"#fb9f3a\"],[0.8888888888888888,\"#fdca26\"],[1.0,\"#f0f921\"]]}],\"heatmap\":[{\"type\":\"heatmap\",\"colorbar\":{\"outlinewidth\":0,\"ticks\":\"\"},\"colorscale\":[[0.0,\"#0d0887\"],[0.1111111111111111,\"#46039f\"],[0.2222222222222222,\"#7201a8\"],[0.3333333333333333,\"#9c179e\"],[0.4444444444444444,\"#bd3786\"],[0.5555555555555556,\"#d8576b\"],[0.6666666666666666,\"#ed7953\"],[0.7777777777777778,\"#fb9f3a\"],[0.8888888888888888,\"#fdca26\"],[1.0,\"#f0f921\"]]}],\"heatmapgl\":[{\"type\":\"heatmapgl\",\"colorbar\":{\"outlinewidth\":0,\"ticks\":\"\"},\"colorscale\":[[0.0,\"#0d0887\"],[0.1111111111111111,\"#46039f\"],[0.2222222222222222,\"#7201a8\"],[0.3333333333333333,\"#9c179e\"],[0.4444444444444444,\"#bd3786\"],[0.5555555555555556,\"#d8576b\"],[0.6666666666666666,\"#ed7953\"],[0.7777777777777778,\"#fb9f3a\"],[0.8888888888888888,\"#fdca26\"],[1.0,\"#f0f921\"]]}],\"contourcarpet\":[{\"type\":\"contourcarpet\",\"colorbar\":{\"outlinewidth\":0,\"ticks\":\"\"}}],\"contour\":[{\"type\":\"contour\",\"colorbar\":{\"outlinewidth\":0,\"ticks\":\"\"},\"colorscale\":[[0.0,\"#0d0887\"],[0.1111111111111111,\"#46039f\"],[0.2222222222222222,\"#7201a8\"],[0.3333333333333333,\"#9c179e\"],[0.4444444444444444,\"#bd3786\"],[0.5555555555555556,\"#d8576b\"],[0.6666666666666666,\"#ed7953\"],[0.7777777777777778,\"#fb9f3a\"],[0.8888888888888888,\"#fdca26\"],[1.0,\"#f0f921\"]]}],\"surface\":[{\"type\":\"surface\",\"colorbar\":{\"outlinewidth\":0,\"ticks\":\"\"},\"colorscale\":[[0.0,\"#0d0887\"],[0.1111111111111111,\"#46039f\"],[0.2222222222222222,\"#7201a8\"],[0.3333333333333333,\"#9c179e\"],[0.4444444444444444,\"#bd3786\"],[0.5555555555555556,\"#d8576b\"],[0.6666666666666666,\"#ed7953\"],[0.7777777777777778,\"#fb9f3a\"],[0.8888888888888888,\"#fdca26\"],[1.0,\"#f0f921\"]]}],\"mesh3d\":[{\"type\":\"mesh3d\",\"colorbar\":{\"outlinewidth\":0,\"ticks\":\"\"}}],\"scatter\":[{\"fillpattern\":{\"fillmode\":\"overlay\",\"size\":10,\"solidity\":0.2},\"type\":\"scatter\"}],\"parcoords\":[{\"type\":\"parcoords\",\"line\":{\"colorbar\":{\"outlinewidth\":0,\"ticks\":\"\"}}}],\"scatterpolargl\":[{\"type\":\"scatterpolargl\",\"marker\":{\"colorbar\":{\"outlinewidth\":0,\"ticks\":\"\"}}}],\"bar\":[{\"error_x\":{\"color\":\"#2a3f5f\"},\"error_y\":{\"color\":\"#2a3f5f\"},\"marker\":{\"line\":{\"color\":\"#E5ECF6\",\"width\":0.5},\"pattern\":{\"fillmode\":\"overlay\",\"size\":10,\"solidity\":0.2}},\"type\":\"bar\"}],\"scattergeo\":[{\"type\":\"scattergeo\",\"marker\":{\"colorbar\":{\"outlinewidth\":0,\"ticks\":\"\"}}}],\"scatterpolar\":[{\"type\":\"scatterpolar\",\"marker\":{\"colorbar\":{\"outlinewidth\":0,\"ticks\":\"\"}}}],\"histogram\":[{\"marker\":{\"pattern\":{\"fillmode\":\"overlay\",\"size\":10,\"solidity\":0.2}},\"type\":\"histogram\"}],\"scattergl\":[{\"type\":\"scattergl\",\"marker\":{\"colorbar\":{\"outlinewidth\":0,\"ticks\":\"\"}}}],\"scatter3d\":[{\"type\":\"scatter3d\",\"line\":{\"colorbar\":{\"outlinewidth\":0,\"ticks\":\"\"}},\"marker\":{\"colorbar\":{\"outlinewidth\":0,\"ticks\":\"\"}}}],\"scattermapbox\":[{\"type\":\"scattermapbox\",\"marker\":{\"colorbar\":{\"outlinewidth\":0,\"ticks\":\"\"}}}],\"scatterternary\":[{\"type\":\"scatterternary\",\"marker\":{\"colorbar\":{\"outlinewidth\":0,\"ticks\":\"\"}}}],\"scattercarpet\":[{\"type\":\"scattercarpet\",\"marker\":{\"colorbar\":{\"outlinewidth\":0,\"ticks\":\"\"}}}],\"carpet\":[{\"aaxis\":{\"endlinecolor\":\"#2a3f5f\",\"gridcolor\":\"white\",\"linecolor\":\"white\",\"minorgridcolor\":\"white\",\"startlinecolor\":\"#2a3f5f\"},\"baxis\":{\"endlinecolor\":\"#2a3f5f\",\"gridcolor\":\"white\",\"linecolor\":\"white\",\"minorgridcolor\":\"white\",\"startlinecolor\":\"#2a3f5f\"},\"type\":\"carpet\"}],\"table\":[{\"cells\":{\"fill\":{\"color\":\"#EBF0F8\"},\"line\":{\"color\":\"white\"}},\"header\":{\"fill\":{\"color\":\"#C8D4E3\"},\"line\":{\"color\":\"white\"}},\"type\":\"table\"}],\"barpolar\":[{\"marker\":{\"line\":{\"color\":\"#E5ECF6\",\"width\":0.5},\"pattern\":{\"fillmode\":\"overlay\",\"size\":10,\"solidity\":0.2}},\"type\":\"barpolar\"}],\"pie\":[{\"automargin\":true,\"type\":\"pie\"}]},\"layout\":{\"autotypenumbers\":\"strict\",\"colorway\":[\"#636efa\",\"#EF553B\",\"#00cc96\",\"#ab63fa\",\"#FFA15A\",\"#19d3f3\",\"#FF6692\",\"#B6E880\",\"#FF97FF\",\"#FECB52\"],\"font\":{\"color\":\"#2a3f5f\"},\"hovermode\":\"closest\",\"hoverlabel\":{\"align\":\"left\"},\"paper_bgcolor\":\"white\",\"plot_bgcolor\":\"#E5ECF6\",\"polar\":{\"bgcolor\":\"#E5ECF6\",\"angularaxis\":{\"gridcolor\":\"white\",\"linecolor\":\"white\",\"ticks\":\"\"},\"radialaxis\":{\"gridcolor\":\"white\",\"linecolor\":\"white\",\"ticks\":\"\"}},\"ternary\":{\"bgcolor\":\"#E5ECF6\",\"aaxis\":{\"gridcolor\":\"white\",\"linecolor\":\"white\",\"ticks\":\"\"},\"baxis\":{\"gridcolor\":\"white\",\"linecolor\":\"white\",\"ticks\":\"\"},\"caxis\":{\"gridcolor\":\"white\",\"linecolor\":\"white\",\"ticks\":\"\"}},\"coloraxis\":{\"colorbar\":{\"outlinewidth\":0,\"ticks\":\"\"}},\"colorscale\":{\"sequential\":[[0.0,\"#0d0887\"],[0.1111111111111111,\"#46039f\"],[0.2222222222222222,\"#7201a8\"],[0.3333333333333333,\"#9c179e\"],[0.4444444444444444,\"#bd3786\"],[0.5555555555555556,\"#d8576b\"],[0.6666666666666666,\"#ed7953\"],[0.7777777777777778,\"#fb9f3a\"],[0.8888888888888888,\"#fdca26\"],[1.0,\"#f0f921\"]],\"sequentialminus\":[[0.0,\"#0d0887\"],[0.1111111111111111,\"#46039f\"],[0.2222222222222222,\"#7201a8\"],[0.3333333333333333,\"#9c179e\"],[0.4444444444444444,\"#bd3786\"],[0.5555555555555556,\"#d8576b\"],[0.6666666666666666,\"#ed7953\"],[0.7777777777777778,\"#fb9f3a\"],[0.8888888888888888,\"#fdca26\"],[1.0,\"#f0f921\"]],\"diverging\":[[0,\"#8e0152\"],[0.1,\"#c51b7d\"],[0.2,\"#de77ae\"],[0.3,\"#f1b6da\"],[0.4,\"#fde0ef\"],[0.5,\"#f7f7f7\"],[0.6,\"#e6f5d0\"],[0.7,\"#b8e186\"],[0.8,\"#7fbc41\"],[0.9,\"#4d9221\"],[1,\"#276419\"]]},\"xaxis\":{\"gridcolor\":\"white\",\"linecolor\":\"white\",\"ticks\":\"\",\"title\":{\"standoff\":15},\"zerolinecolor\":\"white\",\"automargin\":true,\"zerolinewidth\":2},\"yaxis\":{\"gridcolor\":\"white\",\"linecolor\":\"white\",\"ticks\":\"\",\"title\":{\"standoff\":15},\"zerolinecolor\":\"white\",\"automargin\":true,\"zerolinewidth\":2},\"scene\":{\"xaxis\":{\"backgroundcolor\":\"#E5ECF6\",\"gridcolor\":\"white\",\"linecolor\":\"white\",\"showbackground\":true,\"ticks\":\"\",\"zerolinecolor\":\"white\",\"gridwidth\":2},\"yaxis\":{\"backgroundcolor\":\"#E5ECF6\",\"gridcolor\":\"white\",\"linecolor\":\"white\",\"showbackground\":true,\"ticks\":\"\",\"zerolinecolor\":\"white\",\"gridwidth\":2},\"zaxis\":{\"backgroundcolor\":\"#E5ECF6\",\"gridcolor\":\"white\",\"linecolor\":\"white\",\"showbackground\":true,\"ticks\":\"\",\"zerolinecolor\":\"white\",\"gridwidth\":2}},\"shapedefaults\":{\"line\":{\"color\":\"#2a3f5f\"}},\"annotationdefaults\":{\"arrowcolor\":\"#2a3f5f\",\"arrowhead\":0,\"arrowwidth\":1},\"geo\":{\"bgcolor\":\"white\",\"landcolor\":\"#E5ECF6\",\"subunitcolor\":\"white\",\"showland\":true,\"showlakes\":true,\"lakecolor\":\"white\"},\"title\":{\"x\":0.05},\"mapbox\":{\"style\":\"light\"}}},\"xaxis\":{\"anchor\":\"y\",\"domain\":[0.0,1.0],\"title\":{\"text\":\"x\"}},\"yaxis\":{\"anchor\":\"x\",\"domain\":[0.0,1.0],\"title\":{\"text\":\"y\"}},\"legend\":{\"tracegroupgap\":0},\"margin\":{\"t\":60},\"height\":500,\"width\":800,\"title\":{\"text\":\"Regress\\u00e3o Linear Simples\"}},                        {\"responsive\": true}                    ).then(function(){\n",
              "                            \n",
              "var gd = document.getElementById('4f292f3b-26ab-41c5-a2c7-b2f5624fdcdd');\n",
              "var x = new MutationObserver(function (mutations, observer) {{\n",
              "        var display = window.getComputedStyle(gd).display;\n",
              "        if (!display || display === 'none') {{\n",
              "            console.log([gd, 'removed!']);\n",
              "            Plotly.purge(gd);\n",
              "            observer.disconnect();\n",
              "        }}\n",
              "}});\n",
              "\n",
              "// Listen for the removal of the full notebook cells\n",
              "var notebookContainer = gd.closest('#notebook-container');\n",
              "if (notebookContainer) {{\n",
              "    x.observe(notebookContainer, {childList: true});\n",
              "}}\n",
              "\n",
              "// Listen for the clearing of the current output cell\n",
              "var outputEl = gd.closest('.output');\n",
              "if (outputEl) {{\n",
              "    x.observe(outputEl, {childList: true});\n",
              "}}\n",
              "\n",
              "                        })                };                            </script>        </div>\n",
              "</body>\n",
              "</html>"
            ]
          },
          "metadata": {}
        }
      ]
    },
    {
      "cell_type": "markdown",
      "id": "BhgD6Nazhea7",
      "metadata": {
        "id": "BhgD6Nazhea7"
      },
      "source": [
        "## Avaliando performance"
      ]
    },
    {
      "cell_type": "code",
      "execution_count": 124,
      "id": "bmndXAwYhea7",
      "metadata": {
        "colab": {
          "base_uri": "https://localhost:8080/"
        },
        "id": "bmndXAwYhea7",
        "outputId": "89abeca0-9450-49c9-839e-5095fbc7e4cf"
      },
      "outputs": [
        {
          "output_type": "stream",
          "name": "stdout",
          "text": [
            "Mean Square Error: 52745964.727526\n",
            "Mean Absolute Error: 5625.810656\n",
            "R² (determination coefficient): 0.660249\n"
          ]
        }
      ],
      "source": [
        "print_model_stats(y_test, y_predictions)"
      ]
    },
    {
      "cell_type": "markdown",
      "id": "9zf-ySuZfYS_",
      "metadata": {
        "id": "9zf-ySuZfYS_"
      },
      "source": [
        "# Regressão linear múltipla - divisão dos dados para treino e teste\n",
        "\n",
        "usando todas colunas - variáveis independentes, para avaliar com uma regressão linear múltipla"
      ]
    },
    {
      "cell_type": "code",
      "execution_count": 125,
      "id": "P0kxJOPKc0nk",
      "metadata": {
        "id": "P0kxJOPKc0nk"
      },
      "outputs": [],
      "source": [
        "x = dados.drop(columns=['charges'])\n",
        "y = dados['charges'] # Target"
      ]
    },
    {
      "cell_type": "code",
      "execution_count": 126,
      "id": "58157966",
      "metadata": {
        "colab": {
          "base_uri": "https://localhost:8080/",
          "height": 206
        },
        "id": "58157966",
        "outputId": "385d9997-dacf-4ef6-cfe3-32c33711bc0f"
      },
      "outputs": [
        {
          "output_type": "execute_result",
          "data": {
            "text/plain": [
              "   age  sex     bmi  children  smoker  region_northeast  region_northwest  \\\n",
              "0   19    0  27.900         0       1                 0                 0   \n",
              "1   18    1  33.770         1       0                 0                 0   \n",
              "2   28    1  33.000         3       0                 0                 0   \n",
              "3   33    1  22.705         0       0                 0                 1   \n",
              "4   32    1  28.880         0       0                 0                 1   \n",
              "\n",
              "   region_southeast  region_southwest  \n",
              "0                 0                 1  \n",
              "1                 1                 0  \n",
              "2                 1                 0  \n",
              "3                 0                 0  \n",
              "4                 0                 0  "
            ],
            "text/html": [
              "\n",
              "  <div id=\"df-599d5568-287e-4231-83b0-7b607929d575\" class=\"colab-df-container\">\n",
              "    <div>\n",
              "<style scoped>\n",
              "    .dataframe tbody tr th:only-of-type {\n",
              "        vertical-align: middle;\n",
              "    }\n",
              "\n",
              "    .dataframe tbody tr th {\n",
              "        vertical-align: top;\n",
              "    }\n",
              "\n",
              "    .dataframe thead th {\n",
              "        text-align: right;\n",
              "    }\n",
              "</style>\n",
              "<table border=\"1\" class=\"dataframe\">\n",
              "  <thead>\n",
              "    <tr style=\"text-align: right;\">\n",
              "      <th></th>\n",
              "      <th>age</th>\n",
              "      <th>sex</th>\n",
              "      <th>bmi</th>\n",
              "      <th>children</th>\n",
              "      <th>smoker</th>\n",
              "      <th>region_northeast</th>\n",
              "      <th>region_northwest</th>\n",
              "      <th>region_southeast</th>\n",
              "      <th>region_southwest</th>\n",
              "    </tr>\n",
              "  </thead>\n",
              "  <tbody>\n",
              "    <tr>\n",
              "      <th>0</th>\n",
              "      <td>19</td>\n",
              "      <td>0</td>\n",
              "      <td>27.900</td>\n",
              "      <td>0</td>\n",
              "      <td>1</td>\n",
              "      <td>0</td>\n",
              "      <td>0</td>\n",
              "      <td>0</td>\n",
              "      <td>1</td>\n",
              "    </tr>\n",
              "    <tr>\n",
              "      <th>1</th>\n",
              "      <td>18</td>\n",
              "      <td>1</td>\n",
              "      <td>33.770</td>\n",
              "      <td>1</td>\n",
              "      <td>0</td>\n",
              "      <td>0</td>\n",
              "      <td>0</td>\n",
              "      <td>1</td>\n",
              "      <td>0</td>\n",
              "    </tr>\n",
              "    <tr>\n",
              "      <th>2</th>\n",
              "      <td>28</td>\n",
              "      <td>1</td>\n",
              "      <td>33.000</td>\n",
              "      <td>3</td>\n",
              "      <td>0</td>\n",
              "      <td>0</td>\n",
              "      <td>0</td>\n",
              "      <td>1</td>\n",
              "      <td>0</td>\n",
              "    </tr>\n",
              "    <tr>\n",
              "      <th>3</th>\n",
              "      <td>33</td>\n",
              "      <td>1</td>\n",
              "      <td>22.705</td>\n",
              "      <td>0</td>\n",
              "      <td>0</td>\n",
              "      <td>0</td>\n",
              "      <td>1</td>\n",
              "      <td>0</td>\n",
              "      <td>0</td>\n",
              "    </tr>\n",
              "    <tr>\n",
              "      <th>4</th>\n",
              "      <td>32</td>\n",
              "      <td>1</td>\n",
              "      <td>28.880</td>\n",
              "      <td>0</td>\n",
              "      <td>0</td>\n",
              "      <td>0</td>\n",
              "      <td>1</td>\n",
              "      <td>0</td>\n",
              "      <td>0</td>\n",
              "    </tr>\n",
              "  </tbody>\n",
              "</table>\n",
              "</div>\n",
              "    <div class=\"colab-df-buttons\">\n",
              "\n",
              "  <div class=\"colab-df-container\">\n",
              "    <button class=\"colab-df-convert\" onclick=\"convertToInteractive('df-599d5568-287e-4231-83b0-7b607929d575')\"\n",
              "            title=\"Convert this dataframe to an interactive table.\"\n",
              "            style=\"display:none;\">\n",
              "\n",
              "  <svg xmlns=\"http://www.w3.org/2000/svg\" height=\"24px\" viewBox=\"0 -960 960 960\">\n",
              "    <path d=\"M120-120v-720h720v720H120Zm60-500h600v-160H180v160Zm220 220h160v-160H400v160Zm0 220h160v-160H400v160ZM180-400h160v-160H180v160Zm440 0h160v-160H620v160ZM180-180h160v-160H180v160Zm440 0h160v-160H620v160Z\"/>\n",
              "  </svg>\n",
              "    </button>\n",
              "\n",
              "  <style>\n",
              "    .colab-df-container {\n",
              "      display:flex;\n",
              "      gap: 12px;\n",
              "    }\n",
              "\n",
              "    .colab-df-convert {\n",
              "      background-color: #E8F0FE;\n",
              "      border: none;\n",
              "      border-radius: 50%;\n",
              "      cursor: pointer;\n",
              "      display: none;\n",
              "      fill: #1967D2;\n",
              "      height: 32px;\n",
              "      padding: 0 0 0 0;\n",
              "      width: 32px;\n",
              "    }\n",
              "\n",
              "    .colab-df-convert:hover {\n",
              "      background-color: #E2EBFA;\n",
              "      box-shadow: 0px 1px 2px rgba(60, 64, 67, 0.3), 0px 1px 3px 1px rgba(60, 64, 67, 0.15);\n",
              "      fill: #174EA6;\n",
              "    }\n",
              "\n",
              "    .colab-df-buttons div {\n",
              "      margin-bottom: 4px;\n",
              "    }\n",
              "\n",
              "    [theme=dark] .colab-df-convert {\n",
              "      background-color: #3B4455;\n",
              "      fill: #D2E3FC;\n",
              "    }\n",
              "\n",
              "    [theme=dark] .colab-df-convert:hover {\n",
              "      background-color: #434B5C;\n",
              "      box-shadow: 0px 1px 3px 1px rgba(0, 0, 0, 0.15);\n",
              "      filter: drop-shadow(0px 1px 2px rgba(0, 0, 0, 0.3));\n",
              "      fill: #FFFFFF;\n",
              "    }\n",
              "  </style>\n",
              "\n",
              "    <script>\n",
              "      const buttonEl =\n",
              "        document.querySelector('#df-599d5568-287e-4231-83b0-7b607929d575 button.colab-df-convert');\n",
              "      buttonEl.style.display =\n",
              "        google.colab.kernel.accessAllowed ? 'block' : 'none';\n",
              "\n",
              "      async function convertToInteractive(key) {\n",
              "        const element = document.querySelector('#df-599d5568-287e-4231-83b0-7b607929d575');\n",
              "        const dataTable =\n",
              "          await google.colab.kernel.invokeFunction('convertToInteractive',\n",
              "                                                    [key], {});\n",
              "        if (!dataTable) return;\n",
              "\n",
              "        const docLinkHtml = 'Like what you see? Visit the ' +\n",
              "          '<a target=\"_blank\" href=https://colab.research.google.com/notebooks/data_table.ipynb>data table notebook</a>'\n",
              "          + ' to learn more about interactive tables.';\n",
              "        element.innerHTML = '';\n",
              "        dataTable['output_type'] = 'display_data';\n",
              "        await google.colab.output.renderOutput(dataTable, element);\n",
              "        const docLink = document.createElement('div');\n",
              "        docLink.innerHTML = docLinkHtml;\n",
              "        element.appendChild(docLink);\n",
              "      }\n",
              "    </script>\n",
              "  </div>\n",
              "\n",
              "\n",
              "<div id=\"df-a928c39e-e884-433d-87c5-8fd3477979a2\">\n",
              "  <button class=\"colab-df-quickchart\" onclick=\"quickchart('df-a928c39e-e884-433d-87c5-8fd3477979a2')\"\n",
              "            title=\"Suggest charts\"\n",
              "            style=\"display:none;\">\n",
              "\n",
              "<svg xmlns=\"http://www.w3.org/2000/svg\" height=\"24px\"viewBox=\"0 0 24 24\"\n",
              "     width=\"24px\">\n",
              "    <g>\n",
              "        <path d=\"M19 3H5c-1.1 0-2 .9-2 2v14c0 1.1.9 2 2 2h14c1.1 0 2-.9 2-2V5c0-1.1-.9-2-2-2zM9 17H7v-7h2v7zm4 0h-2V7h2v10zm4 0h-2v-4h2v4z\"/>\n",
              "    </g>\n",
              "</svg>\n",
              "  </button>\n",
              "\n",
              "<style>\n",
              "  .colab-df-quickchart {\n",
              "      --bg-color: #E8F0FE;\n",
              "      --fill-color: #1967D2;\n",
              "      --hover-bg-color: #E2EBFA;\n",
              "      --hover-fill-color: #174EA6;\n",
              "      --disabled-fill-color: #AAA;\n",
              "      --disabled-bg-color: #DDD;\n",
              "  }\n",
              "\n",
              "  [theme=dark] .colab-df-quickchart {\n",
              "      --bg-color: #3B4455;\n",
              "      --fill-color: #D2E3FC;\n",
              "      --hover-bg-color: #434B5C;\n",
              "      --hover-fill-color: #FFFFFF;\n",
              "      --disabled-bg-color: #3B4455;\n",
              "      --disabled-fill-color: #666;\n",
              "  }\n",
              "\n",
              "  .colab-df-quickchart {\n",
              "    background-color: var(--bg-color);\n",
              "    border: none;\n",
              "    border-radius: 50%;\n",
              "    cursor: pointer;\n",
              "    display: none;\n",
              "    fill: var(--fill-color);\n",
              "    height: 32px;\n",
              "    padding: 0;\n",
              "    width: 32px;\n",
              "  }\n",
              "\n",
              "  .colab-df-quickchart:hover {\n",
              "    background-color: var(--hover-bg-color);\n",
              "    box-shadow: 0 1px 2px rgba(60, 64, 67, 0.3), 0 1px 3px 1px rgba(60, 64, 67, 0.15);\n",
              "    fill: var(--button-hover-fill-color);\n",
              "  }\n",
              "\n",
              "  .colab-df-quickchart-complete:disabled,\n",
              "  .colab-df-quickchart-complete:disabled:hover {\n",
              "    background-color: var(--disabled-bg-color);\n",
              "    fill: var(--disabled-fill-color);\n",
              "    box-shadow: none;\n",
              "  }\n",
              "\n",
              "  .colab-df-spinner {\n",
              "    border: 2px solid var(--fill-color);\n",
              "    border-color: transparent;\n",
              "    border-bottom-color: var(--fill-color);\n",
              "    animation:\n",
              "      spin 1s steps(1) infinite;\n",
              "  }\n",
              "\n",
              "  @keyframes spin {\n",
              "    0% {\n",
              "      border-color: transparent;\n",
              "      border-bottom-color: var(--fill-color);\n",
              "      border-left-color: var(--fill-color);\n",
              "    }\n",
              "    20% {\n",
              "      border-color: transparent;\n",
              "      border-left-color: var(--fill-color);\n",
              "      border-top-color: var(--fill-color);\n",
              "    }\n",
              "    30% {\n",
              "      border-color: transparent;\n",
              "      border-left-color: var(--fill-color);\n",
              "      border-top-color: var(--fill-color);\n",
              "      border-right-color: var(--fill-color);\n",
              "    }\n",
              "    40% {\n",
              "      border-color: transparent;\n",
              "      border-right-color: var(--fill-color);\n",
              "      border-top-color: var(--fill-color);\n",
              "    }\n",
              "    60% {\n",
              "      border-color: transparent;\n",
              "      border-right-color: var(--fill-color);\n",
              "    }\n",
              "    80% {\n",
              "      border-color: transparent;\n",
              "      border-right-color: var(--fill-color);\n",
              "      border-bottom-color: var(--fill-color);\n",
              "    }\n",
              "    90% {\n",
              "      border-color: transparent;\n",
              "      border-bottom-color: var(--fill-color);\n",
              "    }\n",
              "  }\n",
              "</style>\n",
              "\n",
              "  <script>\n",
              "    async function quickchart(key) {\n",
              "      const quickchartButtonEl =\n",
              "        document.querySelector('#' + key + ' button');\n",
              "      quickchartButtonEl.disabled = true;  // To prevent multiple clicks.\n",
              "      quickchartButtonEl.classList.add('colab-df-spinner');\n",
              "      try {\n",
              "        const charts = await google.colab.kernel.invokeFunction(\n",
              "            'suggestCharts', [key], {});\n",
              "      } catch (error) {\n",
              "        console.error('Error during call to suggestCharts:', error);\n",
              "      }\n",
              "      quickchartButtonEl.classList.remove('colab-df-spinner');\n",
              "      quickchartButtonEl.classList.add('colab-df-quickchart-complete');\n",
              "    }\n",
              "    (() => {\n",
              "      let quickchartButtonEl =\n",
              "        document.querySelector('#df-a928c39e-e884-433d-87c5-8fd3477979a2 button');\n",
              "      quickchartButtonEl.style.display =\n",
              "        google.colab.kernel.accessAllowed ? 'block' : 'none';\n",
              "    })();\n",
              "  </script>\n",
              "</div>\n",
              "\n",
              "    </div>\n",
              "  </div>\n"
            ],
            "application/vnd.google.colaboratory.intrinsic+json": {
              "type": "dataframe",
              "variable_name": "x",
              "summary": "{\n  \"name\": \"x\",\n  \"rows\": 1338,\n  \"fields\": [\n    {\n      \"column\": \"age\",\n      \"properties\": {\n        \"dtype\": \"number\",\n        \"std\": 14,\n        \"min\": 18,\n        \"max\": 64,\n        \"num_unique_values\": 47,\n        \"samples\": [\n          21,\n          45,\n          36\n        ],\n        \"semantic_type\": \"\",\n        \"description\": \"\"\n      }\n    },\n    {\n      \"column\": \"sex\",\n      \"properties\": {\n        \"dtype\": \"number\",\n        \"std\": 0,\n        \"min\": 0,\n        \"max\": 1,\n        \"num_unique_values\": 2,\n        \"samples\": [\n          1,\n          0\n        ],\n        \"semantic_type\": \"\",\n        \"description\": \"\"\n      }\n    },\n    {\n      \"column\": \"bmi\",\n      \"properties\": {\n        \"dtype\": \"number\",\n        \"std\": 6.098186911679014,\n        \"min\": 15.96,\n        \"max\": 53.13,\n        \"num_unique_values\": 548,\n        \"samples\": [\n          23.18,\n          26.885\n        ],\n        \"semantic_type\": \"\",\n        \"description\": \"\"\n      }\n    },\n    {\n      \"column\": \"children\",\n      \"properties\": {\n        \"dtype\": \"number\",\n        \"std\": 1,\n        \"min\": 0,\n        \"max\": 5,\n        \"num_unique_values\": 6,\n        \"samples\": [\n          0,\n          1\n        ],\n        \"semantic_type\": \"\",\n        \"description\": \"\"\n      }\n    },\n    {\n      \"column\": \"smoker\",\n      \"properties\": {\n        \"dtype\": \"number\",\n        \"std\": 0,\n        \"min\": 0,\n        \"max\": 1,\n        \"num_unique_values\": 2,\n        \"samples\": [\n          0,\n          1\n        ],\n        \"semantic_type\": \"\",\n        \"description\": \"\"\n      }\n    },\n    {\n      \"column\": \"region_northeast\",\n      \"properties\": {\n        \"dtype\": \"number\",\n        \"std\": 0,\n        \"min\": 0,\n        \"max\": 1,\n        \"num_unique_values\": 2,\n        \"samples\": [\n          1,\n          0\n        ],\n        \"semantic_type\": \"\",\n        \"description\": \"\"\n      }\n    },\n    {\n      \"column\": \"region_northwest\",\n      \"properties\": {\n        \"dtype\": \"number\",\n        \"std\": 0,\n        \"min\": 0,\n        \"max\": 1,\n        \"num_unique_values\": 2,\n        \"samples\": [\n          1,\n          0\n        ],\n        \"semantic_type\": \"\",\n        \"description\": \"\"\n      }\n    },\n    {\n      \"column\": \"region_southeast\",\n      \"properties\": {\n        \"dtype\": \"number\",\n        \"std\": 0,\n        \"min\": 0,\n        \"max\": 1,\n        \"num_unique_values\": 2,\n        \"samples\": [\n          1,\n          0\n        ],\n        \"semantic_type\": \"\",\n        \"description\": \"\"\n      }\n    },\n    {\n      \"column\": \"region_southwest\",\n      \"properties\": {\n        \"dtype\": \"number\",\n        \"std\": 0,\n        \"min\": 0,\n        \"max\": 1,\n        \"num_unique_values\": 2,\n        \"samples\": [\n          0,\n          1\n        ],\n        \"semantic_type\": \"\",\n        \"description\": \"\"\n      }\n    }\n  ]\n}"
            }
          },
          "metadata": {},
          "execution_count": 126
        }
      ],
      "source": [
        "x.head()"
      ]
    },
    {
      "cell_type": "code",
      "execution_count": 127,
      "id": "6af2dca7",
      "metadata": {
        "colab": {
          "base_uri": "https://localhost:8080/",
          "height": 241
        },
        "id": "6af2dca7",
        "outputId": "f1ad2fe3-70fb-4409-91fa-f824ec2fe488"
      },
      "outputs": [
        {
          "output_type": "execute_result",
          "data": {
            "text/plain": [
              "0    16884.92400\n",
              "1     1725.55230\n",
              "2     4449.46200\n",
              "3    21984.47061\n",
              "4     3866.85520\n",
              "Name: charges, dtype: float64"
            ],
            "text/html": [
              "<table border=\"1\" class=\"dataframe\">\n",
              "  <thead>\n",
              "    <tr style=\"text-align: right;\">\n",
              "      <th></th>\n",
              "      <th>charges</th>\n",
              "    </tr>\n",
              "  </thead>\n",
              "  <tbody>\n",
              "    <tr>\n",
              "      <th>0</th>\n",
              "      <td>16884.92400</td>\n",
              "    </tr>\n",
              "    <tr>\n",
              "      <th>1</th>\n",
              "      <td>1725.55230</td>\n",
              "    </tr>\n",
              "    <tr>\n",
              "      <th>2</th>\n",
              "      <td>4449.46200</td>\n",
              "    </tr>\n",
              "    <tr>\n",
              "      <th>3</th>\n",
              "      <td>21984.47061</td>\n",
              "    </tr>\n",
              "    <tr>\n",
              "      <th>4</th>\n",
              "      <td>3866.85520</td>\n",
              "    </tr>\n",
              "  </tbody>\n",
              "</table><br><label><b>dtype:</b> float64</label>"
            ]
          },
          "metadata": {},
          "execution_count": 127
        }
      ],
      "source": [
        "y.head()"
      ]
    },
    {
      "cell_type": "code",
      "execution_count": 139,
      "id": "2555911e",
      "metadata": {
        "colab": {
          "base_uri": "https://localhost:8080/"
        },
        "id": "2555911e",
        "outputId": "6c9bcbff-4c5b-48f1-f19b-24ff029196b7"
      },
      "outputs": [
        {
          "output_type": "execute_result",
          "data": {
            "text/plain": [
              "((1338, 9), (1338,))"
            ]
          },
          "metadata": {},
          "execution_count": 139
        }
      ],
      "source": [
        "x.shape, y.shape"
      ]
    },
    {
      "cell_type": "code",
      "execution_count": 138,
      "id": "9i3J5yh-fjb5",
      "metadata": {
        "colab": {
          "base_uri": "https://localhost:8080/"
        },
        "id": "9i3J5yh-fjb5",
        "outputId": "b4d4249d-4b2e-4754-db91-64dd6d988696"
      },
      "outputs": [
        {
          "output_type": "stream",
          "name": "stdout",
          "text": [
            "1070 treinamento + 268 teste\n"
          ]
        }
      ],
      "source": [
        "x_train, x_test, y_train, y_test = train_test_split(x, y, test_size=0.2, random_state=42)\n",
        "print(len(x_train), \"treinamento +\", len(x_test), \"teste\")"
      ]
    },
    {
      "cell_type": "markdown",
      "id": "_HWHMs5Ugl0Z",
      "metadata": {
        "id": "_HWHMs5Ugl0Z"
      },
      "source": [
        "## Criando modelo"
      ]
    },
    {
      "cell_type": "code",
      "execution_count": 140,
      "id": "Sdb4xlSMf4Td",
      "metadata": {
        "colab": {
          "base_uri": "https://localhost:8080/",
          "height": 74
        },
        "id": "Sdb4xlSMf4Td",
        "outputId": "36422021-e9a5-40b3-a45c-3f97daca15bd"
      },
      "outputs": [
        {
          "output_type": "execute_result",
          "data": {
            "text/plain": [
              "LinearRegression(n_jobs=-1)"
            ],
            "text/html": [
              "<style>#sk-container-id-8 {color: black;}#sk-container-id-8 pre{padding: 0;}#sk-container-id-8 div.sk-toggleable {background-color: white;}#sk-container-id-8 label.sk-toggleable__label {cursor: pointer;display: block;width: 100%;margin-bottom: 0;padding: 0.3em;box-sizing: border-box;text-align: center;}#sk-container-id-8 label.sk-toggleable__label-arrow:before {content: \"▸\";float: left;margin-right: 0.25em;color: #696969;}#sk-container-id-8 label.sk-toggleable__label-arrow:hover:before {color: black;}#sk-container-id-8 div.sk-estimator:hover label.sk-toggleable__label-arrow:before {color: black;}#sk-container-id-8 div.sk-toggleable__content {max-height: 0;max-width: 0;overflow: hidden;text-align: left;background-color: #f0f8ff;}#sk-container-id-8 div.sk-toggleable__content pre {margin: 0.2em;color: black;border-radius: 0.25em;background-color: #f0f8ff;}#sk-container-id-8 input.sk-toggleable__control:checked~div.sk-toggleable__content {max-height: 200px;max-width: 100%;overflow: auto;}#sk-container-id-8 input.sk-toggleable__control:checked~label.sk-toggleable__label-arrow:before {content: \"▾\";}#sk-container-id-8 div.sk-estimator input.sk-toggleable__control:checked~label.sk-toggleable__label {background-color: #d4ebff;}#sk-container-id-8 div.sk-label input.sk-toggleable__control:checked~label.sk-toggleable__label {background-color: #d4ebff;}#sk-container-id-8 input.sk-hidden--visually {border: 0;clip: rect(1px 1px 1px 1px);clip: rect(1px, 1px, 1px, 1px);height: 1px;margin: -1px;overflow: hidden;padding: 0;position: absolute;width: 1px;}#sk-container-id-8 div.sk-estimator {font-family: monospace;background-color: #f0f8ff;border: 1px dotted black;border-radius: 0.25em;box-sizing: border-box;margin-bottom: 0.5em;}#sk-container-id-8 div.sk-estimator:hover {background-color: #d4ebff;}#sk-container-id-8 div.sk-parallel-item::after {content: \"\";width: 100%;border-bottom: 1px solid gray;flex-grow: 1;}#sk-container-id-8 div.sk-label:hover label.sk-toggleable__label {background-color: #d4ebff;}#sk-container-id-8 div.sk-serial::before {content: \"\";position: absolute;border-left: 1px solid gray;box-sizing: border-box;top: 0;bottom: 0;left: 50%;z-index: 0;}#sk-container-id-8 div.sk-serial {display: flex;flex-direction: column;align-items: center;background-color: white;padding-right: 0.2em;padding-left: 0.2em;position: relative;}#sk-container-id-8 div.sk-item {position: relative;z-index: 1;}#sk-container-id-8 div.sk-parallel {display: flex;align-items: stretch;justify-content: center;background-color: white;position: relative;}#sk-container-id-8 div.sk-item::before, #sk-container-id-8 div.sk-parallel-item::before {content: \"\";position: absolute;border-left: 1px solid gray;box-sizing: border-box;top: 0;bottom: 0;left: 50%;z-index: -1;}#sk-container-id-8 div.sk-parallel-item {display: flex;flex-direction: column;z-index: 1;position: relative;background-color: white;}#sk-container-id-8 div.sk-parallel-item:first-child::after {align-self: flex-end;width: 50%;}#sk-container-id-8 div.sk-parallel-item:last-child::after {align-self: flex-start;width: 50%;}#sk-container-id-8 div.sk-parallel-item:only-child::after {width: 0;}#sk-container-id-8 div.sk-dashed-wrapped {border: 1px dashed gray;margin: 0 0.4em 0.5em 0.4em;box-sizing: border-box;padding-bottom: 0.4em;background-color: white;}#sk-container-id-8 div.sk-label label {font-family: monospace;font-weight: bold;display: inline-block;line-height: 1.2em;}#sk-container-id-8 div.sk-label-container {text-align: center;}#sk-container-id-8 div.sk-container {/* jupyter's `normalize.less` sets `[hidden] { display: none; }` but bootstrap.min.css set `[hidden] { display: none !important; }` so we also need the `!important` here to be able to override the default hidden behavior on the sphinx rendered scikit-learn.org. See: https://github.com/scikit-learn/scikit-learn/issues/21755 */display: inline-block !important;position: relative;}#sk-container-id-8 div.sk-text-repr-fallback {display: none;}</style><div id=\"sk-container-id-8\" class=\"sk-top-container\"><div class=\"sk-text-repr-fallback\"><pre>LinearRegression(n_jobs=-1)</pre><b>In a Jupyter environment, please rerun this cell to show the HTML representation or trust the notebook. <br />On GitHub, the HTML representation is unable to render, please try loading this page with nbviewer.org.</b></div><div class=\"sk-container\" hidden><div class=\"sk-item\"><div class=\"sk-estimator sk-toggleable\"><input class=\"sk-toggleable__control sk-hidden--visually\" id=\"sk-estimator-id-8\" type=\"checkbox\" checked><label for=\"sk-estimator-id-8\" class=\"sk-toggleable__label sk-toggleable__label-arrow\">LinearRegression</label><div class=\"sk-toggleable__content\"><pre>LinearRegression(n_jobs=-1)</pre></div></div></div></div></div>"
            ]
          },
          "metadata": {},
          "execution_count": 140
        }
      ],
      "source": [
        "model = LinearRegression(n_jobs=-1)\n",
        "model.fit(x_train, y_train)"
      ]
    },
    {
      "cell_type": "code",
      "execution_count": 141,
      "id": "v0uGs-GQgs7b",
      "metadata": {
        "id": "v0uGs-GQgs7b"
      },
      "outputs": [],
      "source": [
        "y_predictions = model.predict(x_test)"
      ]
    },
    {
      "cell_type": "markdown",
      "id": "KfkZmgoxg0__",
      "metadata": {
        "id": "KfkZmgoxg0__"
      },
      "source": [
        "## Avaliando performance"
      ]
    },
    {
      "cell_type": "code",
      "execution_count": 146,
      "id": "Q4mCu6rigzNz",
      "metadata": {
        "colab": {
          "base_uri": "https://localhost:8080/"
        },
        "id": "Q4mCu6rigzNz",
        "outputId": "1b0bded6-9ac3-442b-d74a-deddb7b4893a"
      },
      "outputs": [
        {
          "output_type": "stream",
          "name": "stdout",
          "text": [
            "Mean Square Error: 33596915.851361\n",
            "Mean Absolute Error: 4181.194474\n",
            "R² (determination coefficient): 0.783593\n"
          ]
        }
      ],
      "source": [
        "print_model_stats(y_test, y_predictions)"
      ]
    },
    {
      "cell_type": "markdown",
      "source": [
        "# Árvore de regressão - divisão dos dados para treino e teste\n",
        "\n",
        "usando todas colunas - variáveis independentes, para avaliar com uma árvore de regressão"
      ],
      "metadata": {
        "id": "MkoRZngyl1x1"
      },
      "id": "MkoRZngyl1x1"
    },
    {
      "cell_type": "code",
      "execution_count": 147,
      "metadata": {
        "id": "IXtyU1vzmGya"
      },
      "outputs": [],
      "source": [
        "x = dados.drop(columns=['charges'])\n",
        "y = dados['charges'] # Target"
      ],
      "id": "IXtyU1vzmGya"
    },
    {
      "cell_type": "code",
      "execution_count": 148,
      "metadata": {
        "colab": {
          "base_uri": "https://localhost:8080/",
          "height": 206
        },
        "outputId": "755a847a-cb8b-42b5-db92-a1e0ef2f1a58",
        "id": "_AEDXciMmGyb"
      },
      "outputs": [
        {
          "output_type": "execute_result",
          "data": {
            "text/plain": [
              "   age  sex     bmi  children  smoker  region_northeast  region_northwest  \\\n",
              "0   19    0  27.900         0       1                 0                 0   \n",
              "1   18    1  33.770         1       0                 0                 0   \n",
              "2   28    1  33.000         3       0                 0                 0   \n",
              "3   33    1  22.705         0       0                 0                 1   \n",
              "4   32    1  28.880         0       0                 0                 1   \n",
              "\n",
              "   region_southeast  region_southwest  \n",
              "0                 0                 1  \n",
              "1                 1                 0  \n",
              "2                 1                 0  \n",
              "3                 0                 0  \n",
              "4                 0                 0  "
            ],
            "text/html": [
              "\n",
              "  <div id=\"df-3334c988-7ea8-4c7b-8f85-57ec6d82cb31\" class=\"colab-df-container\">\n",
              "    <div>\n",
              "<style scoped>\n",
              "    .dataframe tbody tr th:only-of-type {\n",
              "        vertical-align: middle;\n",
              "    }\n",
              "\n",
              "    .dataframe tbody tr th {\n",
              "        vertical-align: top;\n",
              "    }\n",
              "\n",
              "    .dataframe thead th {\n",
              "        text-align: right;\n",
              "    }\n",
              "</style>\n",
              "<table border=\"1\" class=\"dataframe\">\n",
              "  <thead>\n",
              "    <tr style=\"text-align: right;\">\n",
              "      <th></th>\n",
              "      <th>age</th>\n",
              "      <th>sex</th>\n",
              "      <th>bmi</th>\n",
              "      <th>children</th>\n",
              "      <th>smoker</th>\n",
              "      <th>region_northeast</th>\n",
              "      <th>region_northwest</th>\n",
              "      <th>region_southeast</th>\n",
              "      <th>region_southwest</th>\n",
              "    </tr>\n",
              "  </thead>\n",
              "  <tbody>\n",
              "    <tr>\n",
              "      <th>0</th>\n",
              "      <td>19</td>\n",
              "      <td>0</td>\n",
              "      <td>27.900</td>\n",
              "      <td>0</td>\n",
              "      <td>1</td>\n",
              "      <td>0</td>\n",
              "      <td>0</td>\n",
              "      <td>0</td>\n",
              "      <td>1</td>\n",
              "    </tr>\n",
              "    <tr>\n",
              "      <th>1</th>\n",
              "      <td>18</td>\n",
              "      <td>1</td>\n",
              "      <td>33.770</td>\n",
              "      <td>1</td>\n",
              "      <td>0</td>\n",
              "      <td>0</td>\n",
              "      <td>0</td>\n",
              "      <td>1</td>\n",
              "      <td>0</td>\n",
              "    </tr>\n",
              "    <tr>\n",
              "      <th>2</th>\n",
              "      <td>28</td>\n",
              "      <td>1</td>\n",
              "      <td>33.000</td>\n",
              "      <td>3</td>\n",
              "      <td>0</td>\n",
              "      <td>0</td>\n",
              "      <td>0</td>\n",
              "      <td>1</td>\n",
              "      <td>0</td>\n",
              "    </tr>\n",
              "    <tr>\n",
              "      <th>3</th>\n",
              "      <td>33</td>\n",
              "      <td>1</td>\n",
              "      <td>22.705</td>\n",
              "      <td>0</td>\n",
              "      <td>0</td>\n",
              "      <td>0</td>\n",
              "      <td>1</td>\n",
              "      <td>0</td>\n",
              "      <td>0</td>\n",
              "    </tr>\n",
              "    <tr>\n",
              "      <th>4</th>\n",
              "      <td>32</td>\n",
              "      <td>1</td>\n",
              "      <td>28.880</td>\n",
              "      <td>0</td>\n",
              "      <td>0</td>\n",
              "      <td>0</td>\n",
              "      <td>1</td>\n",
              "      <td>0</td>\n",
              "      <td>0</td>\n",
              "    </tr>\n",
              "  </tbody>\n",
              "</table>\n",
              "</div>\n",
              "    <div class=\"colab-df-buttons\">\n",
              "\n",
              "  <div class=\"colab-df-container\">\n",
              "    <button class=\"colab-df-convert\" onclick=\"convertToInteractive('df-3334c988-7ea8-4c7b-8f85-57ec6d82cb31')\"\n",
              "            title=\"Convert this dataframe to an interactive table.\"\n",
              "            style=\"display:none;\">\n",
              "\n",
              "  <svg xmlns=\"http://www.w3.org/2000/svg\" height=\"24px\" viewBox=\"0 -960 960 960\">\n",
              "    <path d=\"M120-120v-720h720v720H120Zm60-500h600v-160H180v160Zm220 220h160v-160H400v160Zm0 220h160v-160H400v160ZM180-400h160v-160H180v160Zm440 0h160v-160H620v160ZM180-180h160v-160H180v160Zm440 0h160v-160H620v160Z\"/>\n",
              "  </svg>\n",
              "    </button>\n",
              "\n",
              "  <style>\n",
              "    .colab-df-container {\n",
              "      display:flex;\n",
              "      gap: 12px;\n",
              "    }\n",
              "\n",
              "    .colab-df-convert {\n",
              "      background-color: #E8F0FE;\n",
              "      border: none;\n",
              "      border-radius: 50%;\n",
              "      cursor: pointer;\n",
              "      display: none;\n",
              "      fill: #1967D2;\n",
              "      height: 32px;\n",
              "      padding: 0 0 0 0;\n",
              "      width: 32px;\n",
              "    }\n",
              "\n",
              "    .colab-df-convert:hover {\n",
              "      background-color: #E2EBFA;\n",
              "      box-shadow: 0px 1px 2px rgba(60, 64, 67, 0.3), 0px 1px 3px 1px rgba(60, 64, 67, 0.15);\n",
              "      fill: #174EA6;\n",
              "    }\n",
              "\n",
              "    .colab-df-buttons div {\n",
              "      margin-bottom: 4px;\n",
              "    }\n",
              "\n",
              "    [theme=dark] .colab-df-convert {\n",
              "      background-color: #3B4455;\n",
              "      fill: #D2E3FC;\n",
              "    }\n",
              "\n",
              "    [theme=dark] .colab-df-convert:hover {\n",
              "      background-color: #434B5C;\n",
              "      box-shadow: 0px 1px 3px 1px rgba(0, 0, 0, 0.15);\n",
              "      filter: drop-shadow(0px 1px 2px rgba(0, 0, 0, 0.3));\n",
              "      fill: #FFFFFF;\n",
              "    }\n",
              "  </style>\n",
              "\n",
              "    <script>\n",
              "      const buttonEl =\n",
              "        document.querySelector('#df-3334c988-7ea8-4c7b-8f85-57ec6d82cb31 button.colab-df-convert');\n",
              "      buttonEl.style.display =\n",
              "        google.colab.kernel.accessAllowed ? 'block' : 'none';\n",
              "\n",
              "      async function convertToInteractive(key) {\n",
              "        const element = document.querySelector('#df-3334c988-7ea8-4c7b-8f85-57ec6d82cb31');\n",
              "        const dataTable =\n",
              "          await google.colab.kernel.invokeFunction('convertToInteractive',\n",
              "                                                    [key], {});\n",
              "        if (!dataTable) return;\n",
              "\n",
              "        const docLinkHtml = 'Like what you see? Visit the ' +\n",
              "          '<a target=\"_blank\" href=https://colab.research.google.com/notebooks/data_table.ipynb>data table notebook</a>'\n",
              "          + ' to learn more about interactive tables.';\n",
              "        element.innerHTML = '';\n",
              "        dataTable['output_type'] = 'display_data';\n",
              "        await google.colab.output.renderOutput(dataTable, element);\n",
              "        const docLink = document.createElement('div');\n",
              "        docLink.innerHTML = docLinkHtml;\n",
              "        element.appendChild(docLink);\n",
              "      }\n",
              "    </script>\n",
              "  </div>\n",
              "\n",
              "\n",
              "<div id=\"df-93a76421-31cd-4332-b067-391bef69b84e\">\n",
              "  <button class=\"colab-df-quickchart\" onclick=\"quickchart('df-93a76421-31cd-4332-b067-391bef69b84e')\"\n",
              "            title=\"Suggest charts\"\n",
              "            style=\"display:none;\">\n",
              "\n",
              "<svg xmlns=\"http://www.w3.org/2000/svg\" height=\"24px\"viewBox=\"0 0 24 24\"\n",
              "     width=\"24px\">\n",
              "    <g>\n",
              "        <path d=\"M19 3H5c-1.1 0-2 .9-2 2v14c0 1.1.9 2 2 2h14c1.1 0 2-.9 2-2V5c0-1.1-.9-2-2-2zM9 17H7v-7h2v7zm4 0h-2V7h2v10zm4 0h-2v-4h2v4z\"/>\n",
              "    </g>\n",
              "</svg>\n",
              "  </button>\n",
              "\n",
              "<style>\n",
              "  .colab-df-quickchart {\n",
              "      --bg-color: #E8F0FE;\n",
              "      --fill-color: #1967D2;\n",
              "      --hover-bg-color: #E2EBFA;\n",
              "      --hover-fill-color: #174EA6;\n",
              "      --disabled-fill-color: #AAA;\n",
              "      --disabled-bg-color: #DDD;\n",
              "  }\n",
              "\n",
              "  [theme=dark] .colab-df-quickchart {\n",
              "      --bg-color: #3B4455;\n",
              "      --fill-color: #D2E3FC;\n",
              "      --hover-bg-color: #434B5C;\n",
              "      --hover-fill-color: #FFFFFF;\n",
              "      --disabled-bg-color: #3B4455;\n",
              "      --disabled-fill-color: #666;\n",
              "  }\n",
              "\n",
              "  .colab-df-quickchart {\n",
              "    background-color: var(--bg-color);\n",
              "    border: none;\n",
              "    border-radius: 50%;\n",
              "    cursor: pointer;\n",
              "    display: none;\n",
              "    fill: var(--fill-color);\n",
              "    height: 32px;\n",
              "    padding: 0;\n",
              "    width: 32px;\n",
              "  }\n",
              "\n",
              "  .colab-df-quickchart:hover {\n",
              "    background-color: var(--hover-bg-color);\n",
              "    box-shadow: 0 1px 2px rgba(60, 64, 67, 0.3), 0 1px 3px 1px rgba(60, 64, 67, 0.15);\n",
              "    fill: var(--button-hover-fill-color);\n",
              "  }\n",
              "\n",
              "  .colab-df-quickchart-complete:disabled,\n",
              "  .colab-df-quickchart-complete:disabled:hover {\n",
              "    background-color: var(--disabled-bg-color);\n",
              "    fill: var(--disabled-fill-color);\n",
              "    box-shadow: none;\n",
              "  }\n",
              "\n",
              "  .colab-df-spinner {\n",
              "    border: 2px solid var(--fill-color);\n",
              "    border-color: transparent;\n",
              "    border-bottom-color: var(--fill-color);\n",
              "    animation:\n",
              "      spin 1s steps(1) infinite;\n",
              "  }\n",
              "\n",
              "  @keyframes spin {\n",
              "    0% {\n",
              "      border-color: transparent;\n",
              "      border-bottom-color: var(--fill-color);\n",
              "      border-left-color: var(--fill-color);\n",
              "    }\n",
              "    20% {\n",
              "      border-color: transparent;\n",
              "      border-left-color: var(--fill-color);\n",
              "      border-top-color: var(--fill-color);\n",
              "    }\n",
              "    30% {\n",
              "      border-color: transparent;\n",
              "      border-left-color: var(--fill-color);\n",
              "      border-top-color: var(--fill-color);\n",
              "      border-right-color: var(--fill-color);\n",
              "    }\n",
              "    40% {\n",
              "      border-color: transparent;\n",
              "      border-right-color: var(--fill-color);\n",
              "      border-top-color: var(--fill-color);\n",
              "    }\n",
              "    60% {\n",
              "      border-color: transparent;\n",
              "      border-right-color: var(--fill-color);\n",
              "    }\n",
              "    80% {\n",
              "      border-color: transparent;\n",
              "      border-right-color: var(--fill-color);\n",
              "      border-bottom-color: var(--fill-color);\n",
              "    }\n",
              "    90% {\n",
              "      border-color: transparent;\n",
              "      border-bottom-color: var(--fill-color);\n",
              "    }\n",
              "  }\n",
              "</style>\n",
              "\n",
              "  <script>\n",
              "    async function quickchart(key) {\n",
              "      const quickchartButtonEl =\n",
              "        document.querySelector('#' + key + ' button');\n",
              "      quickchartButtonEl.disabled = true;  // To prevent multiple clicks.\n",
              "      quickchartButtonEl.classList.add('colab-df-spinner');\n",
              "      try {\n",
              "        const charts = await google.colab.kernel.invokeFunction(\n",
              "            'suggestCharts', [key], {});\n",
              "      } catch (error) {\n",
              "        console.error('Error during call to suggestCharts:', error);\n",
              "      }\n",
              "      quickchartButtonEl.classList.remove('colab-df-spinner');\n",
              "      quickchartButtonEl.classList.add('colab-df-quickchart-complete');\n",
              "    }\n",
              "    (() => {\n",
              "      let quickchartButtonEl =\n",
              "        document.querySelector('#df-93a76421-31cd-4332-b067-391bef69b84e button');\n",
              "      quickchartButtonEl.style.display =\n",
              "        google.colab.kernel.accessAllowed ? 'block' : 'none';\n",
              "    })();\n",
              "  </script>\n",
              "</div>\n",
              "\n",
              "    </div>\n",
              "  </div>\n"
            ],
            "application/vnd.google.colaboratory.intrinsic+json": {
              "type": "dataframe",
              "variable_name": "x",
              "summary": "{\n  \"name\": \"x\",\n  \"rows\": 1338,\n  \"fields\": [\n    {\n      \"column\": \"age\",\n      \"properties\": {\n        \"dtype\": \"number\",\n        \"std\": 14,\n        \"min\": 18,\n        \"max\": 64,\n        \"num_unique_values\": 47,\n        \"samples\": [\n          21,\n          45,\n          36\n        ],\n        \"semantic_type\": \"\",\n        \"description\": \"\"\n      }\n    },\n    {\n      \"column\": \"sex\",\n      \"properties\": {\n        \"dtype\": \"number\",\n        \"std\": 0,\n        \"min\": 0,\n        \"max\": 1,\n        \"num_unique_values\": 2,\n        \"samples\": [\n          1,\n          0\n        ],\n        \"semantic_type\": \"\",\n        \"description\": \"\"\n      }\n    },\n    {\n      \"column\": \"bmi\",\n      \"properties\": {\n        \"dtype\": \"number\",\n        \"std\": 6.098186911679014,\n        \"min\": 15.96,\n        \"max\": 53.13,\n        \"num_unique_values\": 548,\n        \"samples\": [\n          23.18,\n          26.885\n        ],\n        \"semantic_type\": \"\",\n        \"description\": \"\"\n      }\n    },\n    {\n      \"column\": \"children\",\n      \"properties\": {\n        \"dtype\": \"number\",\n        \"std\": 1,\n        \"min\": 0,\n        \"max\": 5,\n        \"num_unique_values\": 6,\n        \"samples\": [\n          0,\n          1\n        ],\n        \"semantic_type\": \"\",\n        \"description\": \"\"\n      }\n    },\n    {\n      \"column\": \"smoker\",\n      \"properties\": {\n        \"dtype\": \"number\",\n        \"std\": 0,\n        \"min\": 0,\n        \"max\": 1,\n        \"num_unique_values\": 2,\n        \"samples\": [\n          0,\n          1\n        ],\n        \"semantic_type\": \"\",\n        \"description\": \"\"\n      }\n    },\n    {\n      \"column\": \"region_northeast\",\n      \"properties\": {\n        \"dtype\": \"number\",\n        \"std\": 0,\n        \"min\": 0,\n        \"max\": 1,\n        \"num_unique_values\": 2,\n        \"samples\": [\n          1,\n          0\n        ],\n        \"semantic_type\": \"\",\n        \"description\": \"\"\n      }\n    },\n    {\n      \"column\": \"region_northwest\",\n      \"properties\": {\n        \"dtype\": \"number\",\n        \"std\": 0,\n        \"min\": 0,\n        \"max\": 1,\n        \"num_unique_values\": 2,\n        \"samples\": [\n          1,\n          0\n        ],\n        \"semantic_type\": \"\",\n        \"description\": \"\"\n      }\n    },\n    {\n      \"column\": \"region_southeast\",\n      \"properties\": {\n        \"dtype\": \"number\",\n        \"std\": 0,\n        \"min\": 0,\n        \"max\": 1,\n        \"num_unique_values\": 2,\n        \"samples\": [\n          1,\n          0\n        ],\n        \"semantic_type\": \"\",\n        \"description\": \"\"\n      }\n    },\n    {\n      \"column\": \"region_southwest\",\n      \"properties\": {\n        \"dtype\": \"number\",\n        \"std\": 0,\n        \"min\": 0,\n        \"max\": 1,\n        \"num_unique_values\": 2,\n        \"samples\": [\n          0,\n          1\n        ],\n        \"semantic_type\": \"\",\n        \"description\": \"\"\n      }\n    }\n  ]\n}"
            }
          },
          "metadata": {},
          "execution_count": 148
        }
      ],
      "source": [
        "x.head()"
      ],
      "id": "_AEDXciMmGyb"
    },
    {
      "cell_type": "code",
      "execution_count": 149,
      "metadata": {
        "colab": {
          "base_uri": "https://localhost:8080/",
          "height": 241
        },
        "outputId": "9e344308-a5d7-4c6a-f50a-5b19cdf1c689",
        "id": "KmPsJ3sFmGyb"
      },
      "outputs": [
        {
          "output_type": "execute_result",
          "data": {
            "text/plain": [
              "0    16884.92400\n",
              "1     1725.55230\n",
              "2     4449.46200\n",
              "3    21984.47061\n",
              "4     3866.85520\n",
              "Name: charges, dtype: float64"
            ],
            "text/html": [
              "<table border=\"1\" class=\"dataframe\">\n",
              "  <thead>\n",
              "    <tr style=\"text-align: right;\">\n",
              "      <th></th>\n",
              "      <th>charges</th>\n",
              "    </tr>\n",
              "  </thead>\n",
              "  <tbody>\n",
              "    <tr>\n",
              "      <th>0</th>\n",
              "      <td>16884.92400</td>\n",
              "    </tr>\n",
              "    <tr>\n",
              "      <th>1</th>\n",
              "      <td>1725.55230</td>\n",
              "    </tr>\n",
              "    <tr>\n",
              "      <th>2</th>\n",
              "      <td>4449.46200</td>\n",
              "    </tr>\n",
              "    <tr>\n",
              "      <th>3</th>\n",
              "      <td>21984.47061</td>\n",
              "    </tr>\n",
              "    <tr>\n",
              "      <th>4</th>\n",
              "      <td>3866.85520</td>\n",
              "    </tr>\n",
              "  </tbody>\n",
              "</table><br><label><b>dtype:</b> float64</label>"
            ]
          },
          "metadata": {},
          "execution_count": 149
        }
      ],
      "source": [
        "y.head()"
      ],
      "id": "KmPsJ3sFmGyb"
    },
    {
      "cell_type": "code",
      "execution_count": 150,
      "metadata": {
        "colab": {
          "base_uri": "https://localhost:8080/"
        },
        "outputId": "490eea3d-b5df-4e24-c14d-6b901c18d122",
        "id": "Bv80AJDQmGyb"
      },
      "outputs": [
        {
          "output_type": "execute_result",
          "data": {
            "text/plain": [
              "((1338, 9), (1338,))"
            ]
          },
          "metadata": {},
          "execution_count": 150
        }
      ],
      "source": [
        "x.shape, y.shape"
      ],
      "id": "Bv80AJDQmGyb"
    },
    {
      "cell_type": "code",
      "execution_count": 151,
      "metadata": {
        "colab": {
          "base_uri": "https://localhost:8080/"
        },
        "outputId": "b24cc577-58a9-4a99-bd90-946d8cfbea65",
        "id": "OCTMVKzmmGyb"
      },
      "outputs": [
        {
          "output_type": "stream",
          "name": "stdout",
          "text": [
            "1070 treinamento + 268 teste\n"
          ]
        }
      ],
      "source": [
        "x_train, x_test, y_train, y_test = train_test_split(x, y, test_size=0.2, random_state=42)\n",
        "print(len(x_train), \"treinamento +\", len(x_test), \"teste\")"
      ],
      "id": "OCTMVKzmmGyb"
    },
    {
      "cell_type": "markdown",
      "metadata": {
        "id": "T1ALLMe3mVdv"
      },
      "source": [
        "## Criando modelo"
      ],
      "id": "T1ALLMe3mVdv"
    },
    {
      "cell_type": "code",
      "execution_count": 152,
      "metadata": {
        "colab": {
          "base_uri": "https://localhost:8080/",
          "height": 74
        },
        "outputId": "8382eb6c-9e8f-461b-e322-2c1c86d3d5c1",
        "id": "K7-jnDwhmVdv"
      },
      "outputs": [
        {
          "output_type": "execute_result",
          "data": {
            "text/plain": [
              "DecisionTreeRegressor()"
            ],
            "text/html": [
              "<style>#sk-container-id-9 {color: black;}#sk-container-id-9 pre{padding: 0;}#sk-container-id-9 div.sk-toggleable {background-color: white;}#sk-container-id-9 label.sk-toggleable__label {cursor: pointer;display: block;width: 100%;margin-bottom: 0;padding: 0.3em;box-sizing: border-box;text-align: center;}#sk-container-id-9 label.sk-toggleable__label-arrow:before {content: \"▸\";float: left;margin-right: 0.25em;color: #696969;}#sk-container-id-9 label.sk-toggleable__label-arrow:hover:before {color: black;}#sk-container-id-9 div.sk-estimator:hover label.sk-toggleable__label-arrow:before {color: black;}#sk-container-id-9 div.sk-toggleable__content {max-height: 0;max-width: 0;overflow: hidden;text-align: left;background-color: #f0f8ff;}#sk-container-id-9 div.sk-toggleable__content pre {margin: 0.2em;color: black;border-radius: 0.25em;background-color: #f0f8ff;}#sk-container-id-9 input.sk-toggleable__control:checked~div.sk-toggleable__content {max-height: 200px;max-width: 100%;overflow: auto;}#sk-container-id-9 input.sk-toggleable__control:checked~label.sk-toggleable__label-arrow:before {content: \"▾\";}#sk-container-id-9 div.sk-estimator input.sk-toggleable__control:checked~label.sk-toggleable__label {background-color: #d4ebff;}#sk-container-id-9 div.sk-label input.sk-toggleable__control:checked~label.sk-toggleable__label {background-color: #d4ebff;}#sk-container-id-9 input.sk-hidden--visually {border: 0;clip: rect(1px 1px 1px 1px);clip: rect(1px, 1px, 1px, 1px);height: 1px;margin: -1px;overflow: hidden;padding: 0;position: absolute;width: 1px;}#sk-container-id-9 div.sk-estimator {font-family: monospace;background-color: #f0f8ff;border: 1px dotted black;border-radius: 0.25em;box-sizing: border-box;margin-bottom: 0.5em;}#sk-container-id-9 div.sk-estimator:hover {background-color: #d4ebff;}#sk-container-id-9 div.sk-parallel-item::after {content: \"\";width: 100%;border-bottom: 1px solid gray;flex-grow: 1;}#sk-container-id-9 div.sk-label:hover label.sk-toggleable__label {background-color: #d4ebff;}#sk-container-id-9 div.sk-serial::before {content: \"\";position: absolute;border-left: 1px solid gray;box-sizing: border-box;top: 0;bottom: 0;left: 50%;z-index: 0;}#sk-container-id-9 div.sk-serial {display: flex;flex-direction: column;align-items: center;background-color: white;padding-right: 0.2em;padding-left: 0.2em;position: relative;}#sk-container-id-9 div.sk-item {position: relative;z-index: 1;}#sk-container-id-9 div.sk-parallel {display: flex;align-items: stretch;justify-content: center;background-color: white;position: relative;}#sk-container-id-9 div.sk-item::before, #sk-container-id-9 div.sk-parallel-item::before {content: \"\";position: absolute;border-left: 1px solid gray;box-sizing: border-box;top: 0;bottom: 0;left: 50%;z-index: -1;}#sk-container-id-9 div.sk-parallel-item {display: flex;flex-direction: column;z-index: 1;position: relative;background-color: white;}#sk-container-id-9 div.sk-parallel-item:first-child::after {align-self: flex-end;width: 50%;}#sk-container-id-9 div.sk-parallel-item:last-child::after {align-self: flex-start;width: 50%;}#sk-container-id-9 div.sk-parallel-item:only-child::after {width: 0;}#sk-container-id-9 div.sk-dashed-wrapped {border: 1px dashed gray;margin: 0 0.4em 0.5em 0.4em;box-sizing: border-box;padding-bottom: 0.4em;background-color: white;}#sk-container-id-9 div.sk-label label {font-family: monospace;font-weight: bold;display: inline-block;line-height: 1.2em;}#sk-container-id-9 div.sk-label-container {text-align: center;}#sk-container-id-9 div.sk-container {/* jupyter's `normalize.less` sets `[hidden] { display: none; }` but bootstrap.min.css set `[hidden] { display: none !important; }` so we also need the `!important` here to be able to override the default hidden behavior on the sphinx rendered scikit-learn.org. See: https://github.com/scikit-learn/scikit-learn/issues/21755 */display: inline-block !important;position: relative;}#sk-container-id-9 div.sk-text-repr-fallback {display: none;}</style><div id=\"sk-container-id-9\" class=\"sk-top-container\"><div class=\"sk-text-repr-fallback\"><pre>DecisionTreeRegressor()</pre><b>In a Jupyter environment, please rerun this cell to show the HTML representation or trust the notebook. <br />On GitHub, the HTML representation is unable to render, please try loading this page with nbviewer.org.</b></div><div class=\"sk-container\" hidden><div class=\"sk-item\"><div class=\"sk-estimator sk-toggleable\"><input class=\"sk-toggleable__control sk-hidden--visually\" id=\"sk-estimator-id-9\" type=\"checkbox\" checked><label for=\"sk-estimator-id-9\" class=\"sk-toggleable__label sk-toggleable__label-arrow\">DecisionTreeRegressor</label><div class=\"sk-toggleable__content\"><pre>DecisionTreeRegressor()</pre></div></div></div></div></div>"
            ]
          },
          "metadata": {},
          "execution_count": 152
        }
      ],
      "source": [
        "model = DecisionTreeRegressor()\n",
        "model.fit(x_train, y_train)"
      ],
      "id": "K7-jnDwhmVdv"
    },
    {
      "cell_type": "code",
      "source": [
        "y_predictions = model.predict(x_test)"
      ],
      "metadata": {
        "id": "DB9Nej7MmMtm"
      },
      "id": "DB9Nej7MmMtm",
      "execution_count": 153,
      "outputs": []
    },
    {
      "cell_type": "markdown",
      "metadata": {
        "id": "2QEWbLO-mjqT"
      },
      "source": [
        "## Avaliando performance"
      ],
      "id": "2QEWbLO-mjqT"
    },
    {
      "cell_type": "code",
      "execution_count": 154,
      "metadata": {
        "colab": {
          "base_uri": "https://localhost:8080/"
        },
        "outputId": "ba5cde3f-ed0c-450e-c969-dce98609dfd3",
        "id": "TL1bS18HmjqU"
      },
      "outputs": [
        {
          "output_type": "stream",
          "name": "stdout",
          "text": [
            "Mean Square Error: 43715262.607805\n",
            "Mean Absolute Error: 3170.861647\n",
            "R² (determination coefficient): 0.718418\n"
          ]
        }
      ],
      "source": [
        "print_model_stats(y_test, y_predictions)"
      ],
      "id": "TL1bS18HmjqU"
    }
  ],
  "metadata": {
    "colab": {
      "provenance": [],
      "toc_visible": true
    },
    "kernelspec": {
      "display_name": "Python 3 (ipykernel)",
      "language": "python",
      "name": "python3"
    },
    "language_info": {
      "codemirror_mode": {
        "name": "ipython",
        "version": 3
      },
      "file_extension": ".py",
      "mimetype": "text/x-python",
      "name": "python",
      "nbconvert_exporter": "python",
      "pygments_lexer": "ipython3",
      "version": "3.12.4"
    }
  },
  "nbformat": 4,
  "nbformat_minor": 5
}